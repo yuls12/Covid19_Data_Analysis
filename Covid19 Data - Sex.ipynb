{
 "cells": [
  {
   "cell_type": "markdown",
   "id": "attractive-letters",
   "metadata": {
    "id": "attractive-letters"
   },
   "source": [
    "#### 필요한 모듈 불러오기"
   ]
  },
  {
   "cell_type": "code",
   "execution_count": 1,
   "id": "dramatic-finding",
   "metadata": {
    "ExecuteTime": {
     "end_time": "2021-04-06T07:51:52.054106Z",
     "start_time": "2021-04-06T07:51:49.174121Z"
    },
    "executionInfo": {
     "elapsed": 3963,
     "status": "ok",
     "timestamp": 1617869302165,
     "user": {
      "displayName": "최유리",
      "photoUrl": "",
      "userId": "16723349519808453958"
     },
     "user_tz": -540
    },
    "id": "dramatic-finding"
   },
   "outputs": [],
   "source": [
    "import pandas as pd\n",
    "import numpy as np\n",
    "import seaborn as sns\n",
    "import matplotlib\n",
    "import matplotlib.pyplot as plt\n",
    "%matplotlib inline\n",
    "\n",
    "\n",
    "import warnings\n",
    "warnings.filterwarnings(action='ignore')"
   ]
  },
  {
   "cell_type": "markdown",
   "id": "active-separation",
   "metadata": {
    "id": "active-separation"
   },
   "source": [
    "#### 데이터 불러오기"
   ]
  },
  {
   "cell_type": "code",
   "execution_count": 2,
   "id": "9N6LAhGKyTbZ",
   "metadata": {
    "colab": {
     "base_uri": "https://localhost:8080/"
    },
    "executionInfo": {
     "elapsed": 59578,
     "status": "ok",
     "timestamp": 1617869357800,
     "user": {
      "displayName": "최유리",
      "photoUrl": "",
      "userId": "16723349519808453958"
     },
     "user_tz": -540
    },
    "id": "9N6LAhGKyTbZ",
    "outputId": "4dc717ce-9704-4c1a-e899-93f5d6159277"
   },
   "outputs": [
    {
     "name": "stdout",
     "output_type": "stream",
     "text": [
      "Mounted at /content/drive\n"
     ]
    }
   ],
   "source": [
    "from google.colab import drive\n",
    "drive.mount('/content/drive')"
   ]
  },
  {
   "cell_type": "code",
   "execution_count": 3,
   "id": "ranking-curtis",
   "metadata": {
    "ExecuteTime": {
     "end_time": "2021-04-06T07:51:54.885285Z",
     "start_time": "2021-04-06T07:51:54.845171Z"
    },
    "executionInfo": {
     "elapsed": 4711,
     "status": "ok",
     "timestamp": 1617869363252,
     "user": {
      "displayName": "최유리",
      "photoUrl": "",
      "userId": "16723349519808453958"
     },
     "user_tz": -540
    },
    "id": "ranking-curtis"
   },
   "outputs": [],
   "source": [
    "Patient_Info = pd.read_csv('/content/drive/MyDrive/Colab Notebooks/멋쟁이 사자처럼/과제/코로나 시각화/coronavirusdataset_20200430/PatientInfo.csv')\n",
    "time_gender = pd.read_csv('/content/drive/MyDrive/Colab Notebooks/멋쟁이 사자처럼/과제/코로나 시각화/coronavirusdataset_20200430/TimeGender.csv')\n",
    "covid_sex = pd.read_csv('/content/drive/MyDrive/covid-19_age_sex.csv', encoding='cp949')"
   ]
  },
  {
   "cell_type": "code",
   "execution_count": null,
   "id": "exterior-blanket",
   "metadata": {
    "id": "exterior-blanket"
   },
   "outputs": [],
   "source": []
  },
  {
   "cell_type": "markdown",
   "id": "cleared-compilation",
   "metadata": {
    "id": "cleared-compilation"
   },
   "source": [
    "### Patient_Info 데이터 전처리\n",
    "     날짜 : 2020/01/23 ~ 2020/04/14"
   ]
  },
  {
   "cell_type": "code",
   "execution_count": null,
   "id": "excellent-ladder",
   "metadata": {
    "ExecuteTime": {
     "end_time": "2021-04-06T07:51:57.641322Z",
     "start_time": "2021-04-06T07:51:57.613272Z"
    },
    "colab": {
     "base_uri": "https://localhost:8080/",
     "height": 281
    },
    "executionInfo": {
     "elapsed": 874,
     "status": "ok",
     "timestamp": 1617706235034,
     "user": {
      "displayName": "최유리",
      "photoUrl": "",
      "userId": "16723349519808453958"
     },
     "user_tz": -540
    },
    "id": "excellent-ladder",
    "outputId": "984a25dc-b7b2-40ac-f11f-49f1fd0918f2"
   },
   "outputs": [
    {
     "data": {
      "text/html": [
       "<div>\n",
       "<style scoped>\n",
       "    .dataframe tbody tr th:only-of-type {\n",
       "        vertical-align: middle;\n",
       "    }\n",
       "\n",
       "    .dataframe tbody tr th {\n",
       "        vertical-align: top;\n",
       "    }\n",
       "\n",
       "    .dataframe thead th {\n",
       "        text-align: right;\n",
       "    }\n",
       "</style>\n",
       "<table border=\"1\" class=\"dataframe\">\n",
       "  <thead>\n",
       "    <tr style=\"text-align: right;\">\n",
       "      <th></th>\n",
       "      <th>patient_id</th>\n",
       "      <th>global_num</th>\n",
       "      <th>sex</th>\n",
       "      <th>birth_year</th>\n",
       "      <th>age</th>\n",
       "      <th>country</th>\n",
       "      <th>province</th>\n",
       "      <th>city</th>\n",
       "      <th>disease</th>\n",
       "      <th>infection_case</th>\n",
       "      <th>infection_order</th>\n",
       "      <th>infected_by</th>\n",
       "      <th>contact_number</th>\n",
       "      <th>symptom_onset_date</th>\n",
       "      <th>confirmed_date</th>\n",
       "      <th>released_date</th>\n",
       "      <th>deceased_date</th>\n",
       "      <th>state</th>\n",
       "    </tr>\n",
       "  </thead>\n",
       "  <tbody>\n",
       "    <tr>\n",
       "      <th>0</th>\n",
       "      <td>1000000001</td>\n",
       "      <td>2.0</td>\n",
       "      <td>male</td>\n",
       "      <td>1964.0</td>\n",
       "      <td>50s</td>\n",
       "      <td>Korea</td>\n",
       "      <td>Seoul</td>\n",
       "      <td>Gangseo-gu</td>\n",
       "      <td>NaN</td>\n",
       "      <td>overseas inflow</td>\n",
       "      <td>1.0</td>\n",
       "      <td>NaN</td>\n",
       "      <td>75.0</td>\n",
       "      <td>2020-01-22</td>\n",
       "      <td>2020-01-23</td>\n",
       "      <td>2020-02-05</td>\n",
       "      <td>NaN</td>\n",
       "      <td>released</td>\n",
       "    </tr>\n",
       "    <tr>\n",
       "      <th>1</th>\n",
       "      <td>1000000002</td>\n",
       "      <td>5.0</td>\n",
       "      <td>male</td>\n",
       "      <td>1987.0</td>\n",
       "      <td>30s</td>\n",
       "      <td>Korea</td>\n",
       "      <td>Seoul</td>\n",
       "      <td>Jungnang-gu</td>\n",
       "      <td>NaN</td>\n",
       "      <td>overseas inflow</td>\n",
       "      <td>1.0</td>\n",
       "      <td>NaN</td>\n",
       "      <td>31.0</td>\n",
       "      <td>NaN</td>\n",
       "      <td>2020-01-30</td>\n",
       "      <td>2020-03-02</td>\n",
       "      <td>NaN</td>\n",
       "      <td>released</td>\n",
       "    </tr>\n",
       "    <tr>\n",
       "      <th>2</th>\n",
       "      <td>1000000003</td>\n",
       "      <td>6.0</td>\n",
       "      <td>male</td>\n",
       "      <td>1964.0</td>\n",
       "      <td>50s</td>\n",
       "      <td>Korea</td>\n",
       "      <td>Seoul</td>\n",
       "      <td>Jongno-gu</td>\n",
       "      <td>NaN</td>\n",
       "      <td>contact with patient</td>\n",
       "      <td>2.0</td>\n",
       "      <td>2.002000e+09</td>\n",
       "      <td>17.0</td>\n",
       "      <td>NaN</td>\n",
       "      <td>2020-01-30</td>\n",
       "      <td>2020-02-19</td>\n",
       "      <td>NaN</td>\n",
       "      <td>released</td>\n",
       "    </tr>\n",
       "    <tr>\n",
       "      <th>3</th>\n",
       "      <td>1000000004</td>\n",
       "      <td>7.0</td>\n",
       "      <td>male</td>\n",
       "      <td>1991.0</td>\n",
       "      <td>20s</td>\n",
       "      <td>Korea</td>\n",
       "      <td>Seoul</td>\n",
       "      <td>Mapo-gu</td>\n",
       "      <td>NaN</td>\n",
       "      <td>overseas inflow</td>\n",
       "      <td>1.0</td>\n",
       "      <td>NaN</td>\n",
       "      <td>9.0</td>\n",
       "      <td>2020-01-26</td>\n",
       "      <td>2020-01-30</td>\n",
       "      <td>2020-02-15</td>\n",
       "      <td>NaN</td>\n",
       "      <td>released</td>\n",
       "    </tr>\n",
       "    <tr>\n",
       "      <th>4</th>\n",
       "      <td>1000000005</td>\n",
       "      <td>9.0</td>\n",
       "      <td>female</td>\n",
       "      <td>1992.0</td>\n",
       "      <td>20s</td>\n",
       "      <td>Korea</td>\n",
       "      <td>Seoul</td>\n",
       "      <td>Seongbuk-gu</td>\n",
       "      <td>NaN</td>\n",
       "      <td>contact with patient</td>\n",
       "      <td>2.0</td>\n",
       "      <td>1.000000e+09</td>\n",
       "      <td>2.0</td>\n",
       "      <td>NaN</td>\n",
       "      <td>2020-01-31</td>\n",
       "      <td>2020-02-24</td>\n",
       "      <td>NaN</td>\n",
       "      <td>released</td>\n",
       "    </tr>\n",
       "  </tbody>\n",
       "</table>\n",
       "</div>"
      ],
      "text/plain": [
       "   patient_id  global_num     sex  ...  released_date deceased_date     state\n",
       "0  1000000001         2.0    male  ...     2020-02-05           NaN  released\n",
       "1  1000000002         5.0    male  ...     2020-03-02           NaN  released\n",
       "2  1000000003         6.0    male  ...     2020-02-19           NaN  released\n",
       "3  1000000004         7.0    male  ...     2020-02-15           NaN  released\n",
       "4  1000000005         9.0  female  ...     2020-02-24           NaN  released\n",
       "\n",
       "[5 rows x 18 columns]"
      ]
     },
     "execution_count": 5,
     "metadata": {
      "tags": []
     },
     "output_type": "execute_result"
    }
   ],
   "source": [
    "Patient_Info.head()"
   ]
  },
  {
   "cell_type": "code",
   "execution_count": null,
   "id": "alpine-stevens",
   "metadata": {
    "ExecuteTime": {
     "end_time": "2021-04-06T07:52:00.033104Z",
     "start_time": "2021-04-06T07:51:59.997157Z"
    },
    "colab": {
     "base_uri": "https://localhost:8080/",
     "height": 399
    },
    "executionInfo": {
     "elapsed": 897,
     "status": "ok",
     "timestamp": 1617706236532,
     "user": {
      "displayName": "최유리",
      "photoUrl": "",
      "userId": "16723349519808453958"
     },
     "user_tz": -540
    },
    "id": "alpine-stevens",
    "outputId": "00bbb2b5-1a37-42bb-ce5c-30b1f1b2a814"
   },
   "outputs": [
    {
     "data": {
      "text/html": [
       "<div>\n",
       "<style scoped>\n",
       "    .dataframe tbody tr th:only-of-type {\n",
       "        vertical-align: middle;\n",
       "    }\n",
       "\n",
       "    .dataframe tbody tr th {\n",
       "        vertical-align: top;\n",
       "    }\n",
       "\n",
       "    .dataframe thead th {\n",
       "        text-align: right;\n",
       "    }\n",
       "</style>\n",
       "<table border=\"1\" class=\"dataframe\">\n",
       "  <thead>\n",
       "    <tr style=\"text-align: right;\">\n",
       "      <th></th>\n",
       "      <th>patient_id</th>\n",
       "      <th>sex</th>\n",
       "      <th>age</th>\n",
       "      <th>infection_case</th>\n",
       "      <th>contact_number</th>\n",
       "      <th>confirmed_date</th>\n",
       "      <th>released_date</th>\n",
       "      <th>deceased_date</th>\n",
       "      <th>state</th>\n",
       "    </tr>\n",
       "  </thead>\n",
       "  <tbody>\n",
       "    <tr>\n",
       "      <th>0</th>\n",
       "      <td>1000000001</td>\n",
       "      <td>male</td>\n",
       "      <td>50s</td>\n",
       "      <td>overseas inflow</td>\n",
       "      <td>75.0</td>\n",
       "      <td>2020-01-23</td>\n",
       "      <td>2020-02-05</td>\n",
       "      <td>NaN</td>\n",
       "      <td>released</td>\n",
       "    </tr>\n",
       "    <tr>\n",
       "      <th>1</th>\n",
       "      <td>1000000002</td>\n",
       "      <td>male</td>\n",
       "      <td>30s</td>\n",
       "      <td>overseas inflow</td>\n",
       "      <td>31.0</td>\n",
       "      <td>2020-01-30</td>\n",
       "      <td>2020-03-02</td>\n",
       "      <td>NaN</td>\n",
       "      <td>released</td>\n",
       "    </tr>\n",
       "    <tr>\n",
       "      <th>2</th>\n",
       "      <td>1000000003</td>\n",
       "      <td>male</td>\n",
       "      <td>50s</td>\n",
       "      <td>contact with patient</td>\n",
       "      <td>17.0</td>\n",
       "      <td>2020-01-30</td>\n",
       "      <td>2020-02-19</td>\n",
       "      <td>NaN</td>\n",
       "      <td>released</td>\n",
       "    </tr>\n",
       "    <tr>\n",
       "      <th>3</th>\n",
       "      <td>1000000004</td>\n",
       "      <td>male</td>\n",
       "      <td>20s</td>\n",
       "      <td>overseas inflow</td>\n",
       "      <td>9.0</td>\n",
       "      <td>2020-01-30</td>\n",
       "      <td>2020-02-15</td>\n",
       "      <td>NaN</td>\n",
       "      <td>released</td>\n",
       "    </tr>\n",
       "    <tr>\n",
       "      <th>4</th>\n",
       "      <td>1000000005</td>\n",
       "      <td>female</td>\n",
       "      <td>20s</td>\n",
       "      <td>contact with patient</td>\n",
       "      <td>2.0</td>\n",
       "      <td>2020-01-31</td>\n",
       "      <td>2020-02-24</td>\n",
       "      <td>NaN</td>\n",
       "      <td>released</td>\n",
       "    </tr>\n",
       "    <tr>\n",
       "      <th>...</th>\n",
       "      <td>...</td>\n",
       "      <td>...</td>\n",
       "      <td>...</td>\n",
       "      <td>...</td>\n",
       "      <td>...</td>\n",
       "      <td>...</td>\n",
       "      <td>...</td>\n",
       "      <td>...</td>\n",
       "      <td>...</td>\n",
       "    </tr>\n",
       "    <tr>\n",
       "      <th>3383</th>\n",
       "      <td>7000000009</td>\n",
       "      <td>female</td>\n",
       "      <td>20s</td>\n",
       "      <td>overseas inflow</td>\n",
       "      <td>14.0</td>\n",
       "      <td>2020-03-29</td>\n",
       "      <td>NaN</td>\n",
       "      <td>NaN</td>\n",
       "      <td>isolated</td>\n",
       "    </tr>\n",
       "    <tr>\n",
       "      <th>3384</th>\n",
       "      <td>7000000010</td>\n",
       "      <td>female</td>\n",
       "      <td>20s</td>\n",
       "      <td>overseas inflow</td>\n",
       "      <td>18.0</td>\n",
       "      <td>2020-04-03</td>\n",
       "      <td>NaN</td>\n",
       "      <td>NaN</td>\n",
       "      <td>isolated</td>\n",
       "    </tr>\n",
       "    <tr>\n",
       "      <th>3385</th>\n",
       "      <td>7000000011</td>\n",
       "      <td>male</td>\n",
       "      <td>30s</td>\n",
       "      <td>contact with patient</td>\n",
       "      <td>5.0</td>\n",
       "      <td>2020-04-03</td>\n",
       "      <td>NaN</td>\n",
       "      <td>NaN</td>\n",
       "      <td>isolated</td>\n",
       "    </tr>\n",
       "    <tr>\n",
       "      <th>3386</th>\n",
       "      <td>7000000012</td>\n",
       "      <td>female</td>\n",
       "      <td>20s</td>\n",
       "      <td>overseas inflow</td>\n",
       "      <td>9.0</td>\n",
       "      <td>2020-04-03</td>\n",
       "      <td>NaN</td>\n",
       "      <td>NaN</td>\n",
       "      <td>isolated</td>\n",
       "    </tr>\n",
       "    <tr>\n",
       "      <th>3387</th>\n",
       "      <td>7000000013</td>\n",
       "      <td>female</td>\n",
       "      <td>10s</td>\n",
       "      <td>overseas inflow</td>\n",
       "      <td>6.0</td>\n",
       "      <td>2020-04-14</td>\n",
       "      <td>NaN</td>\n",
       "      <td>NaN</td>\n",
       "      <td>isolated</td>\n",
       "    </tr>\n",
       "  </tbody>\n",
       "</table>\n",
       "<p>3388 rows × 9 columns</p>\n",
       "</div>"
      ],
      "text/plain": [
       "      patient_id     sex  age  ... released_date  deceased_date     state\n",
       "0     1000000001    male  50s  ...    2020-02-05            NaN  released\n",
       "1     1000000002    male  30s  ...    2020-03-02            NaN  released\n",
       "2     1000000003    male  50s  ...    2020-02-19            NaN  released\n",
       "3     1000000004    male  20s  ...    2020-02-15            NaN  released\n",
       "4     1000000005  female  20s  ...    2020-02-24            NaN  released\n",
       "...          ...     ...  ...  ...           ...            ...       ...\n",
       "3383  7000000009  female  20s  ...           NaN            NaN  isolated\n",
       "3384  7000000010  female  20s  ...           NaN            NaN  isolated\n",
       "3385  7000000011    male  30s  ...           NaN            NaN  isolated\n",
       "3386  7000000012  female  20s  ...           NaN            NaN  isolated\n",
       "3387  7000000013  female  10s  ...           NaN            NaN  isolated\n",
       "\n",
       "[3388 rows x 9 columns]"
      ]
     },
     "execution_count": 6,
     "metadata": {
      "tags": []
     },
     "output_type": "execute_result"
    }
   ],
   "source": [
    "patient_info = Patient_Info[[\n",
    "    'patient_id', 'sex', 'age', 'infection_case',\n",
    "    'contact_number', 'confirmed_date', 'released_date',\n",
    "    'deceased_date', 'state'\n",
    "]]\n",
    "patient_info"
   ]
  },
  {
   "cell_type": "code",
   "execution_count": null,
   "id": "unauthorized-restriction",
   "metadata": {
    "id": "unauthorized-restriction"
   },
   "outputs": [],
   "source": []
  },
  {
   "cell_type": "code",
   "execution_count": null,
   "id": "bright-sender",
   "metadata": {
    "id": "bright-sender"
   },
   "outputs": [],
   "source": []
  },
  {
   "cell_type": "markdown",
   "id": "pleasant-experiment",
   "metadata": {
    "id": "pleasant-experiment"
   },
   "source": [
    "#### - 성별에 따른 누적 / 평균 접촉자 수\n",
    "\n",
    "    Patient_Info 사용"
   ]
  },
  {
   "cell_type": "markdown",
   "id": "unauthorized-hanging",
   "metadata": {
    "id": "unauthorized-hanging"
   },
   "source": [
    "##### 성별 접촉자에 따른 기본 정보"
   ]
  },
  {
   "cell_type": "code",
   "execution_count": null,
   "id": "coastal-colombia",
   "metadata": {
    "ExecuteTime": {
     "end_time": "2021-04-06T07:59:01.063818Z",
     "start_time": "2021-04-06T07:59:01.029793Z"
    },
    "colab": {
     "base_uri": "https://localhost:8080/",
     "height": 135
    },
    "executionInfo": {
     "elapsed": 962,
     "status": "ok",
     "timestamp": 1617706245937,
     "user": {
      "displayName": "최유리",
      "photoUrl": "",
      "userId": "16723349519808453958"
     },
     "user_tz": -540
    },
    "id": "coastal-colombia",
    "outputId": "28f7e3ed-19df-4e28-e14a-39aeb47c1943"
   },
   "outputs": [
    {
     "data": {
      "text/html": [
       "<div>\n",
       "<style scoped>\n",
       "    .dataframe tbody tr th:only-of-type {\n",
       "        vertical-align: middle;\n",
       "    }\n",
       "\n",
       "    .dataframe tbody tr th {\n",
       "        vertical-align: top;\n",
       "    }\n",
       "\n",
       "    .dataframe thead th {\n",
       "        text-align: right;\n",
       "    }\n",
       "</style>\n",
       "<table border=\"1\" class=\"dataframe\">\n",
       "  <thead>\n",
       "    <tr style=\"text-align: right;\">\n",
       "      <th></th>\n",
       "      <th>count</th>\n",
       "      <th>mean</th>\n",
       "      <th>std</th>\n",
       "      <th>min</th>\n",
       "      <th>25%</th>\n",
       "      <th>50%</th>\n",
       "      <th>75%</th>\n",
       "      <th>max</th>\n",
       "    </tr>\n",
       "    <tr>\n",
       "      <th>sex</th>\n",
       "      <th></th>\n",
       "      <th></th>\n",
       "      <th></th>\n",
       "      <th></th>\n",
       "      <th></th>\n",
       "      <th></th>\n",
       "      <th></th>\n",
       "      <th></th>\n",
       "    </tr>\n",
       "  </thead>\n",
       "  <tbody>\n",
       "    <tr>\n",
       "      <th>female</th>\n",
       "      <td>354.0</td>\n",
       "      <td>15.016949</td>\n",
       "      <td>69.201555</td>\n",
       "      <td>0.0</td>\n",
       "      <td>2.0</td>\n",
       "      <td>4.0</td>\n",
       "      <td>10.75</td>\n",
       "      <td>1160.0</td>\n",
       "    </tr>\n",
       "    <tr>\n",
       "      <th>male</th>\n",
       "      <td>284.0</td>\n",
       "      <td>22.306338</td>\n",
       "      <td>79.524522</td>\n",
       "      <td>0.0</td>\n",
       "      <td>2.0</td>\n",
       "      <td>4.0</td>\n",
       "      <td>17.25</td>\n",
       "      <td>1091.0</td>\n",
       "    </tr>\n",
       "  </tbody>\n",
       "</table>\n",
       "</div>"
      ],
      "text/plain": [
       "        count       mean        std  min  25%  50%    75%     max\n",
       "sex                                                              \n",
       "female  354.0  15.016949  69.201555  0.0  2.0  4.0  10.75  1160.0\n",
       "male    284.0  22.306338  79.524522  0.0  2.0  4.0  17.25  1091.0"
      ]
     },
     "execution_count": 7,
     "metadata": {
      "tags": []
     },
     "output_type": "execute_result"
    }
   ],
   "source": [
    "patient_info.groupby('sex')['contact_number'].describe()"
   ]
  },
  {
   "cell_type": "markdown",
   "id": "close-salmon",
   "metadata": {
    "id": "close-salmon"
   },
   "source": [
    "    위에서 각 데이터의 형상이 female : (1856,9), male : (1455,9) 였는데,\n",
    "    count 수를 보니 현저히 수가 적음을 알 수 있다.  >  결측치가 많음\n",
    "\n",
    "    남/여 모두 최소 접촉자 수는 0이고, 최대 접촉자 수는  여성은 1160명 남성은 1091명이다.\n",
    "    중간값으로 남/여 모두 4명의 접촉자가 있는 것으로 나타났다."
   ]
  },
  {
   "cell_type": "code",
   "execution_count": null,
   "id": "appointed-modem",
   "metadata": {
    "id": "appointed-modem"
   },
   "outputs": [],
   "source": []
  },
  {
   "cell_type": "markdown",
   "id": "understood-system",
   "metadata": {
    "id": "understood-system"
   },
   "source": [
    "##### 평균 접촉자 수"
   ]
  },
  {
   "cell_type": "code",
   "execution_count": null,
   "id": "given-engineering",
   "metadata": {
    "ExecuteTime": {
     "end_time": "2021-04-06T07:56:37.748554Z",
     "start_time": "2021-04-06T07:56:37.708881Z"
    },
    "colab": {
     "base_uri": "https://localhost:8080/"
    },
    "executionInfo": {
     "elapsed": 964,
     "status": "ok",
     "timestamp": 1617706250041,
     "user": {
      "displayName": "최유리",
      "photoUrl": "",
      "userId": "16723349519808453958"
     },
     "user_tz": -540
    },
    "id": "given-engineering",
    "outputId": "157ed3c0-7bd9-4438-b2c1-fa24b0fbcf87"
   },
   "outputs": [
    {
     "data": {
      "text/plain": [
       "sex\n",
       "female    15.016949\n",
       "male      22.306338\n",
       "Name: contact_number, dtype: float64"
      ]
     },
     "execution_count": 8,
     "metadata": {
      "tags": []
     },
     "output_type": "execute_result"
    }
   ],
   "source": [
    "patient_info.groupby('sex')['contact_number'].mean()"
   ]
  },
  {
   "cell_type": "markdown",
   "id": "passive-seeking",
   "metadata": {
    "id": "passive-seeking"
   },
   "source": [
    "    남성은 평균 22명을 접촉하고, 여성은 평균 15명을 접촉한 것을 알 수 있다.\n",
    "    남성이 약간 더 많이 접촉하는 경향이 보임\n",
    "\n",
    "    위의 데이터에서 중간값과 비교했을 때, 4명과 평균값이 차이가 크다.\n",
    "    남/여 모두 왼쪽으로 치우쳐진 그래프 형상을 나타낼 것으로 보인다."
   ]
  },
  {
   "cell_type": "code",
   "execution_count": null,
   "id": "stunning-graduation",
   "metadata": {
    "ExecuteTime": {
     "end_time": "2021-04-06T09:23:12.863099Z",
     "start_time": "2021-04-06T09:23:12.793165Z"
    },
    "colab": {
     "base_uri": "https://localhost:8080/",
     "height": 542
    },
    "executionInfo": {
     "elapsed": 3429,
     "status": "ok",
     "timestamp": 1617706254414,
     "user": {
      "displayName": "최유리",
      "photoUrl": "",
      "userId": "16723349519808453958"
     },
     "user_tz": -540
    },
    "id": "stunning-graduation",
    "outputId": "704092f4-ceab-493a-91f8-e2f1693184c8"
   },
   "outputs": [
    {
     "data": {
      "text/html": [
       "<html>\n",
       "<head><meta charset=\"utf-8\" /></head>\n",
       "<body>\n",
       "    <div>\n",
       "            <script src=\"https://cdnjs.cloudflare.com/ajax/libs/mathjax/2.7.5/MathJax.js?config=TeX-AMS-MML_SVG\"></script><script type=\"text/javascript\">if (window.MathJax) {MathJax.Hub.Config({SVG: {font: \"STIX-Web\"}});}</script>\n",
       "                <script type=\"text/javascript\">window.PlotlyConfig = {MathJaxConfig: 'local'};</script>\n",
       "        <script src=\"https://cdn.plot.ly/plotly-latest.min.js\"></script>    \n",
       "            <div id=\"0d934f15-6c6f-48df-8864-c01f71cb5a62\" class=\"plotly-graph-div\" style=\"height:525px; width:100%;\"></div>\n",
       "            <script type=\"text/javascript\">\n",
       "                \n",
       "                    window.PLOTLYENV=window.PLOTLYENV || {};\n",
       "                    \n",
       "                if (document.getElementById(\"0d934f15-6c6f-48df-8864-c01f71cb5a62\")) {\n",
       "                    Plotly.newPlot(\n",
       "                        '0d934f15-6c6f-48df-8864-c01f71cb5a62',\n",
       "                        [{\"mode\": \"lines\", \"name\": \"male\", \"type\": \"scatter\", \"x\": [0, 1, 2, 3, 4, 5, 6, 7, 8, 9, 10, 11, 12, 13, 14, 15, 16, 17, 18, 19, 20, 21, 22, 23, 24, 25, 26, 27, 28, 29, 30, 31, 32, 33, 34, 35, 36, 37, 38, 39, 40, 41, 42, 43, 44, 45, 46, 47, 48, 49, 50, 51, 52, 53, 54, 55, 56, 57, 58, 59, 60, 61, 62, 63, 64, 65, 66, 67, 68, 69, 70, 71, 72, 73, 74, 75, 76, 77, 78, 79, 80, 81, 82, 83, 84, 85, 86, 87, 88, 89, 90, 91, 92, 93, 94, 95, 96, 97, 98, 99, 100, 101, 102, 103, 104, 105, 106, 107, 108, 109, 110, 111, 112, 113, 114, 115, 116, 117, 118, 119, 120, 121, 122, 123, 124, 125, 126, 127, 128, 129, 130, 131, 132, 133, 134, 135, 136, 137, 138, 139, 140, 141, 142, 143, 144, 145, 146, 147, 148, 149, 150, 151, 152, 153, 154, 155, 156, 157, 158, 159, 160, 161, 162, 163, 164, 165, 166, 167, 168, 169, 170, 171, 172, 173, 174, 175, 176, 177, 178, 179, 180, 181, 182, 183, 184, 185, 186, 187, 188, 189, 190, 191, 192, 193, 194, 195, 196, 197, 198, 199, 200, 201, 202, 203, 204, 205, 206, 207, 208, 209, 210, 211, 212, 213, 214, 215, 216, 217, 218, 219, 220, 221, 222, 223, 224, 225, 226, 227, 228, 229, 230, 231, 232, 233, 234, 235, 236, 237, 238, 239, 240, 241, 242, 243, 244, 245, 246, 247, 248, 249, 250, 251, 252, 253, 254, 255, 256, 257, 258, 259, 260, 261, 262, 263, 264, 265, 266, 267, 268, 269, 270, 271, 272, 273, 274, 275, 276, 277, 278, 279, 280, 281, 282, 283], \"y\": [75.0, 31.0, 17.0, 9.0, 0.0, 0.0, 68.0, 0.0, 117.0, 8.0, 8.0, 4.0, 3.0, 6.0, 0.0, 2.0, 1.0, 2.0, 1091.0, 485.0, 27.0, 4.0, 19.0, 15.0, 27.0, 34.0, 19.0, 1.0, 37.0, 1.0, 7.0, 28.0, 21.0, 25.0, 19.0, 159.0, 9.0, 3.0, 2.0, 27.0, 10.0, 1.0, 4.0, 41.0, 19.0, 3.0, 1.0, 1.0, 8.0, 1.0, 10.0, 38.0, 3.0, 0.0, 0.0, 2.0, 3.0, 5.0, 4.0, 2.0, 0.0, 24.0, 11.0, 0.0, 5.0, 5.0, 24.0, 0.0, 3.0, 2.0, 1.0, 18.0, 1.0, 1.0, 1.0, 2.0, 21.0, 0.0, 0.0, 0.0, 2.0, 143.0, 65.0, 30.0, 156.0, 14.0, 39.0, 86.0, 30.0, 74.0, 16.0, 25.0, 2.0, 1.0, 2.0, 3.0, 1.0, 15.0, 2.0, 2.0, 6.0, 4.0, 64.0, 21.0, 12.0, 66.0, 3.0, 3.0, 9.0, 19.0, 2.0, 40.0, 3.0, 0.0, 40.0, 41.0, 10.0, 45.0, 5.0, 25.0, 9.0, 2.0, 13.0, 8.0, 21.0, 2.0, 8.0, 10.0, 6.0, 7.0, 11.0, 5.0, 26.0, 22.0, 9.0, 2.0, 3.0, 3.0, 1.0, 1.0, 1.0, 16.0, 95.0, 422.0, 15.0, 290.0, 0.0, 32.0, 15.0, 23.0, 17.0, 4.0, 3.0, 23.0, 7.0, 3.0, 10.0, 29.0, 22.0, 15.0, 4.0, 1.0, 17.0, 1.0, 2.0, 6.0, 2.0, 19.0, 3.0, 2.0, 2.0, 3.0, 4.0, 4.0, 26.0, 3.0, 3.0, 9.0, 3.0, 3.0, 5.0, 2.0, 3.0, 1.0, 5.0, 3.0, 4.0, 71.0, 5.0, 10.0, 1.0, 8.0, 3.0, 41.0, 5.0, 45.0, 17.0, 5.0, 24.0, 4.0, 8.0, 17.0, 5.0, 0.0, 2.0, 0.0, 4.0, 4.0, 0.0, 1.0, 3.0, 22.0, 51.0, 51.0, 0.0, 0.0, 0.0, 0.0, 10.0, 0.0, 1.0, 0.0, 3.0, 0.0, 0.0, 7.0, 3.0, 0.0, 11.0, 2.0, 174.0, 0.0, 0.0, 78.0, 5.0, 37.0, 0.0, 1.0, 2.0, 3.0, 2.0, 0.0, 1.0, 2.0, 0.0, 1.0, 3.0, 1.0, 3.0, 2.0, 0.0, 2.0, 0.0, 1.0, 89.0, 4.0, 1.0, 23.0, 10.0, 6.0, 5.0, 8.0, 2.0, 5.0, 1.0, 2.0, 5.0, 3.0, 4.0, 3.0, 3.0, 2.0, 3.0, 2.0, 1.0, 3.0, 4.0, 16.0, 13.0, 3.0, 87.0, 74.0, 23.0, 5.0]}, {\"mode\": \"lines\", \"name\": \"female\", \"type\": \"scatter\", \"x\": [0, 1, 2, 3, 4, 5, 6, 7, 8, 9, 10, 11, 12, 13, 14, 15, 16, 17, 18, 19, 20, 21, 22, 23, 24, 25, 26, 27, 28, 29, 30, 31, 32, 33, 34, 35, 36, 37, 38, 39, 40, 41, 42, 43, 44, 45, 46, 47, 48, 49, 50, 51, 52, 53, 54, 55, 56, 57, 58, 59, 60, 61, 62, 63, 64, 65, 66, 67, 68, 69, 70, 71, 72, 73, 74, 75, 76, 77, 78, 79, 80, 81, 82, 83, 84, 85, 86, 87, 88, 89, 90, 91, 92, 93, 94, 95, 96, 97, 98, 99, 100, 101, 102, 103, 104, 105, 106, 107, 108, 109, 110, 111, 112, 113, 114, 115, 116, 117, 118, 119, 120, 121, 122, 123, 124, 125, 126, 127, 128, 129, 130, 131, 132, 133, 134, 135, 136, 137, 138, 139, 140, 141, 142, 143, 144, 145, 146, 147, 148, 149, 150, 151, 152, 153, 154, 155, 156, 157, 158, 159, 160, 161, 162, 163, 164, 165, 166, 167, 168, 169, 170, 171, 172, 173, 174, 175, 176, 177, 178, 179, 180, 181, 182, 183, 184, 185, 186, 187, 188, 189, 190, 191, 192, 193, 194, 195, 196, 197, 198, 199, 200, 201, 202, 203, 204, 205, 206, 207, 208, 209, 210, 211, 212, 213, 214, 215, 216, 217, 218, 219, 220, 221, 222, 223, 224, 225, 226, 227, 228, 229, 230, 231, 232, 233, 234, 235, 236, 237, 238, 239, 240, 241, 242, 243, 244, 245, 246, 247, 248, 249, 250, 251, 252, 253, 254, 255, 256, 257, 258, 259, 260, 261, 262, 263, 264, 265, 266, 267, 268, 269, 270, 271, 272, 273, 274, 275, 276, 277, 278, 279, 280, 281, 282, 283, 284, 285, 286, 287, 288, 289, 290, 291, 292, 293, 294, 295, 296, 297, 298, 299, 300, 301, 302, 303, 304, 305, 306, 307, 308, 309, 310, 311, 312, 313, 314, 315, 316, 317, 318, 319, 320, 321, 322, 323, 324, 325, 326, 327, 328, 329, 330, 331, 332, 333, 334, 335, 336, 337, 338, 339, 340, 341, 342, 343, 344, 345, 346, 347, 348, 349, 350, 351, 352, 353], \"y\": [2.0, 43.0, 6.0, 23.0, 27.0, 3.0, 6.0, 1.0, 2.0, 2.0, 3.0, 1.0, 1.0, 1.0, 2.0, 1.0, 131.0, 16.0, 8.0, 14.0, 0.0, 23.0, 296.0, 16.0, 22.0, 9.0, 19.0, 2.0, 9.0, 10.0, 8.0, 3.0, 5.0, 0.0, 3.0, 18.0, 0.0, 7.0, 0.0, 0.0, 2.0, 11.0, 0.0, 30.0, 2.0, 27.0, 11.0, 71.0, 2.0, 10.0, 2.0, 3.0, 5.0, 2.0, 2.0, 0.0, 3.0, 3.0, 13.0, 1.0, 1.0, 15.0, 5.0, 14.0, 0.0, 4.0, 24.0, 6.0, 1.0, 4.0, 9.0, 4.0, 1.0, 8.0, 4.0, 2.0, 3.0, 0.0, 2.0, 2.0, 5.0, 1.0, 1160.0, 450.0, 8.0, 47.0, 0.0, 86.0, 14.0, 12.0, 23.0, 3.0, 1.0, 4.0, 2.0, 23.0, 9.0, 46.0, 12.0, 11.0, 2.0, 0.0, 6.0, 0.0, 0.0, 0.0, 1.0, 27.0, 27.0, 7.0, 3.0, 2.0, 7.0, 40.0, 22.0, 3.0, 2.0, 1.0, 3.0, 2.0, 4.0, 7.0, 11.0, 11.0, 14.0, 23.0, 3.0, 1.0, 18.0, 3.0, 2.0, 12.0, 40.0, 1.0, 6.0, 6.0, 7.0, 11.0, 5.0, 5.0, 3.0, 3.0, 8.0, 2.0, 2.0, 17.0, 7.0, 4.0, 53.0, 2.0, 6.0, 5.0, 8.0, 2.0, 2.0, 11.0, 2.0, 4.0, 3.0, 3.0, 1.0, 3.0, 2.0, 2.0, 70.0, 2.0, 1.0, 1.0, 2.0, 2.0, 13.0, 3.0, 5.0, 3.0, 4.0, 3.0, 9.0, 3.0, 4.0, 1.0, 4.0, 3.0, 2.0, 2.0, 1.0, 1.0, 3.0, 4.0, 2.0, 1.0, 4.0, 6.0, 1.0, 1.0, 9.0, 1.0, 17.0, 3.0, 5.0, 17.0, 5.0, 25.0, 3.0, 1.0, 1.0, 17.0, 5.0, 10.0, 0.0, 35.0, 4.0, 6.0, 9.0, 41.0, 130.0, 3.0, 2.0, 31.0, 5.0, 10.0, 15.0, 2.0, 1.0, 5.0, 3.0, 24.0, 2.0, 11.0, 2.0, 53.0, 2.0, 6.0, 0.0, 6.0, 5.0, 0.0, 23.0, 8.0, 7.0, 6.0, 106.0, 1.0, 5.0, 10.0, 2.0, 0.0, 0.0, 1.0, 5.0, 7.0, 0.0, 1.0, 0.0, 0.0, 27.0, 5.0, 0.0, 3.0, 14.0, 4.0, 4.0, 3.0, 0.0, 1.0, 14.0, 9.0, 5.0, 19.0, 0.0, 0.0, 0.0, 33.0, 0.0, 0.0, 19.0, 18.0, 5.0, 0.0, 7.0, 2.0, 4.0, 4.0, 34.0, 15.0, 14.0, 5.0, 0.0, 10.0, 39.0, 8.0, 5.0, 3.0, 8.0, 0.0, 29.0, 4.0, 1.0, 2.0, 113.0, 14.0, 3.0, 38.0, 7.0, 2.0, 3.0, 5.0, 2.0, 9.0, 6.0, 3.0, 9.0, 15.0, 4.0, 7.0, 2.0, 9.0, 3.0, 4.0, 4.0, 5.0, 6.0, 2.0, 1.0, 1.0, 2.0, 1.0, 7.0, 2.0, 1.0, 2.0, 1.0, 1.0, 1.0, 3.0, 4.0, 2.0, 1.0, 4.0, 2.0, 1.0, 16.0, 2.0, 31.0, 0.0, 11.0, 84.0, 21.0, 20.0, 26.0, 25.0, 14.0, 18.0, 9.0, 6.0]}],\n",
       "                        {\"template\": {\"data\": {\"bar\": [{\"error_x\": {\"color\": \"#2a3f5f\"}, \"error_y\": {\"color\": \"#2a3f5f\"}, \"marker\": {\"line\": {\"color\": \"#E5ECF6\", \"width\": 0.5}}, \"type\": \"bar\"}], \"barpolar\": [{\"marker\": {\"line\": {\"color\": \"#E5ECF6\", \"width\": 0.5}}, \"type\": \"barpolar\"}], \"carpet\": [{\"aaxis\": {\"endlinecolor\": \"#2a3f5f\", \"gridcolor\": \"white\", \"linecolor\": \"white\", \"minorgridcolor\": \"white\", \"startlinecolor\": \"#2a3f5f\"}, \"baxis\": {\"endlinecolor\": \"#2a3f5f\", \"gridcolor\": \"white\", \"linecolor\": \"white\", \"minorgridcolor\": \"white\", \"startlinecolor\": \"#2a3f5f\"}, \"type\": \"carpet\"}], \"choropleth\": [{\"colorbar\": {\"outlinewidth\": 0, \"ticks\": \"\"}, \"type\": \"choropleth\"}], \"contour\": [{\"colorbar\": {\"outlinewidth\": 0, \"ticks\": \"\"}, \"colorscale\": [[0.0, \"#0d0887\"], [0.1111111111111111, \"#46039f\"], [0.2222222222222222, \"#7201a8\"], [0.3333333333333333, \"#9c179e\"], [0.4444444444444444, \"#bd3786\"], [0.5555555555555556, \"#d8576b\"], [0.6666666666666666, \"#ed7953\"], [0.7777777777777778, \"#fb9f3a\"], [0.8888888888888888, \"#fdca26\"], [1.0, \"#f0f921\"]], \"type\": \"contour\"}], \"contourcarpet\": [{\"colorbar\": {\"outlinewidth\": 0, \"ticks\": \"\"}, \"type\": \"contourcarpet\"}], \"heatmap\": [{\"colorbar\": {\"outlinewidth\": 0, \"ticks\": \"\"}, \"colorscale\": [[0.0, \"#0d0887\"], [0.1111111111111111, \"#46039f\"], [0.2222222222222222, \"#7201a8\"], [0.3333333333333333, \"#9c179e\"], [0.4444444444444444, \"#bd3786\"], [0.5555555555555556, \"#d8576b\"], [0.6666666666666666, \"#ed7953\"], [0.7777777777777778, \"#fb9f3a\"], [0.8888888888888888, \"#fdca26\"], [1.0, \"#f0f921\"]], \"type\": \"heatmap\"}], \"heatmapgl\": [{\"colorbar\": {\"outlinewidth\": 0, \"ticks\": \"\"}, \"colorscale\": [[0.0, \"#0d0887\"], [0.1111111111111111, \"#46039f\"], [0.2222222222222222, \"#7201a8\"], [0.3333333333333333, \"#9c179e\"], [0.4444444444444444, \"#bd3786\"], [0.5555555555555556, \"#d8576b\"], [0.6666666666666666, \"#ed7953\"], [0.7777777777777778, \"#fb9f3a\"], [0.8888888888888888, \"#fdca26\"], [1.0, \"#f0f921\"]], \"type\": \"heatmapgl\"}], \"histogram\": [{\"marker\": {\"colorbar\": {\"outlinewidth\": 0, \"ticks\": \"\"}}, \"type\": \"histogram\"}], \"histogram2d\": [{\"colorbar\": {\"outlinewidth\": 0, \"ticks\": \"\"}, \"colorscale\": [[0.0, \"#0d0887\"], [0.1111111111111111, \"#46039f\"], [0.2222222222222222, \"#7201a8\"], [0.3333333333333333, \"#9c179e\"], [0.4444444444444444, \"#bd3786\"], [0.5555555555555556, \"#d8576b\"], [0.6666666666666666, \"#ed7953\"], [0.7777777777777778, \"#fb9f3a\"], [0.8888888888888888, \"#fdca26\"], [1.0, \"#f0f921\"]], \"type\": \"histogram2d\"}], \"histogram2dcontour\": [{\"colorbar\": {\"outlinewidth\": 0, \"ticks\": \"\"}, \"colorscale\": [[0.0, \"#0d0887\"], [0.1111111111111111, \"#46039f\"], [0.2222222222222222, \"#7201a8\"], [0.3333333333333333, \"#9c179e\"], [0.4444444444444444, \"#bd3786\"], [0.5555555555555556, \"#d8576b\"], [0.6666666666666666, \"#ed7953\"], [0.7777777777777778, \"#fb9f3a\"], [0.8888888888888888, \"#fdca26\"], [1.0, \"#f0f921\"]], \"type\": \"histogram2dcontour\"}], \"mesh3d\": [{\"colorbar\": {\"outlinewidth\": 0, \"ticks\": \"\"}, \"type\": \"mesh3d\"}], \"parcoords\": [{\"line\": {\"colorbar\": {\"outlinewidth\": 0, \"ticks\": \"\"}}, \"type\": \"parcoords\"}], \"pie\": [{\"automargin\": true, \"type\": \"pie\"}], \"scatter\": [{\"marker\": {\"colorbar\": {\"outlinewidth\": 0, \"ticks\": \"\"}}, \"type\": \"scatter\"}], \"scatter3d\": [{\"line\": {\"colorbar\": {\"outlinewidth\": 0, \"ticks\": \"\"}}, \"marker\": {\"colorbar\": {\"outlinewidth\": 0, \"ticks\": \"\"}}, \"type\": \"scatter3d\"}], \"scattercarpet\": [{\"marker\": {\"colorbar\": {\"outlinewidth\": 0, \"ticks\": \"\"}}, \"type\": \"scattercarpet\"}], \"scattergeo\": [{\"marker\": {\"colorbar\": {\"outlinewidth\": 0, \"ticks\": \"\"}}, \"type\": \"scattergeo\"}], \"scattergl\": [{\"marker\": {\"colorbar\": {\"outlinewidth\": 0, \"ticks\": \"\"}}, \"type\": \"scattergl\"}], \"scattermapbox\": [{\"marker\": {\"colorbar\": {\"outlinewidth\": 0, \"ticks\": \"\"}}, \"type\": \"scattermapbox\"}], \"scatterpolar\": [{\"marker\": {\"colorbar\": {\"outlinewidth\": 0, \"ticks\": \"\"}}, \"type\": \"scatterpolar\"}], \"scatterpolargl\": [{\"marker\": {\"colorbar\": {\"outlinewidth\": 0, \"ticks\": \"\"}}, \"type\": \"scatterpolargl\"}], \"scatterternary\": [{\"marker\": {\"colorbar\": {\"outlinewidth\": 0, \"ticks\": \"\"}}, \"type\": \"scatterternary\"}], \"surface\": [{\"colorbar\": {\"outlinewidth\": 0, \"ticks\": \"\"}, \"colorscale\": [[0.0, \"#0d0887\"], [0.1111111111111111, \"#46039f\"], [0.2222222222222222, \"#7201a8\"], [0.3333333333333333, \"#9c179e\"], [0.4444444444444444, \"#bd3786\"], [0.5555555555555556, \"#d8576b\"], [0.6666666666666666, \"#ed7953\"], [0.7777777777777778, \"#fb9f3a\"], [0.8888888888888888, \"#fdca26\"], [1.0, \"#f0f921\"]], \"type\": \"surface\"}], \"table\": [{\"cells\": {\"fill\": {\"color\": \"#EBF0F8\"}, \"line\": {\"color\": \"white\"}}, \"header\": {\"fill\": {\"color\": \"#C8D4E3\"}, \"line\": {\"color\": \"white\"}}, \"type\": \"table\"}]}, \"layout\": {\"annotationdefaults\": {\"arrowcolor\": \"#2a3f5f\", \"arrowhead\": 0, \"arrowwidth\": 1}, \"coloraxis\": {\"colorbar\": {\"outlinewidth\": 0, \"ticks\": \"\"}}, \"colorscale\": {\"diverging\": [[0, \"#8e0152\"], [0.1, \"#c51b7d\"], [0.2, \"#de77ae\"], [0.3, \"#f1b6da\"], [0.4, \"#fde0ef\"], [0.5, \"#f7f7f7\"], [0.6, \"#e6f5d0\"], [0.7, \"#b8e186\"], [0.8, \"#7fbc41\"], [0.9, \"#4d9221\"], [1, \"#276419\"]], \"sequential\": [[0.0, \"#0d0887\"], [0.1111111111111111, \"#46039f\"], [0.2222222222222222, \"#7201a8\"], [0.3333333333333333, \"#9c179e\"], [0.4444444444444444, \"#bd3786\"], [0.5555555555555556, \"#d8576b\"], [0.6666666666666666, \"#ed7953\"], [0.7777777777777778, \"#fb9f3a\"], [0.8888888888888888, \"#fdca26\"], [1.0, \"#f0f921\"]], \"sequentialminus\": [[0.0, \"#0d0887\"], [0.1111111111111111, \"#46039f\"], [0.2222222222222222, \"#7201a8\"], [0.3333333333333333, \"#9c179e\"], [0.4444444444444444, \"#bd3786\"], [0.5555555555555556, \"#d8576b\"], [0.6666666666666666, \"#ed7953\"], [0.7777777777777778, \"#fb9f3a\"], [0.8888888888888888, \"#fdca26\"], [1.0, \"#f0f921\"]]}, \"colorway\": [\"#636efa\", \"#EF553B\", \"#00cc96\", \"#ab63fa\", \"#FFA15A\", \"#19d3f3\", \"#FF6692\", \"#B6E880\", \"#FF97FF\", \"#FECB52\"], \"font\": {\"color\": \"#2a3f5f\"}, \"geo\": {\"bgcolor\": \"white\", \"lakecolor\": \"white\", \"landcolor\": \"#E5ECF6\", \"showlakes\": true, \"showland\": true, \"subunitcolor\": \"white\"}, \"hoverlabel\": {\"align\": \"left\"}, \"hovermode\": \"closest\", \"mapbox\": {\"style\": \"light\"}, \"paper_bgcolor\": \"white\", \"plot_bgcolor\": \"#E5ECF6\", \"polar\": {\"angularaxis\": {\"gridcolor\": \"white\", \"linecolor\": \"white\", \"ticks\": \"\"}, \"bgcolor\": \"#E5ECF6\", \"radialaxis\": {\"gridcolor\": \"white\", \"linecolor\": \"white\", \"ticks\": \"\"}}, \"scene\": {\"xaxis\": {\"backgroundcolor\": \"#E5ECF6\", \"gridcolor\": \"white\", \"gridwidth\": 2, \"linecolor\": \"white\", \"showbackground\": true, \"ticks\": \"\", \"zerolinecolor\": \"white\"}, \"yaxis\": {\"backgroundcolor\": \"#E5ECF6\", \"gridcolor\": \"white\", \"gridwidth\": 2, \"linecolor\": \"white\", \"showbackground\": true, \"ticks\": \"\", \"zerolinecolor\": \"white\"}, \"zaxis\": {\"backgroundcolor\": \"#E5ECF6\", \"gridcolor\": \"white\", \"gridwidth\": 2, \"linecolor\": \"white\", \"showbackground\": true, \"ticks\": \"\", \"zerolinecolor\": \"white\"}}, \"shapedefaults\": {\"line\": {\"color\": \"#2a3f5f\"}}, \"ternary\": {\"aaxis\": {\"gridcolor\": \"white\", \"linecolor\": \"white\", \"ticks\": \"\"}, \"baxis\": {\"gridcolor\": \"white\", \"linecolor\": \"white\", \"ticks\": \"\"}, \"bgcolor\": \"#E5ECF6\", \"caxis\": {\"gridcolor\": \"white\", \"linecolor\": \"white\", \"ticks\": \"\"}}, \"title\": {\"x\": 0.05}, \"xaxis\": {\"automargin\": true, \"gridcolor\": \"white\", \"linecolor\": \"white\", \"ticks\": \"\", \"title\": {\"standoff\": 15}, \"zerolinecolor\": \"white\", \"zerolinewidth\": 2}, \"yaxis\": {\"automargin\": true, \"gridcolor\": \"white\", \"linecolor\": \"white\", \"ticks\": \"\", \"title\": {\"standoff\": 15}, \"zerolinecolor\": \"white\", \"zerolinewidth\": 2}}}, \"title\": {\"font\": {\"color\": \"#31326f\", \"size\": 25}, \"text\": \"\\uc131\\ubcc4 \\uc811\\ucd09\\uc790 \\uc218 \\uadf8\\ub798\\ud504\"}},\n",
       "                        {\"responsive\": true}\n",
       "                    ).then(function(){\n",
       "                            \n",
       "var gd = document.getElementById('0d934f15-6c6f-48df-8864-c01f71cb5a62');\n",
       "var x = new MutationObserver(function (mutations, observer) {{\n",
       "        var display = window.getComputedStyle(gd).display;\n",
       "        if (!display || display === 'none') {{\n",
       "            console.log([gd, 'removed!']);\n",
       "            Plotly.purge(gd);\n",
       "            observer.disconnect();\n",
       "        }}\n",
       "}});\n",
       "\n",
       "// Listen for the removal of the full notebook cells\n",
       "var notebookContainer = gd.closest('#notebook-container');\n",
       "if (notebookContainer) {{\n",
       "    x.observe(notebookContainer, {childList: true});\n",
       "}}\n",
       "\n",
       "// Listen for the clearing of the current output cell\n",
       "var outputEl = gd.closest('.output');\n",
       "if (outputEl) {{\n",
       "    x.observe(outputEl, {childList: true});\n",
       "}}\n",
       "\n",
       "                        })\n",
       "                };\n",
       "                \n",
       "            </script>\n",
       "        </div>\n",
       "</body>\n",
       "</html>"
      ]
     },
     "metadata": {
      "tags": []
     },
     "output_type": "display_data"
    }
   ],
   "source": [
    "import plotly.offline as pyo\n",
    "import plotly.graph_objs as go\n",
    "\n",
    "data = patient_info[['sex', 'contact_number']]\n",
    "data.dropna(inplace=True)\n",
    "\n",
    "male = data[data['sex'] == 'male']\n",
    "male.reset_index(drop=True, inplace=True)\n",
    "# male\n",
    "\n",
    "female = data[data['sex'] == 'female']\n",
    "female.reset_index(drop=True, inplace=True)\n",
    "\n",
    "male = go.Scatter(x = male.index, y = male['contact_number'], mode = 'lines', name = 'male')\n",
    "female = go.Scatter(x = female.index, y = female['contact_number'], mode = 'lines', name = 'female')\n",
    "\n",
    "data = [male, female]\n",
    "\n",
    "layout = go.Layout(title='성별 접촉자 수 그래프', titlefont=dict(size=25, color='#31326f'))\n",
    "\n",
    "fig = go.Figure(data=data, layout=layout)\n",
    "\n",
    "pyo.iplot(fig)\n"
   ]
  },
  {
   "cell_type": "code",
   "execution_count": null,
   "id": "graduate-robin",
   "metadata": {
    "id": "graduate-robin"
   },
   "outputs": [],
   "source": []
  },
  {
   "cell_type": "markdown",
   "id": "rocky-prague",
   "metadata": {
    "id": "rocky-prague"
   },
   "source": [
    "##### 누적 접촉자 수"
   ]
  },
  {
   "cell_type": "code",
   "execution_count": null,
   "id": "general-hammer",
   "metadata": {
    "ExecuteTime": {
     "end_time": "2021-04-06T07:57:15.659789Z",
     "start_time": "2021-04-06T07:57:15.620848Z"
    },
    "colab": {
     "base_uri": "https://localhost:8080/"
    },
    "executionInfo": {
     "elapsed": 961,
     "status": "ok",
     "timestamp": 1617706259423,
     "user": {
      "displayName": "최유리",
      "photoUrl": "",
      "userId": "16723349519808453958"
     },
     "user_tz": -540
    },
    "id": "general-hammer",
    "outputId": "cf6f463f-3023-41f1-d43e-911745f99a29"
   },
   "outputs": [
    {
     "data": {
      "text/plain": [
       "sex\n",
       "female    5316.0\n",
       "male      6335.0\n",
       "Name: contact_number, dtype: float64"
      ]
     },
     "execution_count": 10,
     "metadata": {
      "tags": []
     },
     "output_type": "execute_result"
    }
   ],
   "source": [
    "patient_info.groupby('sex')['contact_number'].sum()"
   ]
  },
  {
   "cell_type": "markdown",
   "id": "sweet-croatia",
   "metadata": {
    "id": "sweet-croatia"
   },
   "source": [
    "    최대값의 경우 여성이 남성보다 접촉자 수가 컸는데, \n",
    "    누적 접촉자 수를 보니 남성이 여성보다 약 1000명 이상 많은 것을 볼 수 있다."
   ]
  },
  {
   "cell_type": "markdown",
   "id": "western-pittsburgh",
   "metadata": {
    "id": "western-pittsburgh"
   },
   "source": [
    "##### 누적 접촉자 수 시각화"
   ]
  },
  {
   "cell_type": "code",
   "execution_count": null,
   "id": "purple-period",
   "metadata": {
    "ExecuteTime": {
     "end_time": "2021-04-06T08:47:42.935582Z",
     "start_time": "2021-04-06T08:47:42.914542Z"
    },
    "id": "purple-period"
   },
   "outputs": [],
   "source": [
    "data = patient_info[['sex', 'contact_number']]\n",
    "data['cumsum'] = data.groupby('sex')['contact_number'].cumsum()"
   ]
  },
  {
   "cell_type": "code",
   "execution_count": null,
   "id": "maritime-centre",
   "metadata": {
    "ExecuteTime": {
     "end_time": "2021-04-06T08:47:43.202982Z",
     "start_time": "2021-04-06T08:47:43.172903Z"
    },
    "colab": {
     "base_uri": "https://localhost:8080/",
     "height": 399
    },
    "executionInfo": {
     "elapsed": 851,
     "status": "ok",
     "timestamp": 1617706262840,
     "user": {
      "displayName": "최유리",
      "photoUrl": "",
      "userId": "16723349519808453958"
     },
     "user_tz": -540
    },
    "id": "maritime-centre",
    "outputId": "75c89883-63e1-47dd-960a-35c6087fc973",
    "scrolled": true
   },
   "outputs": [
    {
     "data": {
      "text/html": [
       "<div>\n",
       "<style scoped>\n",
       "    .dataframe tbody tr th:only-of-type {\n",
       "        vertical-align: middle;\n",
       "    }\n",
       "\n",
       "    .dataframe tbody tr th {\n",
       "        vertical-align: top;\n",
       "    }\n",
       "\n",
       "    .dataframe thead th {\n",
       "        text-align: right;\n",
       "    }\n",
       "</style>\n",
       "<table border=\"1\" class=\"dataframe\">\n",
       "  <thead>\n",
       "    <tr style=\"text-align: right;\">\n",
       "      <th></th>\n",
       "      <th>sex</th>\n",
       "      <th>contact_number</th>\n",
       "      <th>cumsum</th>\n",
       "    </tr>\n",
       "  </thead>\n",
       "  <tbody>\n",
       "    <tr>\n",
       "      <th>0</th>\n",
       "      <td>male</td>\n",
       "      <td>75.0</td>\n",
       "      <td>75.0</td>\n",
       "    </tr>\n",
       "    <tr>\n",
       "      <th>1</th>\n",
       "      <td>male</td>\n",
       "      <td>31.0</td>\n",
       "      <td>106.0</td>\n",
       "    </tr>\n",
       "    <tr>\n",
       "      <th>2</th>\n",
       "      <td>male</td>\n",
       "      <td>17.0</td>\n",
       "      <td>123.0</td>\n",
       "    </tr>\n",
       "    <tr>\n",
       "      <th>3</th>\n",
       "      <td>male</td>\n",
       "      <td>9.0</td>\n",
       "      <td>132.0</td>\n",
       "    </tr>\n",
       "    <tr>\n",
       "      <th>4</th>\n",
       "      <td>female</td>\n",
       "      <td>2.0</td>\n",
       "      <td>2.0</td>\n",
       "    </tr>\n",
       "    <tr>\n",
       "      <th>...</th>\n",
       "      <td>...</td>\n",
       "      <td>...</td>\n",
       "      <td>...</td>\n",
       "    </tr>\n",
       "    <tr>\n",
       "      <th>633</th>\n",
       "      <td>female</td>\n",
       "      <td>14.0</td>\n",
       "      <td>5283.0</td>\n",
       "    </tr>\n",
       "    <tr>\n",
       "      <th>634</th>\n",
       "      <td>female</td>\n",
       "      <td>18.0</td>\n",
       "      <td>5301.0</td>\n",
       "    </tr>\n",
       "    <tr>\n",
       "      <th>635</th>\n",
       "      <td>male</td>\n",
       "      <td>5.0</td>\n",
       "      <td>6335.0</td>\n",
       "    </tr>\n",
       "    <tr>\n",
       "      <th>636</th>\n",
       "      <td>female</td>\n",
       "      <td>9.0</td>\n",
       "      <td>5310.0</td>\n",
       "    </tr>\n",
       "    <tr>\n",
       "      <th>637</th>\n",
       "      <td>female</td>\n",
       "      <td>6.0</td>\n",
       "      <td>5316.0</td>\n",
       "    </tr>\n",
       "  </tbody>\n",
       "</table>\n",
       "<p>638 rows × 3 columns</p>\n",
       "</div>"
      ],
      "text/plain": [
       "        sex  contact_number  cumsum\n",
       "0      male            75.0    75.0\n",
       "1      male            31.0   106.0\n",
       "2      male            17.0   123.0\n",
       "3      male             9.0   132.0\n",
       "4    female             2.0     2.0\n",
       "..      ...             ...     ...\n",
       "633  female            14.0  5283.0\n",
       "634  female            18.0  5301.0\n",
       "635    male             5.0  6335.0\n",
       "636  female             9.0  5310.0\n",
       "637  female             6.0  5316.0\n",
       "\n",
       "[638 rows x 3 columns]"
      ]
     },
     "execution_count": 12,
     "metadata": {
      "tags": []
     },
     "output_type": "execute_result"
    }
   ],
   "source": [
    "data.dropna(inplace=True)\n",
    "data.reset_index(drop=True, inplace=True)\n",
    "data"
   ]
  },
  {
   "cell_type": "code",
   "execution_count": null,
   "id": "brutal-teach",
   "metadata": {
    "ExecuteTime": {
     "end_time": "2021-04-06T08:47:43.440982Z",
     "start_time": "2021-04-06T08:47:43.425965Z"
    },
    "id": "brutal-teach"
   },
   "outputs": [],
   "source": [
    "data = data[['sex', 'cumsum']]\n",
    "male = data[data['sex'] == 'male']\n",
    "male.reset_index(drop=True, inplace=True)\n",
    "# male\n",
    "\n",
    "female = data[data['sex'] == 'female']\n",
    "female.reset_index(drop=True, inplace=True)\n",
    "# female"
   ]
  },
  {
   "cell_type": "code",
   "execution_count": null,
   "id": "understanding-access",
   "metadata": {
    "ExecuteTime": {
     "end_time": "2021-04-06T08:47:43.803197Z",
     "start_time": "2021-04-06T08:47:43.746484Z"
    },
    "colab": {
     "base_uri": "https://localhost:8080/",
     "height": 542
    },
    "executionInfo": {
     "elapsed": 1654,
     "status": "ok",
     "timestamp": 1617706266687,
     "user": {
      "displayName": "최유리",
      "photoUrl": "",
      "userId": "16723349519808453958"
     },
     "user_tz": -540
    },
    "id": "understanding-access",
    "outputId": "b4c4c4c6-6b7c-4ee3-8b15-a52d4528e294"
   },
   "outputs": [
    {
     "data": {
      "text/html": [
       "<html>\n",
       "<head><meta charset=\"utf-8\" /></head>\n",
       "<body>\n",
       "    <div>\n",
       "            <script src=\"https://cdnjs.cloudflare.com/ajax/libs/mathjax/2.7.5/MathJax.js?config=TeX-AMS-MML_SVG\"></script><script type=\"text/javascript\">if (window.MathJax) {MathJax.Hub.Config({SVG: {font: \"STIX-Web\"}});}</script>\n",
       "                <script type=\"text/javascript\">window.PlotlyConfig = {MathJaxConfig: 'local'};</script>\n",
       "        <script src=\"https://cdn.plot.ly/plotly-latest.min.js\"></script>    \n",
       "            <div id=\"18116436-fbd8-4f24-b59e-bd1c8b02d513\" class=\"plotly-graph-div\" style=\"height:525px; width:100%;\"></div>\n",
       "            <script type=\"text/javascript\">\n",
       "                \n",
       "                    window.PLOTLYENV=window.PLOTLYENV || {};\n",
       "                    \n",
       "                if (document.getElementById(\"18116436-fbd8-4f24-b59e-bd1c8b02d513\")) {\n",
       "                    Plotly.newPlot(\n",
       "                        '18116436-fbd8-4f24-b59e-bd1c8b02d513',\n",
       "                        [{\"mode\": \"lines\", \"name\": \"male\", \"type\": \"scatter\", \"x\": [0, 1, 2, 3, 4, 5, 6, 7, 8, 9, 10, 11, 12, 13, 14, 15, 16, 17, 18, 19, 20, 21, 22, 23, 24, 25, 26, 27, 28, 29, 30, 31, 32, 33, 34, 35, 36, 37, 38, 39, 40, 41, 42, 43, 44, 45, 46, 47, 48, 49, 50, 51, 52, 53, 54, 55, 56, 57, 58, 59, 60, 61, 62, 63, 64, 65, 66, 67, 68, 69, 70, 71, 72, 73, 74, 75, 76, 77, 78, 79, 80, 81, 82, 83, 84, 85, 86, 87, 88, 89, 90, 91, 92, 93, 94, 95, 96, 97, 98, 99, 100, 101, 102, 103, 104, 105, 106, 107, 108, 109, 110, 111, 112, 113, 114, 115, 116, 117, 118, 119, 120, 121, 122, 123, 124, 125, 126, 127, 128, 129, 130, 131, 132, 133, 134, 135, 136, 137, 138, 139, 140, 141, 142, 143, 144, 145, 146, 147, 148, 149, 150, 151, 152, 153, 154, 155, 156, 157, 158, 159, 160, 161, 162, 163, 164, 165, 166, 167, 168, 169, 170, 171, 172, 173, 174, 175, 176, 177, 178, 179, 180, 181, 182, 183, 184, 185, 186, 187, 188, 189, 190, 191, 192, 193, 194, 195, 196, 197, 198, 199, 200, 201, 202, 203, 204, 205, 206, 207, 208, 209, 210, 211, 212, 213, 214, 215, 216, 217, 218, 219, 220, 221, 222, 223, 224, 225, 226, 227, 228, 229, 230, 231, 232, 233, 234, 235, 236, 237, 238, 239, 240, 241, 242, 243, 244, 245, 246, 247, 248, 249, 250, 251, 252, 253, 254, 255, 256, 257, 258, 259, 260, 261, 262, 263, 264, 265, 266, 267, 268, 269, 270, 271, 272, 273, 274, 275, 276, 277, 278, 279, 280, 281, 282, 283], \"y\": [75.0, 106.0, 123.0, 132.0, 132.0, 132.0, 200.0, 200.0, 317.0, 325.0, 333.0, 337.0, 340.0, 346.0, 346.0, 348.0, 349.0, 351.0, 1442.0, 1927.0, 1954.0, 1958.0, 1977.0, 1992.0, 2019.0, 2053.0, 2072.0, 2073.0, 2110.0, 2111.0, 2118.0, 2146.0, 2167.0, 2192.0, 2211.0, 2370.0, 2379.0, 2382.0, 2384.0, 2411.0, 2421.0, 2422.0, 2426.0, 2467.0, 2486.0, 2489.0, 2490.0, 2491.0, 2499.0, 2500.0, 2510.0, 2548.0, 2551.0, 2551.0, 2551.0, 2553.0, 2556.0, 2561.0, 2565.0, 2567.0, 2567.0, 2591.0, 2602.0, 2602.0, 2607.0, 2612.0, 2636.0, 2636.0, 2639.0, 2641.0, 2642.0, 2660.0, 2661.0, 2662.0, 2663.0, 2665.0, 2686.0, 2686.0, 2686.0, 2686.0, 2688.0, 2831.0, 2896.0, 2926.0, 3082.0, 3096.0, 3135.0, 3221.0, 3251.0, 3325.0, 3341.0, 3366.0, 3368.0, 3369.0, 3371.0, 3374.0, 3375.0, 3390.0, 3392.0, 3394.0, 3400.0, 3404.0, 3468.0, 3489.0, 3501.0, 3567.0, 3570.0, 3573.0, 3582.0, 3601.0, 3603.0, 3643.0, 3646.0, 3646.0, 3686.0, 3727.0, 3737.0, 3782.0, 3787.0, 3812.0, 3821.0, 3823.0, 3836.0, 3844.0, 3865.0, 3867.0, 3875.0, 3885.0, 3891.0, 3898.0, 3909.0, 3914.0, 3940.0, 3962.0, 3971.0, 3973.0, 3976.0, 3979.0, 3980.0, 3981.0, 3982.0, 3998.0, 4093.0, 4515.0, 4530.0, 4820.0, 4820.0, 4852.0, 4867.0, 4890.0, 4907.0, 4911.0, 4914.0, 4937.0, 4944.0, 4947.0, 4957.0, 4986.0, 5008.0, 5023.0, 5027.0, 5028.0, 5045.0, 5046.0, 5048.0, 5054.0, 5056.0, 5075.0, 5078.0, 5080.0, 5082.0, 5085.0, 5089.0, 5093.0, 5119.0, 5122.0, 5125.0, 5134.0, 5137.0, 5140.0, 5145.0, 5147.0, 5150.0, 5151.0, 5156.0, 5159.0, 5163.0, 5234.0, 5239.0, 5249.0, 5250.0, 5258.0, 5261.0, 5302.0, 5307.0, 5352.0, 5369.0, 5374.0, 5398.0, 5402.0, 5410.0, 5427.0, 5432.0, 5432.0, 5434.0, 5434.0, 5438.0, 5442.0, 5442.0, 5443.0, 5446.0, 5468.0, 5519.0, 5570.0, 5570.0, 5570.0, 5570.0, 5570.0, 5580.0, 5580.0, 5581.0, 5581.0, 5584.0, 5584.0, 5584.0, 5591.0, 5594.0, 5594.0, 5605.0, 5607.0, 5781.0, 5781.0, 5781.0, 5859.0, 5864.0, 5901.0, 5901.0, 5902.0, 5904.0, 5907.0, 5909.0, 5909.0, 5910.0, 5912.0, 5912.0, 5913.0, 5916.0, 5917.0, 5920.0, 5922.0, 5922.0, 5924.0, 5924.0, 5925.0, 6014.0, 6018.0, 6019.0, 6042.0, 6052.0, 6058.0, 6063.0, 6071.0, 6073.0, 6078.0, 6079.0, 6081.0, 6086.0, 6089.0, 6093.0, 6096.0, 6099.0, 6101.0, 6104.0, 6106.0, 6107.0, 6110.0, 6114.0, 6130.0, 6143.0, 6146.0, 6233.0, 6307.0, 6330.0, 6335.0]}, {\"mode\": \"lines\", \"name\": \"female\", \"type\": \"scatter\", \"x\": [0, 1, 2, 3, 4, 5, 6, 7, 8, 9, 10, 11, 12, 13, 14, 15, 16, 17, 18, 19, 20, 21, 22, 23, 24, 25, 26, 27, 28, 29, 30, 31, 32, 33, 34, 35, 36, 37, 38, 39, 40, 41, 42, 43, 44, 45, 46, 47, 48, 49, 50, 51, 52, 53, 54, 55, 56, 57, 58, 59, 60, 61, 62, 63, 64, 65, 66, 67, 68, 69, 70, 71, 72, 73, 74, 75, 76, 77, 78, 79, 80, 81, 82, 83, 84, 85, 86, 87, 88, 89, 90, 91, 92, 93, 94, 95, 96, 97, 98, 99, 100, 101, 102, 103, 104, 105, 106, 107, 108, 109, 110, 111, 112, 113, 114, 115, 116, 117, 118, 119, 120, 121, 122, 123, 124, 125, 126, 127, 128, 129, 130, 131, 132, 133, 134, 135, 136, 137, 138, 139, 140, 141, 142, 143, 144, 145, 146, 147, 148, 149, 150, 151, 152, 153, 154, 155, 156, 157, 158, 159, 160, 161, 162, 163, 164, 165, 166, 167, 168, 169, 170, 171, 172, 173, 174, 175, 176, 177, 178, 179, 180, 181, 182, 183, 184, 185, 186, 187, 188, 189, 190, 191, 192, 193, 194, 195, 196, 197, 198, 199, 200, 201, 202, 203, 204, 205, 206, 207, 208, 209, 210, 211, 212, 213, 214, 215, 216, 217, 218, 219, 220, 221, 222, 223, 224, 225, 226, 227, 228, 229, 230, 231, 232, 233, 234, 235, 236, 237, 238, 239, 240, 241, 242, 243, 244, 245, 246, 247, 248, 249, 250, 251, 252, 253, 254, 255, 256, 257, 258, 259, 260, 261, 262, 263, 264, 265, 266, 267, 268, 269, 270, 271, 272, 273, 274, 275, 276, 277, 278, 279, 280, 281, 282, 283, 284, 285, 286, 287, 288, 289, 290, 291, 292, 293, 294, 295, 296, 297, 298, 299, 300, 301, 302, 303, 304, 305, 306, 307, 308, 309, 310, 311, 312, 313, 314, 315, 316, 317, 318, 319, 320, 321, 322, 323, 324, 325, 326, 327, 328, 329, 330, 331, 332, 333, 334, 335, 336, 337, 338, 339, 340, 341, 342, 343, 344, 345, 346, 347, 348, 349, 350, 351, 352, 353], \"y\": [2.0, 45.0, 51.0, 74.0, 101.0, 104.0, 110.0, 111.0, 113.0, 115.0, 118.0, 119.0, 120.0, 121.0, 123.0, 124.0, 255.0, 271.0, 279.0, 293.0, 293.0, 316.0, 612.0, 628.0, 650.0, 659.0, 678.0, 680.0, 689.0, 699.0, 707.0, 710.0, 715.0, 715.0, 718.0, 736.0, 736.0, 743.0, 743.0, 743.0, 745.0, 756.0, 756.0, 786.0, 788.0, 815.0, 826.0, 897.0, 899.0, 909.0, 911.0, 914.0, 919.0, 921.0, 923.0, 923.0, 926.0, 929.0, 942.0, 943.0, 944.0, 959.0, 964.0, 978.0, 978.0, 982.0, 1006.0, 1012.0, 1013.0, 1017.0, 1026.0, 1030.0, 1031.0, 1039.0, 1043.0, 1045.0, 1048.0, 1048.0, 1050.0, 1052.0, 1057.0, 1058.0, 2218.0, 2668.0, 2676.0, 2723.0, 2723.0, 2809.0, 2823.0, 2835.0, 2858.0, 2861.0, 2862.0, 2866.0, 2868.0, 2891.0, 2900.0, 2946.0, 2958.0, 2969.0, 2971.0, 2971.0, 2977.0, 2977.0, 2977.0, 2977.0, 2978.0, 3005.0, 3032.0, 3039.0, 3042.0, 3044.0, 3051.0, 3091.0, 3113.0, 3116.0, 3118.0, 3119.0, 3122.0, 3124.0, 3128.0, 3135.0, 3146.0, 3157.0, 3171.0, 3194.0, 3197.0, 3198.0, 3216.0, 3219.0, 3221.0, 3233.0, 3273.0, 3274.0, 3280.0, 3286.0, 3293.0, 3304.0, 3309.0, 3314.0, 3317.0, 3320.0, 3328.0, 3330.0, 3332.0, 3349.0, 3356.0, 3360.0, 3413.0, 3415.0, 3421.0, 3426.0, 3434.0, 3436.0, 3438.0, 3449.0, 3451.0, 3455.0, 3458.0, 3461.0, 3462.0, 3465.0, 3467.0, 3469.0, 3539.0, 3541.0, 3542.0, 3543.0, 3545.0, 3547.0, 3560.0, 3563.0, 3568.0, 3571.0, 3575.0, 3578.0, 3587.0, 3590.0, 3594.0, 3595.0, 3599.0, 3602.0, 3604.0, 3606.0, 3607.0, 3608.0, 3611.0, 3615.0, 3617.0, 3618.0, 3622.0, 3628.0, 3629.0, 3630.0, 3639.0, 3640.0, 3657.0, 3660.0, 3665.0, 3682.0, 3687.0, 3712.0, 3715.0, 3716.0, 3717.0, 3734.0, 3739.0, 3749.0, 3749.0, 3784.0, 3788.0, 3794.0, 3803.0, 3844.0, 3974.0, 3977.0, 3979.0, 4010.0, 4015.0, 4025.0, 4040.0, 4042.0, 4043.0, 4048.0, 4051.0, 4075.0, 4077.0, 4088.0, 4090.0, 4143.0, 4145.0, 4151.0, 4151.0, 4157.0, 4162.0, 4162.0, 4185.0, 4193.0, 4200.0, 4206.0, 4312.0, 4313.0, 4318.0, 4328.0, 4330.0, 4330.0, 4330.0, 4331.0, 4336.0, 4343.0, 4343.0, 4344.0, 4344.0, 4344.0, 4371.0, 4376.0, 4376.0, 4379.0, 4393.0, 4397.0, 4401.0, 4404.0, 4404.0, 4405.0, 4419.0, 4428.0, 4433.0, 4452.0, 4452.0, 4452.0, 4452.0, 4485.0, 4485.0, 4485.0, 4504.0, 4522.0, 4527.0, 4527.0, 4534.0, 4536.0, 4540.0, 4544.0, 4578.0, 4593.0, 4607.0, 4612.0, 4612.0, 4622.0, 4661.0, 4669.0, 4674.0, 4677.0, 4685.0, 4685.0, 4714.0, 4718.0, 4719.0, 4721.0, 4834.0, 4848.0, 4851.0, 4889.0, 4896.0, 4898.0, 4901.0, 4906.0, 4908.0, 4917.0, 4923.0, 4926.0, 4935.0, 4950.0, 4954.0, 4961.0, 4963.0, 4972.0, 4975.0, 4979.0, 4983.0, 4988.0, 4994.0, 4996.0, 4997.0, 4998.0, 5000.0, 5001.0, 5008.0, 5010.0, 5011.0, 5013.0, 5014.0, 5015.0, 5016.0, 5019.0, 5023.0, 5025.0, 5026.0, 5030.0, 5032.0, 5033.0, 5049.0, 5051.0, 5082.0, 5082.0, 5093.0, 5177.0, 5198.0, 5218.0, 5244.0, 5269.0, 5283.0, 5301.0, 5310.0, 5316.0]}],\n",
       "                        {\"template\": {\"data\": {\"bar\": [{\"error_x\": {\"color\": \"#2a3f5f\"}, \"error_y\": {\"color\": \"#2a3f5f\"}, \"marker\": {\"line\": {\"color\": \"#E5ECF6\", \"width\": 0.5}}, \"type\": \"bar\"}], \"barpolar\": [{\"marker\": {\"line\": {\"color\": \"#E5ECF6\", \"width\": 0.5}}, \"type\": \"barpolar\"}], \"carpet\": [{\"aaxis\": {\"endlinecolor\": \"#2a3f5f\", \"gridcolor\": \"white\", \"linecolor\": \"white\", \"minorgridcolor\": \"white\", \"startlinecolor\": \"#2a3f5f\"}, \"baxis\": {\"endlinecolor\": \"#2a3f5f\", \"gridcolor\": \"white\", \"linecolor\": \"white\", \"minorgridcolor\": \"white\", \"startlinecolor\": \"#2a3f5f\"}, \"type\": \"carpet\"}], \"choropleth\": [{\"colorbar\": {\"outlinewidth\": 0, \"ticks\": \"\"}, \"type\": \"choropleth\"}], \"contour\": [{\"colorbar\": {\"outlinewidth\": 0, \"ticks\": \"\"}, \"colorscale\": [[0.0, \"#0d0887\"], [0.1111111111111111, \"#46039f\"], [0.2222222222222222, \"#7201a8\"], [0.3333333333333333, \"#9c179e\"], [0.4444444444444444, \"#bd3786\"], [0.5555555555555556, \"#d8576b\"], [0.6666666666666666, \"#ed7953\"], [0.7777777777777778, \"#fb9f3a\"], [0.8888888888888888, \"#fdca26\"], [1.0, \"#f0f921\"]], \"type\": \"contour\"}], \"contourcarpet\": [{\"colorbar\": {\"outlinewidth\": 0, \"ticks\": \"\"}, \"type\": \"contourcarpet\"}], \"heatmap\": [{\"colorbar\": {\"outlinewidth\": 0, \"ticks\": \"\"}, \"colorscale\": [[0.0, \"#0d0887\"], [0.1111111111111111, \"#46039f\"], [0.2222222222222222, \"#7201a8\"], [0.3333333333333333, \"#9c179e\"], [0.4444444444444444, \"#bd3786\"], [0.5555555555555556, \"#d8576b\"], [0.6666666666666666, \"#ed7953\"], [0.7777777777777778, \"#fb9f3a\"], [0.8888888888888888, \"#fdca26\"], [1.0, \"#f0f921\"]], \"type\": \"heatmap\"}], \"heatmapgl\": [{\"colorbar\": {\"outlinewidth\": 0, \"ticks\": \"\"}, \"colorscale\": [[0.0, \"#0d0887\"], [0.1111111111111111, \"#46039f\"], [0.2222222222222222, \"#7201a8\"], [0.3333333333333333, \"#9c179e\"], [0.4444444444444444, \"#bd3786\"], [0.5555555555555556, \"#d8576b\"], [0.6666666666666666, \"#ed7953\"], [0.7777777777777778, \"#fb9f3a\"], [0.8888888888888888, \"#fdca26\"], [1.0, \"#f0f921\"]], \"type\": \"heatmapgl\"}], \"histogram\": [{\"marker\": {\"colorbar\": {\"outlinewidth\": 0, \"ticks\": \"\"}}, \"type\": \"histogram\"}], \"histogram2d\": [{\"colorbar\": {\"outlinewidth\": 0, \"ticks\": \"\"}, \"colorscale\": [[0.0, \"#0d0887\"], [0.1111111111111111, \"#46039f\"], [0.2222222222222222, \"#7201a8\"], [0.3333333333333333, \"#9c179e\"], [0.4444444444444444, \"#bd3786\"], [0.5555555555555556, \"#d8576b\"], [0.6666666666666666, \"#ed7953\"], [0.7777777777777778, \"#fb9f3a\"], [0.8888888888888888, \"#fdca26\"], [1.0, \"#f0f921\"]], \"type\": \"histogram2d\"}], \"histogram2dcontour\": [{\"colorbar\": {\"outlinewidth\": 0, \"ticks\": \"\"}, \"colorscale\": [[0.0, \"#0d0887\"], [0.1111111111111111, \"#46039f\"], [0.2222222222222222, \"#7201a8\"], [0.3333333333333333, \"#9c179e\"], [0.4444444444444444, \"#bd3786\"], [0.5555555555555556, \"#d8576b\"], [0.6666666666666666, \"#ed7953\"], [0.7777777777777778, \"#fb9f3a\"], [0.8888888888888888, \"#fdca26\"], [1.0, \"#f0f921\"]], \"type\": \"histogram2dcontour\"}], \"mesh3d\": [{\"colorbar\": {\"outlinewidth\": 0, \"ticks\": \"\"}, \"type\": \"mesh3d\"}], \"parcoords\": [{\"line\": {\"colorbar\": {\"outlinewidth\": 0, \"ticks\": \"\"}}, \"type\": \"parcoords\"}], \"pie\": [{\"automargin\": true, \"type\": \"pie\"}], \"scatter\": [{\"marker\": {\"colorbar\": {\"outlinewidth\": 0, \"ticks\": \"\"}}, \"type\": \"scatter\"}], \"scatter3d\": [{\"line\": {\"colorbar\": {\"outlinewidth\": 0, \"ticks\": \"\"}}, \"marker\": {\"colorbar\": {\"outlinewidth\": 0, \"ticks\": \"\"}}, \"type\": \"scatter3d\"}], \"scattercarpet\": [{\"marker\": {\"colorbar\": {\"outlinewidth\": 0, \"ticks\": \"\"}}, \"type\": \"scattercarpet\"}], \"scattergeo\": [{\"marker\": {\"colorbar\": {\"outlinewidth\": 0, \"ticks\": \"\"}}, \"type\": \"scattergeo\"}], \"scattergl\": [{\"marker\": {\"colorbar\": {\"outlinewidth\": 0, \"ticks\": \"\"}}, \"type\": \"scattergl\"}], \"scattermapbox\": [{\"marker\": {\"colorbar\": {\"outlinewidth\": 0, \"ticks\": \"\"}}, \"type\": \"scattermapbox\"}], \"scatterpolar\": [{\"marker\": {\"colorbar\": {\"outlinewidth\": 0, \"ticks\": \"\"}}, \"type\": \"scatterpolar\"}], \"scatterpolargl\": [{\"marker\": {\"colorbar\": {\"outlinewidth\": 0, \"ticks\": \"\"}}, \"type\": \"scatterpolargl\"}], \"scatterternary\": [{\"marker\": {\"colorbar\": {\"outlinewidth\": 0, \"ticks\": \"\"}}, \"type\": \"scatterternary\"}], \"surface\": [{\"colorbar\": {\"outlinewidth\": 0, \"ticks\": \"\"}, \"colorscale\": [[0.0, \"#0d0887\"], [0.1111111111111111, \"#46039f\"], [0.2222222222222222, \"#7201a8\"], [0.3333333333333333, \"#9c179e\"], [0.4444444444444444, \"#bd3786\"], [0.5555555555555556, \"#d8576b\"], [0.6666666666666666, \"#ed7953\"], [0.7777777777777778, \"#fb9f3a\"], [0.8888888888888888, \"#fdca26\"], [1.0, \"#f0f921\"]], \"type\": \"surface\"}], \"table\": [{\"cells\": {\"fill\": {\"color\": \"#EBF0F8\"}, \"line\": {\"color\": \"white\"}}, \"header\": {\"fill\": {\"color\": \"#C8D4E3\"}, \"line\": {\"color\": \"white\"}}, \"type\": \"table\"}]}, \"layout\": {\"annotationdefaults\": {\"arrowcolor\": \"#2a3f5f\", \"arrowhead\": 0, \"arrowwidth\": 1}, \"coloraxis\": {\"colorbar\": {\"outlinewidth\": 0, \"ticks\": \"\"}}, \"colorscale\": {\"diverging\": [[0, \"#8e0152\"], [0.1, \"#c51b7d\"], [0.2, \"#de77ae\"], [0.3, \"#f1b6da\"], [0.4, \"#fde0ef\"], [0.5, \"#f7f7f7\"], [0.6, \"#e6f5d0\"], [0.7, \"#b8e186\"], [0.8, \"#7fbc41\"], [0.9, \"#4d9221\"], [1, \"#276419\"]], \"sequential\": [[0.0, \"#0d0887\"], [0.1111111111111111, \"#46039f\"], [0.2222222222222222, \"#7201a8\"], [0.3333333333333333, \"#9c179e\"], [0.4444444444444444, \"#bd3786\"], [0.5555555555555556, \"#d8576b\"], [0.6666666666666666, \"#ed7953\"], [0.7777777777777778, \"#fb9f3a\"], [0.8888888888888888, \"#fdca26\"], [1.0, \"#f0f921\"]], \"sequentialminus\": [[0.0, \"#0d0887\"], [0.1111111111111111, \"#46039f\"], [0.2222222222222222, \"#7201a8\"], [0.3333333333333333, \"#9c179e\"], [0.4444444444444444, \"#bd3786\"], [0.5555555555555556, \"#d8576b\"], [0.6666666666666666, \"#ed7953\"], [0.7777777777777778, \"#fb9f3a\"], [0.8888888888888888, \"#fdca26\"], [1.0, \"#f0f921\"]]}, \"colorway\": [\"#636efa\", \"#EF553B\", \"#00cc96\", \"#ab63fa\", \"#FFA15A\", \"#19d3f3\", \"#FF6692\", \"#B6E880\", \"#FF97FF\", \"#FECB52\"], \"font\": {\"color\": \"#2a3f5f\"}, \"geo\": {\"bgcolor\": \"white\", \"lakecolor\": \"white\", \"landcolor\": \"#E5ECF6\", \"showlakes\": true, \"showland\": true, \"subunitcolor\": \"white\"}, \"hoverlabel\": {\"align\": \"left\"}, \"hovermode\": \"closest\", \"mapbox\": {\"style\": \"light\"}, \"paper_bgcolor\": \"white\", \"plot_bgcolor\": \"#E5ECF6\", \"polar\": {\"angularaxis\": {\"gridcolor\": \"white\", \"linecolor\": \"white\", \"ticks\": \"\"}, \"bgcolor\": \"#E5ECF6\", \"radialaxis\": {\"gridcolor\": \"white\", \"linecolor\": \"white\", \"ticks\": \"\"}}, \"scene\": {\"xaxis\": {\"backgroundcolor\": \"#E5ECF6\", \"gridcolor\": \"white\", \"gridwidth\": 2, \"linecolor\": \"white\", \"showbackground\": true, \"ticks\": \"\", \"zerolinecolor\": \"white\"}, \"yaxis\": {\"backgroundcolor\": \"#E5ECF6\", \"gridcolor\": \"white\", \"gridwidth\": 2, \"linecolor\": \"white\", \"showbackground\": true, \"ticks\": \"\", \"zerolinecolor\": \"white\"}, \"zaxis\": {\"backgroundcolor\": \"#E5ECF6\", \"gridcolor\": \"white\", \"gridwidth\": 2, \"linecolor\": \"white\", \"showbackground\": true, \"ticks\": \"\", \"zerolinecolor\": \"white\"}}, \"shapedefaults\": {\"line\": {\"color\": \"#2a3f5f\"}}, \"ternary\": {\"aaxis\": {\"gridcolor\": \"white\", \"linecolor\": \"white\", \"ticks\": \"\"}, \"baxis\": {\"gridcolor\": \"white\", \"linecolor\": \"white\", \"ticks\": \"\"}, \"bgcolor\": \"#E5ECF6\", \"caxis\": {\"gridcolor\": \"white\", \"linecolor\": \"white\", \"ticks\": \"\"}}, \"title\": {\"x\": 0.05}, \"xaxis\": {\"automargin\": true, \"gridcolor\": \"white\", \"linecolor\": \"white\", \"ticks\": \"\", \"title\": {\"standoff\": 15}, \"zerolinecolor\": \"white\", \"zerolinewidth\": 2}, \"yaxis\": {\"automargin\": true, \"gridcolor\": \"white\", \"linecolor\": \"white\", \"ticks\": \"\", \"title\": {\"standoff\": 15}, \"zerolinecolor\": \"white\", \"zerolinewidth\": 2}}}, \"title\": {\"font\": {\"color\": \"#31326f\", \"size\": 25}, \"text\": \"\\uc131\\ubcc4 \\ub204\\uc801 \\uc811\\ucd09\\uc790 \\uc218 \\uadf8\\ub798\\ud504\"}},\n",
       "                        {\"responsive\": true}\n",
       "                    ).then(function(){\n",
       "                            \n",
       "var gd = document.getElementById('18116436-fbd8-4f24-b59e-bd1c8b02d513');\n",
       "var x = new MutationObserver(function (mutations, observer) {{\n",
       "        var display = window.getComputedStyle(gd).display;\n",
       "        if (!display || display === 'none') {{\n",
       "            console.log([gd, 'removed!']);\n",
       "            Plotly.purge(gd);\n",
       "            observer.disconnect();\n",
       "        }}\n",
       "}});\n",
       "\n",
       "// Listen for the removal of the full notebook cells\n",
       "var notebookContainer = gd.closest('#notebook-container');\n",
       "if (notebookContainer) {{\n",
       "    x.observe(notebookContainer, {childList: true});\n",
       "}}\n",
       "\n",
       "// Listen for the clearing of the current output cell\n",
       "var outputEl = gd.closest('.output');\n",
       "if (outputEl) {{\n",
       "    x.observe(outputEl, {childList: true});\n",
       "}}\n",
       "\n",
       "                        })\n",
       "                };\n",
       "                \n",
       "            </script>\n",
       "        </div>\n",
       "</body>\n",
       "</html>"
      ]
     },
     "metadata": {
      "tags": []
     },
     "output_type": "display_data"
    }
   ],
   "source": [
    "\n",
    "male = go.Scatter(x = male.index, y = male['cumsum'], mode = 'lines', name = 'male')\n",
    "female = go.Scatter(x = female.index, y = female['cumsum'], mode = 'lines', name = 'female')\n",
    "\n",
    "data = [male, female]\n",
    "\n",
    "layout = go.Layout(title='성별 누적 접촉자 수 그래프', titlefont=dict(size=25, color='#31326f'))\n",
    "\n",
    "fig = go.Figure(data=data, layout=layout)\n",
    "\n",
    "pyo.iplot(fig)\n"
   ]
  },
  {
   "cell_type": "code",
   "execution_count": null,
   "id": "acknowledged-adaptation",
   "metadata": {
    "id": "acknowledged-adaptation"
   },
   "outputs": [],
   "source": []
  },
  {
   "cell_type": "markdown",
   "id": "moral-bullet",
   "metadata": {
    "id": "moral-bullet"
   },
   "source": [
    "### time_gender & covid_sex 데이터 전처리"
   ]
  },
  {
   "cell_type": "markdown",
   "id": "impressed-capture",
   "metadata": {
    "id": "impressed-capture"
   },
   "source": [
    "#### time_gender 데이터\n",
    "     날짜 : 2020/03/02 ~ 2020/04/30"
   ]
  },
  {
   "cell_type": "code",
   "execution_count": 4,
   "id": "inclusive-procedure",
   "metadata": {
    "ExecuteTime": {
     "end_time": "2021-04-06T08:50:44.733441Z",
     "start_time": "2021-04-06T08:50:44.709409Z"
    },
    "colab": {
     "base_uri": "https://localhost:8080/",
     "height": 399
    },
    "executionInfo": {
     "elapsed": 857,
     "status": "ok",
     "timestamp": 1617869373878,
     "user": {
      "displayName": "최유리",
      "photoUrl": "",
      "userId": "16723349519808453958"
     },
     "user_tz": -540
    },
    "id": "inclusive-procedure",
    "outputId": "f162381d-37ee-4c7b-e7cd-9531904db6a4"
   },
   "outputs": [
    {
     "data": {
      "text/html": [
       "<div>\n",
       "<style scoped>\n",
       "    .dataframe tbody tr th:only-of-type {\n",
       "        vertical-align: middle;\n",
       "    }\n",
       "\n",
       "    .dataframe tbody tr th {\n",
       "        vertical-align: top;\n",
       "    }\n",
       "\n",
       "    .dataframe thead th {\n",
       "        text-align: right;\n",
       "    }\n",
       "</style>\n",
       "<table border=\"1\" class=\"dataframe\">\n",
       "  <thead>\n",
       "    <tr style=\"text-align: right;\">\n",
       "      <th></th>\n",
       "      <th>date</th>\n",
       "      <th>time</th>\n",
       "      <th>sex</th>\n",
       "      <th>confirmed</th>\n",
       "      <th>deceased</th>\n",
       "    </tr>\n",
       "  </thead>\n",
       "  <tbody>\n",
       "    <tr>\n",
       "      <th>0</th>\n",
       "      <td>2020-03-02</td>\n",
       "      <td>0</td>\n",
       "      <td>male</td>\n",
       "      <td>1591</td>\n",
       "      <td>13</td>\n",
       "    </tr>\n",
       "    <tr>\n",
       "      <th>1</th>\n",
       "      <td>2020-03-02</td>\n",
       "      <td>0</td>\n",
       "      <td>female</td>\n",
       "      <td>2621</td>\n",
       "      <td>9</td>\n",
       "    </tr>\n",
       "    <tr>\n",
       "      <th>2</th>\n",
       "      <td>2020-03-03</td>\n",
       "      <td>0</td>\n",
       "      <td>male</td>\n",
       "      <td>1810</td>\n",
       "      <td>16</td>\n",
       "    </tr>\n",
       "    <tr>\n",
       "      <th>3</th>\n",
       "      <td>2020-03-03</td>\n",
       "      <td>0</td>\n",
       "      <td>female</td>\n",
       "      <td>3002</td>\n",
       "      <td>12</td>\n",
       "    </tr>\n",
       "    <tr>\n",
       "      <th>4</th>\n",
       "      <td>2020-03-04</td>\n",
       "      <td>0</td>\n",
       "      <td>male</td>\n",
       "      <td>1996</td>\n",
       "      <td>20</td>\n",
       "    </tr>\n",
       "    <tr>\n",
       "      <th>...</th>\n",
       "      <td>...</td>\n",
       "      <td>...</td>\n",
       "      <td>...</td>\n",
       "      <td>...</td>\n",
       "      <td>...</td>\n",
       "    </tr>\n",
       "    <tr>\n",
       "      <th>115</th>\n",
       "      <td>2020-04-28</td>\n",
       "      <td>0</td>\n",
       "      <td>female</td>\n",
       "      <td>6408</td>\n",
       "      <td>116</td>\n",
       "    </tr>\n",
       "    <tr>\n",
       "      <th>116</th>\n",
       "      <td>2020-04-29</td>\n",
       "      <td>0</td>\n",
       "      <td>male</td>\n",
       "      <td>4348</td>\n",
       "      <td>129</td>\n",
       "    </tr>\n",
       "    <tr>\n",
       "      <th>117</th>\n",
       "      <td>2020-04-29</td>\n",
       "      <td>0</td>\n",
       "      <td>female</td>\n",
       "      <td>6413</td>\n",
       "      <td>117</td>\n",
       "    </tr>\n",
       "    <tr>\n",
       "      <th>118</th>\n",
       "      <td>2020-04-30</td>\n",
       "      <td>0</td>\n",
       "      <td>male</td>\n",
       "      <td>4352</td>\n",
       "      <td>130</td>\n",
       "    </tr>\n",
       "    <tr>\n",
       "      <th>119</th>\n",
       "      <td>2020-04-30</td>\n",
       "      <td>0</td>\n",
       "      <td>female</td>\n",
       "      <td>6413</td>\n",
       "      <td>117</td>\n",
       "    </tr>\n",
       "  </tbody>\n",
       "</table>\n",
       "<p>120 rows × 5 columns</p>\n",
       "</div>"
      ],
      "text/plain": [
       "           date  time     sex  confirmed  deceased\n",
       "0    2020-03-02     0    male       1591        13\n",
       "1    2020-03-02     0  female       2621         9\n",
       "2    2020-03-03     0    male       1810        16\n",
       "3    2020-03-03     0  female       3002        12\n",
       "4    2020-03-04     0    male       1996        20\n",
       "..          ...   ...     ...        ...       ...\n",
       "115  2020-04-28     0  female       6408       116\n",
       "116  2020-04-29     0    male       4348       129\n",
       "117  2020-04-29     0  female       6413       117\n",
       "118  2020-04-30     0    male       4352       130\n",
       "119  2020-04-30     0  female       6413       117\n",
       "\n",
       "[120 rows x 5 columns]"
      ]
     },
     "execution_count": 4,
     "metadata": {
      "tags": []
     },
     "output_type": "execute_result"
    }
   ],
   "source": [
    "time_gender"
   ]
  },
  {
   "cell_type": "code",
   "execution_count": 5,
   "id": "changed-briefing",
   "metadata": {
    "ExecuteTime": {
     "end_time": "2021-04-06T08:51:46.973260Z",
     "start_time": "2021-04-06T08:51:46.953234Z"
    },
    "executionInfo": {
     "elapsed": 915,
     "status": "ok",
     "timestamp": 1617869375207,
     "user": {
      "displayName": "최유리",
      "photoUrl": "",
      "userId": "16723349519808453958"
     },
     "user_tz": -540
    },
    "id": "changed-briefing"
   },
   "outputs": [],
   "source": [
    "# 필요없는 time 열 지우기\n",
    "del time_gender['time']\n"
   ]
  },
  {
   "cell_type": "code",
   "execution_count": 5,
   "id": "unlikely-western",
   "metadata": {
    "executionInfo": {
     "elapsed": 1397,
     "status": "ok",
     "timestamp": 1617869376104,
     "user": {
      "displayName": "최유리",
      "photoUrl": "",
      "userId": "16723349519808453958"
     },
     "user_tz": -540
    },
    "id": "unlikely-western"
   },
   "outputs": [],
   "source": []
  },
  {
   "cell_type": "markdown",
   "id": "thousand-techno",
   "metadata": {
    "id": "thousand-techno"
   },
   "source": [
    "#### covid_sex 데이터\n",
    "    날짜 : 2020/04/02 ~ 2021/04/03"
   ]
  },
  {
   "cell_type": "code",
   "execution_count": 6,
   "id": "imperial-alaska",
   "metadata": {
    "ExecuteTime": {
     "end_time": "2021-04-06T08:52:43.169351Z",
     "start_time": "2021-04-06T08:52:43.123384Z"
    },
    "colab": {
     "base_uri": "https://localhost:8080/",
     "height": 399
    },
    "executionInfo": {
     "elapsed": 1029,
     "status": "ok",
     "timestamp": 1617869376397,
     "user": {
      "displayName": "최유리",
      "photoUrl": "",
      "userId": "16723349519808453958"
     },
     "user_tz": -540
    },
    "id": "imperial-alaska",
    "outputId": "074a2687-8e57-4a25-e2b0-f59eafc6d3a1"
   },
   "outputs": [
    {
     "data": {
      "text/html": [
       "<div>\n",
       "<style scoped>\n",
       "    .dataframe tbody tr th:only-of-type {\n",
       "        vertical-align: middle;\n",
       "    }\n",
       "\n",
       "    .dataframe tbody tr th {\n",
       "        vertical-align: top;\n",
       "    }\n",
       "\n",
       "    .dataframe thead th {\n",
       "        text-align: right;\n",
       "    }\n",
       "</style>\n",
       "<table border=\"1\" class=\"dataframe\">\n",
       "  <thead>\n",
       "    <tr style=\"text-align: right;\">\n",
       "      <th></th>\n",
       "      <th>confCase</th>\n",
       "      <th>confCaseRate</th>\n",
       "      <th>createDt</th>\n",
       "      <th>criticalRate</th>\n",
       "      <th>death</th>\n",
       "      <th>deathRate</th>\n",
       "      <th>gubun</th>\n",
       "      <th>seq</th>\n",
       "      <th>updateDt</th>\n",
       "    </tr>\n",
       "  </thead>\n",
       "  <tbody>\n",
       "    <tr>\n",
       "      <th>0</th>\n",
       "      <td>4456</td>\n",
       "      <td>4.25</td>\n",
       "      <td>2021-04-03 16:35:39.463</td>\n",
       "      <td>0.00</td>\n",
       "      <td>0</td>\n",
       "      <td>0.00</td>\n",
       "      <td>0-9</td>\n",
       "      <td>7933</td>\n",
       "      <td>NaN</td>\n",
       "    </tr>\n",
       "    <tr>\n",
       "      <th>1</th>\n",
       "      <td>7137</td>\n",
       "      <td>6.81</td>\n",
       "      <td>2021-04-03 16:35:39.463</td>\n",
       "      <td>0.00</td>\n",
       "      <td>0</td>\n",
       "      <td>0.00</td>\n",
       "      <td>10-19</td>\n",
       "      <td>7932</td>\n",
       "      <td>NaN</td>\n",
       "    </tr>\n",
       "    <tr>\n",
       "      <th>2</th>\n",
       "      <td>15724</td>\n",
       "      <td>15.01</td>\n",
       "      <td>2021-04-03 16:35:39.463</td>\n",
       "      <td>0.02</td>\n",
       "      <td>3</td>\n",
       "      <td>0.17</td>\n",
       "      <td>20-29</td>\n",
       "      <td>7931</td>\n",
       "      <td>NaN</td>\n",
       "    </tr>\n",
       "    <tr>\n",
       "      <th>3</th>\n",
       "      <td>14076</td>\n",
       "      <td>13.44</td>\n",
       "      <td>2021-04-03 16:35:39.463</td>\n",
       "      <td>0.05</td>\n",
       "      <td>7</td>\n",
       "      <td>0.40</td>\n",
       "      <td>30-39</td>\n",
       "      <td>7930</td>\n",
       "      <td>NaN</td>\n",
       "    </tr>\n",
       "    <tr>\n",
       "      <th>4</th>\n",
       "      <td>15270</td>\n",
       "      <td>14.58</td>\n",
       "      <td>2021-04-03 16:35:39.463</td>\n",
       "      <td>0.09</td>\n",
       "      <td>14</td>\n",
       "      <td>0.80</td>\n",
       "      <td>40-49</td>\n",
       "      <td>7929</td>\n",
       "      <td>NaN</td>\n",
       "    </tr>\n",
       "    <tr>\n",
       "      <th>...</th>\n",
       "      <td>...</td>\n",
       "      <td>...</td>\n",
       "      <td>...</td>\n",
       "      <td>...</td>\n",
       "      <td>...</td>\n",
       "      <td>...</td>\n",
       "      <td>...</td>\n",
       "      <td>...</td>\n",
       "      <td>...</td>\n",
       "    </tr>\n",
       "    <tr>\n",
       "      <th>3932</th>\n",
       "      <td>1257</td>\n",
       "      <td>12.60</td>\n",
       "      <td>2020-04-02 19:02:48.48</td>\n",
       "      <td>1.78</td>\n",
       "      <td>22</td>\n",
       "      <td>13.58</td>\n",
       "      <td>60-69</td>\n",
       "      <td>5</td>\n",
       "      <td>NaN</td>\n",
       "    </tr>\n",
       "    <tr>\n",
       "      <th>3933</th>\n",
       "      <td>663</td>\n",
       "      <td>6.65</td>\n",
       "      <td>2020-04-02 19:02:48.48</td>\n",
       "      <td>7.07</td>\n",
       "      <td>46</td>\n",
       "      <td>28.40</td>\n",
       "      <td>70-79</td>\n",
       "      <td>4</td>\n",
       "      <td>NaN</td>\n",
       "    </tr>\n",
       "    <tr>\n",
       "      <th>3934</th>\n",
       "      <td>453</td>\n",
       "      <td>4.54</td>\n",
       "      <td>2020-04-02 19:02:48.48</td>\n",
       "      <td>18.55</td>\n",
       "      <td>82</td>\n",
       "      <td>50.62</td>\n",
       "      <td>80 이상</td>\n",
       "      <td>3</td>\n",
       "      <td>NaN</td>\n",
       "    </tr>\n",
       "    <tr>\n",
       "      <th>3935</th>\n",
       "      <td>5997</td>\n",
       "      <td>60.11</td>\n",
       "      <td>2020-04-02 19:02:48.48</td>\n",
       "      <td>1.36</td>\n",
       "      <td>80</td>\n",
       "      <td>49.38</td>\n",
       "      <td>여성</td>\n",
       "      <td>2</td>\n",
       "      <td>NaN</td>\n",
       "    </tr>\n",
       "    <tr>\n",
       "      <th>3936</th>\n",
       "      <td>3979</td>\n",
       "      <td>39.89</td>\n",
       "      <td>2020-04-02 19:02:48.48</td>\n",
       "      <td>2.10</td>\n",
       "      <td>82</td>\n",
       "      <td>50.62</td>\n",
       "      <td>남성</td>\n",
       "      <td>1</td>\n",
       "      <td>NaN</td>\n",
       "    </tr>\n",
       "  </tbody>\n",
       "</table>\n",
       "<p>3937 rows × 9 columns</p>\n",
       "</div>"
      ],
      "text/plain": [
       "      confCase  confCaseRate                 createDt  ...  gubun   seq  updateDt\n",
       "0         4456          4.25  2021-04-03 16:35:39.463  ...    0-9  7933       NaN\n",
       "1         7137          6.81  2021-04-03 16:35:39.463  ...  10-19  7932       NaN\n",
       "2        15724         15.01  2021-04-03 16:35:39.463  ...  20-29  7931       NaN\n",
       "3        14076         13.44  2021-04-03 16:35:39.463  ...  30-39  7930       NaN\n",
       "4        15270         14.58  2021-04-03 16:35:39.463  ...  40-49  7929       NaN\n",
       "...        ...           ...                      ...  ...    ...   ...       ...\n",
       "3932      1257         12.60   2020-04-02 19:02:48.48  ...  60-69     5       NaN\n",
       "3933       663          6.65   2020-04-02 19:02:48.48  ...  70-79     4       NaN\n",
       "3934       453          4.54   2020-04-02 19:02:48.48  ...  80 이상     3       NaN\n",
       "3935      5997         60.11   2020-04-02 19:02:48.48  ...     여성     2       NaN\n",
       "3936      3979         39.89   2020-04-02 19:02:48.48  ...     남성     1       NaN\n",
       "\n",
       "[3937 rows x 9 columns]"
      ]
     },
     "execution_count": 6,
     "metadata": {
      "tags": []
     },
     "output_type": "execute_result"
    }
   ],
   "source": [
    "covid_sex"
   ]
  },
  {
   "cell_type": "markdown",
   "id": "loose-beginning",
   "metadata": {
    "id": "loose-beginning"
   },
   "source": [
    "##### gubun 변수에서 여성과 남성 값만 가져오기"
   ]
  },
  {
   "cell_type": "code",
   "execution_count": 7,
   "id": "educational-policy",
   "metadata": {
    "ExecuteTime": {
     "end_time": "2021-04-06T09:04:23.767546Z",
     "start_time": "2021-04-06T09:04:23.729648Z"
    },
    "executionInfo": {
     "elapsed": 511,
     "status": "ok",
     "timestamp": 1617869377090,
     "user": {
      "displayName": "최유리",
      "photoUrl": "",
      "userId": "16723349519808453958"
     },
     "user_tz": -540
    },
    "id": "educational-policy"
   },
   "outputs": [],
   "source": [
    "covid_sex = covid_sex[(covid_sex['gubun'] == '남성') |\n",
    "                      (covid_sex['gubun'] == '여성')].reset_index(drop=True)"
   ]
  },
  {
   "cell_type": "markdown",
   "id": "toxic-trust",
   "metadata": {
    "id": "toxic-trust"
   },
   "source": [
    "##### 필요없는 seq, updateDt, confCaseRate, criticalRate, deathRate  지우기"
   ]
  },
  {
   "cell_type": "code",
   "execution_count": 8,
   "id": "renewable-significance",
   "metadata": {
    "ExecuteTime": {
     "end_time": "2021-04-06T09:04:24.686403Z",
     "start_time": "2021-04-06T09:04:24.657480Z"
    },
    "executionInfo": {
     "elapsed": 1057,
     "status": "ok",
     "timestamp": 1617869378334,
     "user": {
      "displayName": "최유리",
      "photoUrl": "",
      "userId": "16723349519808453958"
     },
     "user_tz": -540
    },
    "id": "renewable-significance"
   },
   "outputs": [],
   "source": [
    "covid_sex_copy = covid_sex.copy()\n",
    "covid_sex_copy.drop(\n",
    "    columns=['confCaseRate', 'criticalRate', 'deathRate', 'seq', 'updateDt'], inplace=True )\n",
    "\n"
   ]
  },
  {
   "cell_type": "markdown",
   "id": "vietnamese-encoding",
   "metadata": {
    "id": "vietnamese-encoding"
   },
   "source": [
    "##### createDt에서 년/월/일 만 가져오기"
   ]
  },
  {
   "cell_type": "code",
   "execution_count": 9,
   "id": "visible-athens",
   "metadata": {
    "ExecuteTime": {
     "end_time": "2021-04-06T09:04:25.462071Z",
     "start_time": "2021-04-06T09:04:25.441128Z"
    },
    "executionInfo": {
     "elapsed": 474,
     "status": "ok",
     "timestamp": 1617869378685,
     "user": {
      "displayName": "최유리",
      "photoUrl": "",
      "userId": "16723349519808453958"
     },
     "user_tz": -540
    },
    "id": "visible-athens"
   },
   "outputs": [],
   "source": [
    "covid_sex_copy['date'] = covid_sex_copy['createDt'].str.split(' ').str[0]\n",
    "del covid_sex_copy['createDt']\n",
    "\n"
   ]
  },
  {
   "cell_type": "markdown",
   "id": "basic-carroll",
   "metadata": {
    "id": "basic-carroll"
   },
   "source": [
    "##### gubun : sex , confCase : confirmed,  death : deceased, 여성/남성 : female/male 로 변경"
   ]
  },
  {
   "cell_type": "code",
   "execution_count": 10,
   "id": "spread-kinase",
   "metadata": {
    "ExecuteTime": {
     "end_time": "2021-04-06T09:08:21.797563Z",
     "start_time": "2021-04-06T09:08:21.789526Z"
    },
    "executionInfo": {
     "elapsed": 1355,
     "status": "ok",
     "timestamp": 1617869380366,
     "user": {
      "displayName": "최유리",
      "photoUrl": "",
      "userId": "16723349519808453958"
     },
     "user_tz": -540
    },
    "id": "spread-kinase"
   },
   "outputs": [],
   "source": [
    "covid_sex_copy.rename(columns={'gubun':'sex', 'confCase' : 'confirmed', 'death':'deceased'}, inplace=True)\n",
    "\n",
    "covid_sex_copy = covid_sex_copy.replace('남성', 'male')\n",
    "covid_sex_copy = covid_sex_copy.replace('여성', 'female')"
   ]
  },
  {
   "cell_type": "code",
   "execution_count": 10,
   "id": "exterior-campbell",
   "metadata": {
    "ExecuteTime": {
     "end_time": "2021-04-06T09:08:22.609613Z",
     "start_time": "2021-04-06T09:08:22.594472Z"
    },
    "executionInfo": {
     "elapsed": 929,
     "status": "ok",
     "timestamp": 1617869380366,
     "user": {
      "displayName": "최유리",
      "photoUrl": "",
      "userId": "16723349519808453958"
     },
     "user_tz": -540
    },
    "id": "exterior-campbell"
   },
   "outputs": [],
   "source": []
  },
  {
   "cell_type": "code",
   "execution_count": 10,
   "id": "ambient-client",
   "metadata": {
    "executionInfo": {
     "elapsed": 538,
     "status": "ok",
     "timestamp": 1617869380367,
     "user": {
      "displayName": "최유리",
      "photoUrl": "",
      "userId": "16723349519808453958"
     },
     "user_tz": -540
    },
    "id": "ambient-client"
   },
   "outputs": [],
   "source": []
  },
  {
   "cell_type": "markdown",
   "id": "cutting-secondary",
   "metadata": {
    "id": "cutting-secondary"
   },
   "source": [
    "#### time_gender 와 covid_sex_copy 합치기"
   ]
  },
  {
   "cell_type": "code",
   "execution_count": 11,
   "id": "exposed-assumption",
   "metadata": {
    "ExecuteTime": {
     "end_time": "2021-04-06T09:09:38.314886Z",
     "start_time": "2021-04-06T09:09:38.304832Z"
    },
    "executionInfo": {
     "elapsed": 606,
     "status": "ok",
     "timestamp": 1617869381322,
     "user": {
      "displayName": "최유리",
      "photoUrl": "",
      "userId": "16723349519808453958"
     },
     "user_tz": -540
    },
    "id": "exposed-assumption"
   },
   "outputs": [],
   "source": [
    "covid_sex_copy = covid_sex_copy[covid_sex_copy['date'] > '2020-04-30']"
   ]
  },
  {
   "cell_type": "code",
   "execution_count": 12,
   "id": "italic-investment",
   "metadata": {
    "ExecuteTime": {
     "end_time": "2021-04-06T09:09:58.637494Z",
     "start_time": "2021-04-06T09:09:58.592441Z"
    },
    "colab": {
     "base_uri": "https://localhost:8080/",
     "height": 399
    },
    "executionInfo": {
     "elapsed": 945,
     "status": "ok",
     "timestamp": 1617869382091,
     "user": {
      "displayName": "최유리",
      "photoUrl": "",
      "userId": "16723349519808453958"
     },
     "user_tz": -540
    },
    "id": "italic-investment",
    "outputId": "01a2c7a4-8fe6-409b-ebd4-481bef8458dd"
   },
   "outputs": [
    {
     "data": {
      "text/html": [
       "<div>\n",
       "<style scoped>\n",
       "    .dataframe tbody tr th:only-of-type {\n",
       "        vertical-align: middle;\n",
       "    }\n",
       "\n",
       "    .dataframe tbody tr th {\n",
       "        vertical-align: top;\n",
       "    }\n",
       "\n",
       "    .dataframe thead th {\n",
       "        text-align: right;\n",
       "    }\n",
       "</style>\n",
       "<table border=\"1\" class=\"dataframe\">\n",
       "  <thead>\n",
       "    <tr style=\"text-align: right;\">\n",
       "      <th></th>\n",
       "      <th>confirmed</th>\n",
       "      <th>deceased</th>\n",
       "      <th>sex</th>\n",
       "      <th>date</th>\n",
       "    </tr>\n",
       "  </thead>\n",
       "  <tbody>\n",
       "    <tr>\n",
       "      <th>0</th>\n",
       "      <td>1591</td>\n",
       "      <td>13</td>\n",
       "      <td>male</td>\n",
       "      <td>2020-03-02</td>\n",
       "    </tr>\n",
       "    <tr>\n",
       "      <th>1</th>\n",
       "      <td>2621</td>\n",
       "      <td>9</td>\n",
       "      <td>female</td>\n",
       "      <td>2020-03-02</td>\n",
       "    </tr>\n",
       "    <tr>\n",
       "      <th>2</th>\n",
       "      <td>3002</td>\n",
       "      <td>12</td>\n",
       "      <td>female</td>\n",
       "      <td>2020-03-03</td>\n",
       "    </tr>\n",
       "    <tr>\n",
       "      <th>3</th>\n",
       "      <td>1810</td>\n",
       "      <td>16</td>\n",
       "      <td>male</td>\n",
       "      <td>2020-03-03</td>\n",
       "    </tr>\n",
       "    <tr>\n",
       "      <th>4</th>\n",
       "      <td>3332</td>\n",
       "      <td>12</td>\n",
       "      <td>female</td>\n",
       "      <td>2020-03-04</td>\n",
       "    </tr>\n",
       "    <tr>\n",
       "      <th>...</th>\n",
       "      <td>...</td>\n",
       "      <td>...</td>\n",
       "      <td>...</td>\n",
       "      <td>...</td>\n",
       "    </tr>\n",
       "    <tr>\n",
       "      <th>781</th>\n",
       "      <td>52174</td>\n",
       "      <td>871</td>\n",
       "      <td>female</td>\n",
       "      <td>2021-04-01</td>\n",
       "    </tr>\n",
       "    <tr>\n",
       "      <th>782</th>\n",
       "      <td>51758</td>\n",
       "      <td>865</td>\n",
       "      <td>male</td>\n",
       "      <td>2021-04-02</td>\n",
       "    </tr>\n",
       "    <tr>\n",
       "      <th>783</th>\n",
       "      <td>52435</td>\n",
       "      <td>872</td>\n",
       "      <td>female</td>\n",
       "      <td>2021-04-02</td>\n",
       "    </tr>\n",
       "    <tr>\n",
       "      <th>784</th>\n",
       "      <td>52032</td>\n",
       "      <td>868</td>\n",
       "      <td>male</td>\n",
       "      <td>2021-04-03</td>\n",
       "    </tr>\n",
       "    <tr>\n",
       "      <th>785</th>\n",
       "      <td>52704</td>\n",
       "      <td>872</td>\n",
       "      <td>female</td>\n",
       "      <td>2021-04-03</td>\n",
       "    </tr>\n",
       "  </tbody>\n",
       "</table>\n",
       "<p>786 rows × 4 columns</p>\n",
       "</div>"
      ],
      "text/plain": [
       "     confirmed  deceased     sex        date\n",
       "0         1591        13    male  2020-03-02\n",
       "1         2621         9  female  2020-03-02\n",
       "2         3002        12  female  2020-03-03\n",
       "3         1810        16    male  2020-03-03\n",
       "4         3332        12  female  2020-03-04\n",
       "..         ...       ...     ...         ...\n",
       "781      52174       871  female  2021-04-01\n",
       "782      51758       865    male  2021-04-02\n",
       "783      52435       872  female  2021-04-02\n",
       "784      52032       868    male  2021-04-03\n",
       "785      52704       872  female  2021-04-03\n",
       "\n",
       "[786 rows x 4 columns]"
      ]
     },
     "execution_count": 12,
     "metadata": {
      "tags": []
     },
     "output_type": "execute_result"
    }
   ],
   "source": [
    "gender = pd.concat([covid_sex_copy, time_gender])\n",
    "gender.sort_values(by='date', inplace=True)\n",
    "gender.reset_index(drop=True, inplace=True)\n",
    "\n",
    "gender"
   ]
  },
  {
   "cell_type": "code",
   "execution_count": 13,
   "id": "limited-warrant",
   "metadata": {
    "ExecuteTime": {
     "end_time": "2021-04-06T09:10:17.983992Z",
     "start_time": "2021-04-06T09:10:17.937146Z"
    },
    "executionInfo": {
     "elapsed": 721,
     "status": "ok",
     "timestamp": 1617869383074,
     "user": {
      "displayName": "최유리",
      "photoUrl": "",
      "userId": "16723349519808453958"
     },
     "user_tz": -540
    },
    "id": "limited-warrant"
   },
   "outputs": [],
   "source": [
    "gender['date'] = pd.to_datetime(gender['date'])"
   ]
  },
  {
   "cell_type": "markdown",
   "id": "o3ArAn7yh79v",
   "metadata": {
    "id": "o3ArAn7yh79v"
   },
   "source": [
    "사망자가 마이너스를 보이는 틔는 값 제거하기"
   ]
  },
  {
   "cell_type": "code",
   "execution_count": 14,
   "id": "located-alert",
   "metadata": {
    "colab": {
     "base_uri": "https://localhost:8080/",
     "height": 399
    },
    "executionInfo": {
     "elapsed": 688,
     "status": "ok",
     "timestamp": 1617869385673,
     "user": {
      "displayName": "최유리",
      "photoUrl": "",
      "userId": "16723349519808453958"
     },
     "user_tz": -540
    },
    "id": "located-alert",
    "outputId": "497c3782-86ef-4461-d621-8073a25b3724"
   },
   "outputs": [
    {
     "data": {
      "text/html": [
       "<div>\n",
       "<style scoped>\n",
       "    .dataframe tbody tr th:only-of-type {\n",
       "        vertical-align: middle;\n",
       "    }\n",
       "\n",
       "    .dataframe tbody tr th {\n",
       "        vertical-align: top;\n",
       "    }\n",
       "\n",
       "    .dataframe thead th {\n",
       "        text-align: right;\n",
       "    }\n",
       "</style>\n",
       "<table border=\"1\" class=\"dataframe\">\n",
       "  <thead>\n",
       "    <tr style=\"text-align: right;\">\n",
       "      <th></th>\n",
       "      <th>confirmed</th>\n",
       "      <th>deceased</th>\n",
       "      <th>sex</th>\n",
       "      <th>date</th>\n",
       "    </tr>\n",
       "  </thead>\n",
       "  <tbody>\n",
       "    <tr>\n",
       "      <th>0</th>\n",
       "      <td>1591</td>\n",
       "      <td>13</td>\n",
       "      <td>male</td>\n",
       "      <td>2020-03-02</td>\n",
       "    </tr>\n",
       "    <tr>\n",
       "      <th>1</th>\n",
       "      <td>2621</td>\n",
       "      <td>9</td>\n",
       "      <td>female</td>\n",
       "      <td>2020-03-02</td>\n",
       "    </tr>\n",
       "    <tr>\n",
       "      <th>2</th>\n",
       "      <td>3002</td>\n",
       "      <td>12</td>\n",
       "      <td>female</td>\n",
       "      <td>2020-03-03</td>\n",
       "    </tr>\n",
       "    <tr>\n",
       "      <th>3</th>\n",
       "      <td>1810</td>\n",
       "      <td>16</td>\n",
       "      <td>male</td>\n",
       "      <td>2020-03-03</td>\n",
       "    </tr>\n",
       "    <tr>\n",
       "      <th>4</th>\n",
       "      <td>3332</td>\n",
       "      <td>12</td>\n",
       "      <td>female</td>\n",
       "      <td>2020-03-04</td>\n",
       "    </tr>\n",
       "    <tr>\n",
       "      <th>...</th>\n",
       "      <td>...</td>\n",
       "      <td>...</td>\n",
       "      <td>...</td>\n",
       "      <td>...</td>\n",
       "    </tr>\n",
       "    <tr>\n",
       "      <th>781</th>\n",
       "      <td>52174</td>\n",
       "      <td>871</td>\n",
       "      <td>female</td>\n",
       "      <td>2021-04-01</td>\n",
       "    </tr>\n",
       "    <tr>\n",
       "      <th>782</th>\n",
       "      <td>51758</td>\n",
       "      <td>865</td>\n",
       "      <td>male</td>\n",
       "      <td>2021-04-02</td>\n",
       "    </tr>\n",
       "    <tr>\n",
       "      <th>783</th>\n",
       "      <td>52435</td>\n",
       "      <td>872</td>\n",
       "      <td>female</td>\n",
       "      <td>2021-04-02</td>\n",
       "    </tr>\n",
       "    <tr>\n",
       "      <th>784</th>\n",
       "      <td>52032</td>\n",
       "      <td>868</td>\n",
       "      <td>male</td>\n",
       "      <td>2021-04-03</td>\n",
       "    </tr>\n",
       "    <tr>\n",
       "      <th>785</th>\n",
       "      <td>52704</td>\n",
       "      <td>872</td>\n",
       "      <td>female</td>\n",
       "      <td>2021-04-03</td>\n",
       "    </tr>\n",
       "  </tbody>\n",
       "</table>\n",
       "<p>782 rows × 4 columns</p>\n",
       "</div>"
      ],
      "text/plain": [
       "     confirmed  deceased     sex       date\n",
       "0         1591        13    male 2020-03-02\n",
       "1         2621         9  female 2020-03-02\n",
       "2         3002        12  female 2020-03-03\n",
       "3         1810        16    male 2020-03-03\n",
       "4         3332        12  female 2020-03-04\n",
       "..         ...       ...     ...        ...\n",
       "781      52174       871  female 2021-04-01\n",
       "782      51758       865    male 2021-04-02\n",
       "783      52435       872  female 2021-04-02\n",
       "784      52032       868    male 2021-04-03\n",
       "785      52704       872  female 2021-04-03\n",
       "\n",
       "[782 rows x 4 columns]"
      ]
     },
     "execution_count": 14,
     "metadata": {
      "tags": []
     },
     "output_type": "execute_result"
    }
   ],
   "source": [
    "gender = gender.drop([gender.index[300], gender.index[301], gender.index[220], gender.index[221]])\n",
    "gender"
   ]
  },
  {
   "cell_type": "markdown",
   "id": "dynamic-frost",
   "metadata": {
    "id": "dynamic-frost"
   },
   "source": [
    "##### 일별 확진자/ 사망자 구하기"
   ]
  },
  {
   "cell_type": "code",
   "execution_count": 15,
   "id": "tracked-shirt",
   "metadata": {
    "ExecuteTime": {
     "end_time": "2021-04-06T09:59:12.108424Z",
     "start_time": "2021-04-06T09:59:12.089428Z"
    },
    "executionInfo": {
     "elapsed": 713,
     "status": "ok",
     "timestamp": 1617869414418,
     "user": {
      "displayName": "최유리",
      "photoUrl": "",
      "userId": "16723349519808453958"
     },
     "user_tz": -540
    },
    "id": "tracked-shirt"
   },
   "outputs": [],
   "source": [
    "gender_male = gender[gender['sex'] == 'male']\n",
    "gender_female = gender[gender['sex'] == 'female']\n",
    "\n",
    "gender_male.reset_index(drop=True, inplace=True)\n",
    "gender_female.reset_index(drop=True, inplace=True)"
   ]
  },
  {
   "cell_type": "code",
   "execution_count": 16,
   "id": "active-phase",
   "metadata": {
    "ExecuteTime": {
     "end_time": "2021-04-06T09:59:19.438566Z",
     "start_time": "2021-04-06T09:59:19.400568Z"
    },
    "executionInfo": {
     "elapsed": 1435,
     "status": "ok",
     "timestamp": 1617869416175,
     "user": {
      "displayName": "최유리",
      "photoUrl": "",
      "userId": "16723349519808453958"
     },
     "user_tz": -540
    },
    "id": "active-phase"
   },
   "outputs": [],
   "source": [
    "confirm_female = []\n",
    "confirm_male = []\n",
    "for i in range(391):\n",
    "    if i == 0 :\n",
    "        confirm_female.append(gender_female['confirmed'][0])\n",
    "        confirm_male.append(gender_male['confirmed'][0])\n",
    "    else :\n",
    "        confirm_female.append(gender_female['confirmed'][i] - gender_female['confirmed'][i-1])\n",
    "        confirm_male.append(gender_male['confirmed'][i] - gender_male['confirmed'][i-1])\n",
    "        \n",
    "        \n",
    "death_female = []\n",
    "death_male = []\n",
    "for i in range(391):\n",
    "    if i == 0 :\n",
    "        death_female.append(gender_female['deceased'][0])\n",
    "        death_male.append(gender_male['deceased'][0])\n",
    "    else :\n",
    "        death_female.append(gender_female['deceased'][i] - gender_female['deceased'][i-1])\n",
    "        death_male.append(gender_male['deceased'][i] - gender_male['deceased'][i-1])"
   ]
  },
  {
   "cell_type": "code",
   "execution_count": 17,
   "id": "horizontal-spine",
   "metadata": {
    "ExecuteTime": {
     "end_time": "2021-04-06T09:59:35.530964Z",
     "start_time": "2021-04-06T09:59:35.510880Z"
    },
    "executionInfo": {
     "elapsed": 532,
     "status": "ok",
     "timestamp": 1617869417106,
     "user": {
      "displayName": "최유리",
      "photoUrl": "",
      "userId": "16723349519808453958"
     },
     "user_tz": -540
    },
    "id": "horizontal-spine"
   },
   "outputs": [],
   "source": [
    "gender_female['confirm_cnt'] = confirm_female\n",
    "gender_female['deceased_cnt'] = death_female\n",
    "\n",
    "gender_male['confirm_cnt'] = confirm_male\n",
    "gender_male['deceased_cnt'] = death_male"
   ]
  },
  {
   "cell_type": "code",
   "execution_count": 18,
   "id": "looking-palestinian",
   "metadata": {
    "ExecuteTime": {
     "end_time": "2021-04-06T10:01:06.963331Z",
     "start_time": "2021-04-06T10:01:06.933365Z"
    },
    "colab": {
     "base_uri": "https://localhost:8080/",
     "height": 399
    },
    "executionInfo": {
     "elapsed": 786,
     "status": "ok",
     "timestamp": 1617869418473,
     "user": {
      "displayName": "최유리",
      "photoUrl": "",
      "userId": "16723349519808453958"
     },
     "user_tz": -540
    },
    "id": "looking-palestinian",
    "outputId": "eef6f026-df73-4b64-d092-a204f49a8e9f"
   },
   "outputs": [
    {
     "data": {
      "text/html": [
       "<div>\n",
       "<style scoped>\n",
       "    .dataframe tbody tr th:only-of-type {\n",
       "        vertical-align: middle;\n",
       "    }\n",
       "\n",
       "    .dataframe tbody tr th {\n",
       "        vertical-align: top;\n",
       "    }\n",
       "\n",
       "    .dataframe thead th {\n",
       "        text-align: right;\n",
       "    }\n",
       "</style>\n",
       "<table border=\"1\" class=\"dataframe\">\n",
       "  <thead>\n",
       "    <tr style=\"text-align: right;\">\n",
       "      <th></th>\n",
       "      <th>confirmed</th>\n",
       "      <th>deceased</th>\n",
       "      <th>sex</th>\n",
       "      <th>date</th>\n",
       "      <th>confirm_cnt</th>\n",
       "      <th>deceased_cnt</th>\n",
       "    </tr>\n",
       "  </thead>\n",
       "  <tbody>\n",
       "    <tr>\n",
       "      <th>0</th>\n",
       "      <td>1591</td>\n",
       "      <td>13</td>\n",
       "      <td>male</td>\n",
       "      <td>2020-03-02</td>\n",
       "      <td>1591</td>\n",
       "      <td>13</td>\n",
       "    </tr>\n",
       "    <tr>\n",
       "      <th>1</th>\n",
       "      <td>2621</td>\n",
       "      <td>9</td>\n",
       "      <td>female</td>\n",
       "      <td>2020-03-02</td>\n",
       "      <td>2621</td>\n",
       "      <td>9</td>\n",
       "    </tr>\n",
       "    <tr>\n",
       "      <th>2</th>\n",
       "      <td>1810</td>\n",
       "      <td>16</td>\n",
       "      <td>male</td>\n",
       "      <td>2020-03-03</td>\n",
       "      <td>219</td>\n",
       "      <td>3</td>\n",
       "    </tr>\n",
       "    <tr>\n",
       "      <th>3</th>\n",
       "      <td>3002</td>\n",
       "      <td>12</td>\n",
       "      <td>female</td>\n",
       "      <td>2020-03-03</td>\n",
       "      <td>381</td>\n",
       "      <td>3</td>\n",
       "    </tr>\n",
       "    <tr>\n",
       "      <th>4</th>\n",
       "      <td>1996</td>\n",
       "      <td>20</td>\n",
       "      <td>male</td>\n",
       "      <td>2020-03-04</td>\n",
       "      <td>186</td>\n",
       "      <td>4</td>\n",
       "    </tr>\n",
       "    <tr>\n",
       "      <th>...</th>\n",
       "      <td>...</td>\n",
       "      <td>...</td>\n",
       "      <td>...</td>\n",
       "      <td>...</td>\n",
       "      <td>...</td>\n",
       "      <td>...</td>\n",
       "    </tr>\n",
       "    <tr>\n",
       "      <th>777</th>\n",
       "      <td>51465</td>\n",
       "      <td>864</td>\n",
       "      <td>male</td>\n",
       "      <td>2021-04-01</td>\n",
       "      <td>282</td>\n",
       "      <td>2</td>\n",
       "    </tr>\n",
       "    <tr>\n",
       "      <th>778</th>\n",
       "      <td>52435</td>\n",
       "      <td>872</td>\n",
       "      <td>female</td>\n",
       "      <td>2021-04-02</td>\n",
       "      <td>261</td>\n",
       "      <td>1</td>\n",
       "    </tr>\n",
       "    <tr>\n",
       "      <th>779</th>\n",
       "      <td>51758</td>\n",
       "      <td>865</td>\n",
       "      <td>male</td>\n",
       "      <td>2021-04-02</td>\n",
       "      <td>293</td>\n",
       "      <td>1</td>\n",
       "    </tr>\n",
       "    <tr>\n",
       "      <th>780</th>\n",
       "      <td>52032</td>\n",
       "      <td>868</td>\n",
       "      <td>male</td>\n",
       "      <td>2021-04-03</td>\n",
       "      <td>274</td>\n",
       "      <td>3</td>\n",
       "    </tr>\n",
       "    <tr>\n",
       "      <th>781</th>\n",
       "      <td>52704</td>\n",
       "      <td>872</td>\n",
       "      <td>female</td>\n",
       "      <td>2021-04-03</td>\n",
       "      <td>269</td>\n",
       "      <td>0</td>\n",
       "    </tr>\n",
       "  </tbody>\n",
       "</table>\n",
       "<p>782 rows × 6 columns</p>\n",
       "</div>"
      ],
      "text/plain": [
       "     confirmed  deceased     sex       date  confirm_cnt  deceased_cnt\n",
       "0         1591        13    male 2020-03-02         1591            13\n",
       "1         2621         9  female 2020-03-02         2621             9\n",
       "2         1810        16    male 2020-03-03          219             3\n",
       "3         3002        12  female 2020-03-03          381             3\n",
       "4         1996        20    male 2020-03-04          186             4\n",
       "..         ...       ...     ...        ...          ...           ...\n",
       "777      51465       864    male 2021-04-01          282             2\n",
       "778      52435       872  female 2021-04-02          261             1\n",
       "779      51758       865    male 2021-04-02          293             1\n",
       "780      52032       868    male 2021-04-03          274             3\n",
       "781      52704       872  female 2021-04-03          269             0\n",
       "\n",
       "[782 rows x 6 columns]"
      ]
     },
     "execution_count": 18,
     "metadata": {
      "tags": []
     },
     "output_type": "execute_result"
    }
   ],
   "source": [
    "gender = pd.concat([gender_male, gender_female])\n",
    "gender.sort_values(by='date', inplace=True)\n",
    "gender.reset_index(drop=True, inplace=True)\n",
    "gender"
   ]
  },
  {
   "cell_type": "markdown",
   "id": "original-nebraska",
   "metadata": {
    "id": "original-nebraska"
   },
   "source": [
    "#### - 성별에 따른 감염 / 완치 / 사망 비율의 차이 분석"
   ]
  },
  {
   "cell_type": "code",
   "execution_count": 19,
   "id": "careful-investor",
   "metadata": {
    "ExecuteTime": {
     "end_time": "2021-04-06T10:03:06.059644Z",
     "start_time": "2021-04-06T10:03:06.014993Z"
    },
    "colab": {
     "base_uri": "https://localhost:8080/",
     "height": 164
    },
    "executionInfo": {
     "elapsed": 732,
     "status": "ok",
     "timestamp": 1617869423779,
     "user": {
      "displayName": "최유리",
      "photoUrl": "",
      "userId": "16723349519808453958"
     },
     "user_tz": -540
    },
    "id": "careful-investor",
    "outputId": "41b71019-abc2-4264-bf8a-8f21d42a7a35"
   },
   "outputs": [
    {
     "data": {
      "text/html": [
       "<div>\n",
       "<style scoped>\n",
       "    .dataframe tbody tr th:only-of-type {\n",
       "        vertical-align: middle;\n",
       "    }\n",
       "\n",
       "    .dataframe tbody tr th {\n",
       "        vertical-align: top;\n",
       "    }\n",
       "\n",
       "    .dataframe thead tr th {\n",
       "        text-align: left;\n",
       "    }\n",
       "\n",
       "    .dataframe thead tr:last-of-type th {\n",
       "        text-align: right;\n",
       "    }\n",
       "</style>\n",
       "<table border=\"1\" class=\"dataframe\">\n",
       "  <thead>\n",
       "    <tr>\n",
       "      <th></th>\n",
       "      <th colspan=\"8\" halign=\"left\">confirm_cnt</th>\n",
       "      <th colspan=\"8\" halign=\"left\">deceased_cnt</th>\n",
       "    </tr>\n",
       "    <tr>\n",
       "      <th></th>\n",
       "      <th>count</th>\n",
       "      <th>mean</th>\n",
       "      <th>std</th>\n",
       "      <th>min</th>\n",
       "      <th>25%</th>\n",
       "      <th>50%</th>\n",
       "      <th>75%</th>\n",
       "      <th>max</th>\n",
       "      <th>count</th>\n",
       "      <th>mean</th>\n",
       "      <th>std</th>\n",
       "      <th>min</th>\n",
       "      <th>25%</th>\n",
       "      <th>50%</th>\n",
       "      <th>75%</th>\n",
       "      <th>max</th>\n",
       "    </tr>\n",
       "    <tr>\n",
       "      <th>sex</th>\n",
       "      <th></th>\n",
       "      <th></th>\n",
       "      <th></th>\n",
       "      <th></th>\n",
       "      <th></th>\n",
       "      <th></th>\n",
       "      <th></th>\n",
       "      <th></th>\n",
       "      <th></th>\n",
       "      <th></th>\n",
       "      <th></th>\n",
       "      <th></th>\n",
       "      <th></th>\n",
       "      <th></th>\n",
       "      <th></th>\n",
       "      <th></th>\n",
       "    </tr>\n",
       "  </thead>\n",
       "  <tbody>\n",
       "    <tr>\n",
       "      <th>female</th>\n",
       "      <td>391.0</td>\n",
       "      <td>134.792839</td>\n",
       "      <td>186.274337</td>\n",
       "      <td>0.0</td>\n",
       "      <td>23.0</td>\n",
       "      <td>61.0</td>\n",
       "      <td>203.0</td>\n",
       "      <td>2621.0</td>\n",
       "      <td>391.0</td>\n",
       "      <td>2.230179</td>\n",
       "      <td>3.348664</td>\n",
       "      <td>0.0</td>\n",
       "      <td>0.0</td>\n",
       "      <td>1.0</td>\n",
       "      <td>3.0</td>\n",
       "      <td>27.0</td>\n",
       "    </tr>\n",
       "    <tr>\n",
       "      <th>male</th>\n",
       "      <td>391.0</td>\n",
       "      <td>133.074169</td>\n",
       "      <td>156.439673</td>\n",
       "      <td>2.0</td>\n",
       "      <td>27.0</td>\n",
       "      <td>63.0</td>\n",
       "      <td>207.0</td>\n",
       "      <td>1591.0</td>\n",
       "      <td>391.0</td>\n",
       "      <td>2.219949</td>\n",
       "      <td>2.981604</td>\n",
       "      <td>0.0</td>\n",
       "      <td>0.0</td>\n",
       "      <td>1.0</td>\n",
       "      <td>3.0</td>\n",
       "      <td>16.0</td>\n",
       "    </tr>\n",
       "  </tbody>\n",
       "</table>\n",
       "</div>"
      ],
      "text/plain": [
       "       confirm_cnt                                     ... deceased_cnt                     \n",
       "             count        mean         std  min   25%  ...          min  25%  50%  75%   max\n",
       "sex                                                    ...                                  \n",
       "female       391.0  134.792839  186.274337  0.0  23.0  ...          0.0  0.0  1.0  3.0  27.0\n",
       "male         391.0  133.074169  156.439673  2.0  27.0  ...          0.0  0.0  1.0  3.0  16.0\n",
       "\n",
       "[2 rows x 16 columns]"
      ]
     },
     "execution_count": 19,
     "metadata": {
      "tags": []
     },
     "output_type": "execute_result"
    }
   ],
   "source": [
    "gender.groupby('sex')['confirm_cnt', 'deceased_cnt'].describe()"
   ]
  },
  {
   "cell_type": "markdown",
   "id": "pursuant-squad",
   "metadata": {
    "id": "pursuant-squad"
   },
   "source": [
    "    여성의 하루 평균 확진자 수는 134명, 남성은 132명이다.\n",
    "    여성의 최소 확진자는 0명, 남성은 2명\n",
    "    중간값은 남/여 모두 60명이다.\n",
    "\n",
    "    여성의 하루 평균 사망자 수는 2명, 남성은 2명이다.\n",
    "    여성의 최소 사망자는 -47, 남성은 -54\n",
    "    중간값은 남/여 모두 1명이다."
   ]
  },
  {
   "cell_type": "code",
   "execution_count": 20,
   "id": "pleasant-nicholas",
   "metadata": {
    "ExecuteTime": {
     "end_time": "2021-04-06T10:25:11.319092Z",
     "start_time": "2021-04-06T10:25:11.250090Z"
    },
    "colab": {
     "base_uri": "https://localhost:8080/",
     "height": 428
    },
    "executionInfo": {
     "elapsed": 1199,
     "status": "ok",
     "timestamp": 1617869431209,
     "user": {
      "displayName": "최유리",
      "photoUrl": "",
      "userId": "16723349519808453958"
     },
     "user_tz": -540
    },
    "id": "pleasant-nicholas",
    "outputId": "bd71b340-d177-440f-a656-9e55832cf6cc"
   },
   "outputs": [
    {
     "data": {
      "text/html": [
       "<div>\n",
       "<style scoped>\n",
       "    .dataframe tbody tr th:only-of-type {\n",
       "        vertical-align: middle;\n",
       "    }\n",
       "\n",
       "    .dataframe tbody tr th {\n",
       "        vertical-align: top;\n",
       "    }\n",
       "\n",
       "    .dataframe thead th {\n",
       "        text-align: right;\n",
       "    }\n",
       "</style>\n",
       "<table border=\"1\" class=\"dataframe\">\n",
       "  <thead>\n",
       "    <tr style=\"text-align: right;\">\n",
       "      <th></th>\n",
       "      <th>confirmed_female</th>\n",
       "      <th>confirmed_male</th>\n",
       "      <th>deceased_female</th>\n",
       "      <th>deceased_male</th>\n",
       "      <th>confirm_female_ratio</th>\n",
       "      <th>confirm_male_ratio</th>\n",
       "      <th>deceased_female_ratio</th>\n",
       "      <th>deceased_male_ratio</th>\n",
       "    </tr>\n",
       "    <tr>\n",
       "      <th>date</th>\n",
       "      <th></th>\n",
       "      <th></th>\n",
       "      <th></th>\n",
       "      <th></th>\n",
       "      <th></th>\n",
       "      <th></th>\n",
       "      <th></th>\n",
       "      <th></th>\n",
       "    </tr>\n",
       "  </thead>\n",
       "  <tbody>\n",
       "    <tr>\n",
       "      <th>2020-03-02</th>\n",
       "      <td>2621</td>\n",
       "      <td>1591</td>\n",
       "      <td>9</td>\n",
       "      <td>13</td>\n",
       "      <td>0.622270</td>\n",
       "      <td>0.377730</td>\n",
       "      <td>0.409091</td>\n",
       "      <td>0.590909</td>\n",
       "    </tr>\n",
       "    <tr>\n",
       "      <th>2020-03-03</th>\n",
       "      <td>381</td>\n",
       "      <td>219</td>\n",
       "      <td>3</td>\n",
       "      <td>3</td>\n",
       "      <td>0.635000</td>\n",
       "      <td>0.365000</td>\n",
       "      <td>0.500000</td>\n",
       "      <td>0.500000</td>\n",
       "    </tr>\n",
       "    <tr>\n",
       "      <th>2020-03-04</th>\n",
       "      <td>330</td>\n",
       "      <td>186</td>\n",
       "      <td>0</td>\n",
       "      <td>4</td>\n",
       "      <td>0.639535</td>\n",
       "      <td>0.360465</td>\n",
       "      <td>0.000000</td>\n",
       "      <td>1.000000</td>\n",
       "    </tr>\n",
       "    <tr>\n",
       "      <th>2020-03-05</th>\n",
       "      <td>285</td>\n",
       "      <td>153</td>\n",
       "      <td>2</td>\n",
       "      <td>1</td>\n",
       "      <td>0.650685</td>\n",
       "      <td>0.349315</td>\n",
       "      <td>0.666667</td>\n",
       "      <td>0.333333</td>\n",
       "    </tr>\n",
       "    <tr>\n",
       "      <th>2020-03-06</th>\n",
       "      <td>322</td>\n",
       "      <td>196</td>\n",
       "      <td>3</td>\n",
       "      <td>4</td>\n",
       "      <td>0.621622</td>\n",
       "      <td>0.378378</td>\n",
       "      <td>0.428571</td>\n",
       "      <td>0.571429</td>\n",
       "    </tr>\n",
       "    <tr>\n",
       "      <th>...</th>\n",
       "      <td>...</td>\n",
       "      <td>...</td>\n",
       "      <td>...</td>\n",
       "      <td>...</td>\n",
       "      <td>...</td>\n",
       "      <td>...</td>\n",
       "      <td>...</td>\n",
       "      <td>...</td>\n",
       "    </tr>\n",
       "    <tr>\n",
       "      <th>2021-03-30</th>\n",
       "      <td>203</td>\n",
       "      <td>238</td>\n",
       "      <td>1</td>\n",
       "      <td>2</td>\n",
       "      <td>0.460317</td>\n",
       "      <td>0.539683</td>\n",
       "      <td>0.333333</td>\n",
       "      <td>0.666667</td>\n",
       "    </tr>\n",
       "    <tr>\n",
       "      <th>2021-03-31</th>\n",
       "      <td>268</td>\n",
       "      <td>238</td>\n",
       "      <td>1</td>\n",
       "      <td>1</td>\n",
       "      <td>0.529644</td>\n",
       "      <td>0.470356</td>\n",
       "      <td>0.500000</td>\n",
       "      <td>0.500000</td>\n",
       "    </tr>\n",
       "    <tr>\n",
       "      <th>2021-04-01</th>\n",
       "      <td>269</td>\n",
       "      <td>282</td>\n",
       "      <td>2</td>\n",
       "      <td>2</td>\n",
       "      <td>0.488203</td>\n",
       "      <td>0.511797</td>\n",
       "      <td>0.500000</td>\n",
       "      <td>0.500000</td>\n",
       "    </tr>\n",
       "    <tr>\n",
       "      <th>2021-04-02</th>\n",
       "      <td>261</td>\n",
       "      <td>293</td>\n",
       "      <td>1</td>\n",
       "      <td>1</td>\n",
       "      <td>0.471119</td>\n",
       "      <td>0.528881</td>\n",
       "      <td>0.500000</td>\n",
       "      <td>0.500000</td>\n",
       "    </tr>\n",
       "    <tr>\n",
       "      <th>2021-04-03</th>\n",
       "      <td>269</td>\n",
       "      <td>274</td>\n",
       "      <td>0</td>\n",
       "      <td>3</td>\n",
       "      <td>0.495396</td>\n",
       "      <td>0.504604</td>\n",
       "      <td>0.000000</td>\n",
       "      <td>1.000000</td>\n",
       "    </tr>\n",
       "  </tbody>\n",
       "</table>\n",
       "<p>391 rows × 8 columns</p>\n",
       "</div>"
      ],
      "text/plain": [
       "            confirmed_female  ...  deceased_male_ratio\n",
       "date                          ...                     \n",
       "2020-03-02              2621  ...             0.590909\n",
       "2020-03-03               381  ...             0.500000\n",
       "2020-03-04               330  ...             1.000000\n",
       "2020-03-05               285  ...             0.333333\n",
       "2020-03-06               322  ...             0.571429\n",
       "...                      ...  ...                  ...\n",
       "2021-03-30               203  ...             0.666667\n",
       "2021-03-31               268  ...             0.500000\n",
       "2021-04-01               269  ...             0.500000\n",
       "2021-04-02               261  ...             0.500000\n",
       "2021-04-03               269  ...             1.000000\n",
       "\n",
       "[391 rows x 8 columns]"
      ]
     },
     "execution_count": 20,
     "metadata": {
      "tags": []
     },
     "output_type": "execute_result"
    }
   ],
   "source": [
    "gender_ratio = gender.groupby(\n",
    "    ['sex', 'date'])['confirm_cnt',\n",
    "                     'deceased_cnt'].sum().pivot_table(index=\"date\",\n",
    "                                                       columns=[\"sex\"])\n",
    "gender_ratio.columns = gender_ratio.columns.get_level_values(1)\n",
    "gender_ratio.columns = [\n",
    "    'confirmed_female', 'confirmed_male', 'deceased_female', 'deceased_male'\n",
    "]\n",
    "\n",
    "gender_ratio['confirm_female_ratio'] = gender_ratio['confirmed_female'] / (\n",
    "    gender_ratio['confirmed_female'] + gender_ratio['confirmed_male'])\n",
    "\n",
    "gender_ratio['confirm_male_ratio'] = gender_ratio['confirmed_male'] / (\n",
    "    gender_ratio['confirmed_female'] + gender_ratio['confirmed_male'])\n",
    "\n",
    "gender_ratio['deceased_female_ratio'] = gender_ratio['deceased_female'] / (\n",
    "    gender_ratio['deceased_female'] + gender_ratio['deceased_male'])\n",
    "\n",
    "gender_ratio['deceased_male_ratio'] = gender_ratio['deceased_male'] / (\n",
    "    gender_ratio['deceased_female'] + gender_ratio['deceased_male'])\n",
    "\n",
    "gender_ratio"
   ]
  },
  {
   "cell_type": "code",
   "execution_count": 21,
   "id": "expensive-legislature",
   "metadata": {
    "ExecuteTime": {
     "end_time": "2021-04-06T10:35:55.663754Z",
     "start_time": "2021-04-06T10:35:55.648705Z"
    },
    "colab": {
     "base_uri": "https://localhost:8080/"
    },
    "executionInfo": {
     "elapsed": 727,
     "status": "ok",
     "timestamp": 1617869435791,
     "user": {
      "displayName": "최유리",
      "photoUrl": "",
      "userId": "16723349519808453958"
     },
     "user_tz": -540
    },
    "id": "expensive-legislature",
    "outputId": "ed949db2-f309-4776-8c5f-b82bf024e69b"
   },
   "outputs": [
    {
     "data": {
      "text/plain": [
       "0.47300629951479417"
      ]
     },
     "execution_count": 21,
     "metadata": {
      "tags": []
     },
     "output_type": "execute_result"
    }
   ],
   "source": [
    "gender_ratio['confirm_female_ratio'].mean()"
   ]
  },
  {
   "cell_type": "code",
   "execution_count": 22,
   "id": "fleet-preview",
   "metadata": {
    "ExecuteTime": {
     "end_time": "2021-04-06T10:36:06.240568Z",
     "start_time": "2021-04-06T10:36:06.220524Z"
    },
    "colab": {
     "base_uri": "https://localhost:8080/"
    },
    "executionInfo": {
     "elapsed": 703,
     "status": "ok",
     "timestamp": 1617869438298,
     "user": {
      "displayName": "최유리",
      "photoUrl": "",
      "userId": "16723349519808453958"
     },
     "user_tz": -540
    },
    "id": "fleet-preview",
    "outputId": "ef871ba6-77b1-43b8-f8c7-7d0e66352cda"
   },
   "outputs": [
    {
     "data": {
      "text/plain": [
       "0.526993700485206"
      ]
     },
     "execution_count": 22,
     "metadata": {
      "tags": []
     },
     "output_type": "execute_result"
    }
   ],
   "source": [
    "gender_ratio['confirm_male_ratio'].mean()"
   ]
  },
  {
   "cell_type": "markdown",
   "id": "quarterly-alcohol",
   "metadata": {
    "id": "quarterly-alcohol"
   },
   "source": [
    "    일별로 확인 할 경우, 초반에는 여성의 확진률이 남성보다 높았으나 시간이 지날 수록 남성의 확진률이 높아져감\n",
    "    평균으로 확인 결과 여성은 47.2%, 남성은 52.3%로 남성이 약 5% 더 높다."
   ]
  },
  {
   "cell_type": "code",
   "execution_count": 23,
   "id": "restricted-thomas",
   "metadata": {
    "ExecuteTime": {
     "end_time": "2021-04-06T10:36:31.174446Z",
     "start_time": "2021-04-06T10:36:31.166242Z"
    },
    "colab": {
     "base_uri": "https://localhost:8080/"
    },
    "executionInfo": {
     "elapsed": 1411,
     "status": "ok",
     "timestamp": 1617869443996,
     "user": {
      "displayName": "최유리",
      "photoUrl": "",
      "userId": "16723349519808453958"
     },
     "user_tz": -540
    },
    "id": "restricted-thomas",
    "outputId": "d257ecc6-545f-4d99-fc5d-74d7b19261a7"
   },
   "outputs": [
    {
     "data": {
      "text/plain": [
       "0.4759197394878262"
      ]
     },
     "execution_count": 23,
     "metadata": {
      "tags": []
     },
     "output_type": "execute_result"
    }
   ],
   "source": [
    "gender_ratio['deceased_female_ratio'].mean()"
   ]
  },
  {
   "cell_type": "code",
   "execution_count": 24,
   "id": "romantic-rebecca",
   "metadata": {
    "ExecuteTime": {
     "end_time": "2021-04-06T10:36:38.870529Z",
     "start_time": "2021-04-06T10:36:38.860465Z"
    },
    "colab": {
     "base_uri": "https://localhost:8080/"
    },
    "executionInfo": {
     "elapsed": 1207,
     "status": "ok",
     "timestamp": 1617869444000,
     "user": {
      "displayName": "최유리",
      "photoUrl": "",
      "userId": "16723349519808453958"
     },
     "user_tz": -540
    },
    "id": "romantic-rebecca",
    "outputId": "6eec4585-3007-4775-f623-af93d84aa35a"
   },
   "outputs": [
    {
     "data": {
      "text/plain": [
       "0.5240802605121736"
      ]
     },
     "execution_count": 24,
     "metadata": {
      "tags": []
     },
     "output_type": "execute_result"
    }
   ],
   "source": [
    "gender_ratio['deceased_male_ratio'].mean()"
   ]
  },
  {
   "cell_type": "markdown",
   "id": "rental-ordinance",
   "metadata": {
    "id": "rental-ordinance"
   },
   "source": [
    "    일별로 봐도 남성의 사망 비율이 더 높다.\n",
    "    또한 평균으로 보면 여성의 사망 비율은 47.8%, 남성은 52.2%로 약 5%정도 남성이 더 높다."
   ]
  },
  {
   "cell_type": "code",
   "execution_count": null,
   "id": "statistical-temperature",
   "metadata": {
    "id": "statistical-temperature"
   },
   "outputs": [],
   "source": []
  },
  {
   "cell_type": "markdown",
   "id": "mobile-jacket",
   "metadata": {
    "id": "mobile-jacket"
   },
   "source": [
    "##### 일별 확진자 시각화"
   ]
  },
  {
   "cell_type": "code",
   "execution_count": 25,
   "id": "primary-trinity",
   "metadata": {
    "ExecuteTime": {
     "end_time": "2021-04-06T10:31:19.982092Z",
     "start_time": "2021-04-06T10:31:19.964071Z"
    },
    "executionInfo": {
     "elapsed": 1093,
     "status": "ok",
     "timestamp": 1617869446254,
     "user": {
      "displayName": "최유리",
      "photoUrl": "",
      "userId": "16723349519808453958"
     },
     "user_tz": -540
    },
    "id": "primary-trinity"
   },
   "outputs": [],
   "source": [
    "confirm_data = gender[['date', 'sex', 'confirm_cnt']][2:]\n",
    "male = confirm_data[confirm_data['sex'] == 'male']\n",
    "male.reset_index(drop=True, inplace=True)\n",
    "\n",
    "female = confirm_data[confirm_data['sex'] == 'female']\n",
    "female.reset_index(drop=True, inplace=True)\n"
   ]
  },
  {
   "cell_type": "code",
   "execution_count": 27,
   "id": "functioning-indonesia",
   "metadata": {
    "ExecuteTime": {
     "end_time": "2021-04-06T10:31:20.609625Z",
     "start_time": "2021-04-06T10:31:20.540678Z"
    },
    "colab": {
     "base_uri": "https://localhost:8080/",
     "height": 542
    },
    "executionInfo": {
     "elapsed": 2699,
     "status": "ok",
     "timestamp": 1617869470214,
     "user": {
      "displayName": "최유리",
      "photoUrl": "",
      "userId": "16723349519808453958"
     },
     "user_tz": -540
    },
    "id": "functioning-indonesia",
    "outputId": "e2a93276-2c75-4d3b-c4c0-4bacd2c0dd48"
   },
   "outputs": [
    {
     "data": {
      "text/html": [
       "<html>\n",
       "<head><meta charset=\"utf-8\" /></head>\n",
       "<body>\n",
       "    <div>\n",
       "            <script src=\"https://cdnjs.cloudflare.com/ajax/libs/mathjax/2.7.5/MathJax.js?config=TeX-AMS-MML_SVG\"></script><script type=\"text/javascript\">if (window.MathJax) {MathJax.Hub.Config({SVG: {font: \"STIX-Web\"}});}</script>\n",
       "                <script type=\"text/javascript\">window.PlotlyConfig = {MathJaxConfig: 'local'};</script>\n",
       "        <script src=\"https://cdn.plot.ly/plotly-latest.min.js\"></script>    \n",
       "            <div id=\"b73351e4-21a3-4268-802d-9f70ead8902a\" class=\"plotly-graph-div\" style=\"height:525px; width:100%;\"></div>\n",
       "            <script type=\"text/javascript\">\n",
       "                \n",
       "                    window.PLOTLYENV=window.PLOTLYENV || {};\n",
       "                    \n",
       "                if (document.getElementById(\"b73351e4-21a3-4268-802d-9f70ead8902a\")) {\n",
       "                    Plotly.newPlot(\n",
       "                        'b73351e4-21a3-4268-802d-9f70ead8902a',\n",
       "                        [{\"mode\": \"lines\", \"name\": \"male\", \"type\": \"scatter\", \"x\": [\"2020-03-03T00:00:00\", \"2020-03-04T00:00:00\", \"2020-03-05T00:00:00\", \"2020-03-06T00:00:00\", \"2020-03-07T00:00:00\", \"2020-03-08T00:00:00\", \"2020-03-09T00:00:00\", \"2020-03-10T00:00:00\", \"2020-03-11T00:00:00\", \"2020-03-12T00:00:00\", \"2020-03-13T00:00:00\", \"2020-03-14T00:00:00\", \"2020-03-15T00:00:00\", \"2020-03-16T00:00:00\", \"2020-03-17T00:00:00\", \"2020-03-18T00:00:00\", \"2020-03-19T00:00:00\", \"2020-03-20T00:00:00\", \"2020-03-21T00:00:00\", \"2020-03-22T00:00:00\", \"2020-03-23T00:00:00\", \"2020-03-24T00:00:00\", \"2020-03-25T00:00:00\", \"2020-03-26T00:00:00\", \"2020-03-27T00:00:00\", \"2020-03-28T00:00:00\", \"2020-03-29T00:00:00\", \"2020-03-30T00:00:00\", \"2020-03-31T00:00:00\", \"2020-04-01T00:00:00\", \"2020-04-02T00:00:00\", \"2020-04-03T00:00:00\", \"2020-04-04T00:00:00\", \"2020-04-05T00:00:00\", \"2020-04-06T00:00:00\", \"2020-04-07T00:00:00\", \"2020-04-08T00:00:00\", \"2020-04-09T00:00:00\", \"2020-04-10T00:00:00\", \"2020-04-11T00:00:00\", \"2020-04-12T00:00:00\", \"2020-04-13T00:00:00\", \"2020-04-14T00:00:00\", \"2020-04-15T00:00:00\", \"2020-04-16T00:00:00\", \"2020-04-17T00:00:00\", \"2020-04-18T00:00:00\", \"2020-04-19T00:00:00\", \"2020-04-20T00:00:00\", \"2020-04-21T00:00:00\", \"2020-04-22T00:00:00\", \"2020-04-23T00:00:00\", \"2020-04-24T00:00:00\", \"2020-04-25T00:00:00\", \"2020-04-26T00:00:00\", \"2020-04-27T00:00:00\", \"2020-04-28T00:00:00\", \"2020-04-29T00:00:00\", \"2020-04-30T00:00:00\", \"2020-05-01T00:00:00\", \"2020-05-02T00:00:00\", \"2020-05-03T00:00:00\", \"2020-05-04T00:00:00\", \"2020-05-05T00:00:00\", \"2020-05-06T00:00:00\", \"2020-05-07T00:00:00\", \"2020-05-08T00:00:00\", \"2020-05-09T00:00:00\", \"2020-05-10T00:00:00\", \"2020-05-11T00:00:00\", \"2020-05-12T00:00:00\", \"2020-05-13T00:00:00\", \"2020-05-14T00:00:00\", \"2020-05-15T00:00:00\", \"2020-05-16T00:00:00\", \"2020-05-17T00:00:00\", \"2020-05-18T00:00:00\", \"2020-05-19T00:00:00\", \"2020-05-20T00:00:00\", \"2020-05-21T00:00:00\", \"2020-05-23T00:00:00\", \"2020-05-24T00:00:00\", \"2020-05-25T00:00:00\", \"2020-05-26T00:00:00\", \"2020-05-27T00:00:00\", \"2020-05-28T00:00:00\", \"2020-05-29T00:00:00\", \"2020-05-30T00:00:00\", \"2020-05-31T00:00:00\", \"2020-06-02T00:00:00\", \"2020-06-03T00:00:00\", \"2020-06-04T00:00:00\", \"2020-06-05T00:00:00\", \"2020-06-06T00:00:00\", \"2020-06-07T00:00:00\", \"2020-06-08T00:00:00\", \"2020-06-09T00:00:00\", \"2020-06-10T00:00:00\", \"2020-06-11T00:00:00\", \"2020-06-12T00:00:00\", \"2020-06-13T00:00:00\", \"2020-06-14T00:00:00\", \"2020-06-16T00:00:00\", \"2020-06-17T00:00:00\", \"2020-06-18T00:00:00\", \"2020-06-19T00:00:00\", \"2020-06-20T00:00:00\", \"2020-06-21T00:00:00\", \"2020-06-22T00:00:00\", \"2020-06-24T00:00:00\", \"2020-06-25T00:00:00\", \"2020-06-26T00:00:00\", \"2020-06-27T00:00:00\", \"2020-06-28T00:00:00\", \"2020-06-29T00:00:00\", \"2020-06-30T00:00:00\", \"2020-07-01T00:00:00\", \"2020-07-02T00:00:00\", \"2020-07-03T00:00:00\", \"2020-07-04T00:00:00\", \"2020-07-05T00:00:00\", \"2020-07-06T00:00:00\", \"2020-07-07T00:00:00\", \"2020-07-08T00:00:00\", \"2020-07-09T00:00:00\", \"2020-07-10T00:00:00\", \"2020-07-11T00:00:00\", \"2020-07-12T00:00:00\", \"2020-07-13T00:00:00\", \"2020-07-14T00:00:00\", \"2020-07-15T00:00:00\", \"2020-07-16T00:00:00\", \"2020-07-17T00:00:00\", \"2020-07-18T00:00:00\", \"2020-07-19T00:00:00\", \"2020-07-20T00:00:00\", \"2020-07-21T00:00:00\", \"2020-07-22T00:00:00\", \"2020-07-23T00:00:00\", \"2020-07-24T00:00:00\", \"2020-07-25T00:00:00\", \"2020-07-26T00:00:00\", \"2020-07-27T00:00:00\", \"2020-07-28T00:00:00\", \"2020-07-29T00:00:00\", \"2020-07-30T00:00:00\", \"2020-07-31T00:00:00\", \"2020-08-01T00:00:00\", \"2020-08-03T00:00:00\", \"2020-08-04T00:00:00\", \"2020-08-05T00:00:00\", \"2020-08-06T00:00:00\", \"2020-08-07T00:00:00\", \"2020-08-08T00:00:00\", \"2020-08-09T00:00:00\", \"2020-08-10T00:00:00\", \"2020-08-11T00:00:00\", \"2020-08-12T00:00:00\", \"2020-08-13T00:00:00\", \"2020-08-14T00:00:00\", \"2020-08-15T00:00:00\", \"2020-08-16T00:00:00\", \"2020-08-17T00:00:00\", \"2020-08-18T00:00:00\", \"2020-08-19T00:00:00\", \"2020-08-20T00:00:00\", \"2020-08-21T00:00:00\", \"2020-08-22T00:00:00\", \"2020-08-23T00:00:00\", \"2020-08-24T00:00:00\", \"2020-08-25T00:00:00\", \"2020-08-26T00:00:00\", \"2020-08-27T00:00:00\", \"2020-08-28T00:00:00\", \"2020-08-29T00:00:00\", \"2020-08-30T00:00:00\", \"2020-08-31T00:00:00\", \"2020-09-01T00:00:00\", \"2020-09-02T00:00:00\", \"2020-09-03T00:00:00\", \"2020-09-04T00:00:00\", \"2020-09-05T00:00:00\", \"2020-09-06T00:00:00\", \"2020-09-07T00:00:00\", \"2020-09-08T00:00:00\", \"2020-09-09T00:00:00\", \"2020-09-10T00:00:00\", \"2020-09-11T00:00:00\", \"2020-09-12T00:00:00\", \"2020-09-13T00:00:00\", \"2020-09-14T00:00:00\", \"2020-09-15T00:00:00\", \"2020-09-16T00:00:00\", \"2020-09-17T00:00:00\", \"2020-09-18T00:00:00\", \"2020-09-19T00:00:00\", \"2020-09-20T00:00:00\", \"2020-09-21T00:00:00\", \"2020-09-22T00:00:00\", \"2020-09-23T00:00:00\", \"2020-09-24T00:00:00\", \"2020-09-25T00:00:00\", \"2020-09-26T00:00:00\", \"2020-09-27T00:00:00\", \"2020-09-28T00:00:00\", \"2020-09-29T00:00:00\", \"2020-09-30T00:00:00\", \"2020-10-01T00:00:00\", \"2020-10-02T00:00:00\", \"2020-10-03T00:00:00\", \"2020-10-04T00:00:00\", \"2020-10-05T00:00:00\", \"2020-10-06T00:00:00\", \"2020-10-07T00:00:00\", \"2020-10-08T00:00:00\", \"2020-10-09T00:00:00\", \"2020-10-10T00:00:00\", \"2020-10-11T00:00:00\", \"2020-10-12T00:00:00\", \"2020-10-13T00:00:00\", \"2020-10-14T00:00:00\", \"2020-10-15T00:00:00\", \"2020-10-16T00:00:00\", \"2020-10-17T00:00:00\", \"2020-10-18T00:00:00\", \"2020-10-19T00:00:00\", \"2020-10-20T00:00:00\", \"2020-10-21T00:00:00\", \"2020-10-22T00:00:00\", \"2020-10-23T00:00:00\", \"2020-10-24T00:00:00\", \"2020-10-25T00:00:00\", \"2020-10-26T00:00:00\", \"2020-10-27T00:00:00\", \"2020-10-28T00:00:00\", \"2020-10-29T00:00:00\", \"2020-10-30T00:00:00\", \"2020-10-31T00:00:00\", \"2020-11-01T00:00:00\", \"2020-11-02T00:00:00\", \"2020-11-03T00:00:00\", \"2020-11-04T00:00:00\", \"2020-11-05T00:00:00\", \"2020-11-06T00:00:00\", \"2020-11-07T00:00:00\", \"2020-11-08T00:00:00\", \"2020-11-09T00:00:00\", \"2020-11-10T00:00:00\", \"2020-11-11T00:00:00\", \"2020-11-12T00:00:00\", \"2020-11-13T00:00:00\", \"2020-11-14T00:00:00\", \"2020-11-15T00:00:00\", \"2020-11-16T00:00:00\", \"2020-11-17T00:00:00\", \"2020-11-18T00:00:00\", \"2020-11-19T00:00:00\", \"2020-11-20T00:00:00\", \"2020-11-21T00:00:00\", \"2020-11-22T00:00:00\", \"2020-11-23T00:00:00\", \"2020-11-24T00:00:00\", \"2020-11-25T00:00:00\", \"2020-11-26T00:00:00\", \"2020-11-27T00:00:00\", \"2020-11-28T00:00:00\", \"2020-11-29T00:00:00\", \"2020-11-30T00:00:00\", \"2020-12-01T00:00:00\", \"2020-12-02T00:00:00\", \"2020-12-03T00:00:00\", \"2020-12-04T00:00:00\", \"2020-12-05T00:00:00\", \"2020-12-06T00:00:00\", \"2020-12-07T00:00:00\", \"2020-12-08T00:00:00\", \"2020-12-09T00:00:00\", \"2020-12-10T00:00:00\", \"2020-12-11T00:00:00\", \"2020-12-12T00:00:00\", \"2020-12-13T00:00:00\", \"2020-12-14T00:00:00\", \"2020-12-15T00:00:00\", \"2020-12-16T00:00:00\", \"2020-12-17T00:00:00\", \"2020-12-18T00:00:00\", \"2020-12-19T00:00:00\", \"2020-12-20T00:00:00\", \"2020-12-21T00:00:00\", \"2020-12-22T00:00:00\", \"2020-12-23T00:00:00\", \"2020-12-24T00:00:00\", \"2020-12-25T00:00:00\", \"2020-12-26T00:00:00\", \"2020-12-27T00:00:00\", \"2020-12-28T00:00:00\", \"2020-12-29T00:00:00\", \"2020-12-30T00:00:00\", \"2020-12-31T00:00:00\", \"2021-01-01T00:00:00\", \"2021-01-02T00:00:00\", \"2021-01-03T00:00:00\", \"2021-01-04T00:00:00\", \"2021-01-05T00:00:00\", \"2021-01-06T00:00:00\", \"2021-01-07T00:00:00\", \"2021-01-08T00:00:00\", \"2021-01-09T00:00:00\", \"2021-01-10T00:00:00\", \"2021-01-11T00:00:00\", \"2021-01-12T00:00:00\", \"2021-01-13T00:00:00\", \"2021-01-14T00:00:00\", \"2021-01-15T00:00:00\", \"2021-01-16T00:00:00\", \"2021-01-17T00:00:00\", \"2021-01-18T00:00:00\", \"2021-01-19T00:00:00\", \"2021-01-20T00:00:00\", \"2021-01-21T00:00:00\", \"2021-01-22T00:00:00\", \"2021-01-23T00:00:00\", \"2021-01-24T00:00:00\", \"2021-01-25T00:00:00\", \"2021-01-26T00:00:00\", \"2021-01-27T00:00:00\", \"2021-01-28T00:00:00\", \"2021-01-29T00:00:00\", \"2021-01-30T00:00:00\", \"2021-01-31T00:00:00\", \"2021-02-01T00:00:00\", \"2021-02-02T00:00:00\", \"2021-02-03T00:00:00\", \"2021-02-04T00:00:00\", \"2021-02-05T00:00:00\", \"2021-02-06T00:00:00\", \"2021-02-07T00:00:00\", \"2021-02-08T00:00:00\", \"2021-02-09T00:00:00\", \"2021-02-10T00:00:00\", \"2021-02-11T00:00:00\", \"2021-02-12T00:00:00\", \"2021-02-13T00:00:00\", \"2021-02-14T00:00:00\", \"2021-02-15T00:00:00\", \"2021-02-16T00:00:00\", \"2021-02-17T00:00:00\", \"2021-02-19T00:00:00\", \"2021-02-20T00:00:00\", \"2021-02-21T00:00:00\", \"2021-02-22T00:00:00\", \"2021-02-23T00:00:00\", \"2021-02-24T00:00:00\", \"2021-02-25T00:00:00\", \"2021-02-26T00:00:00\", \"2021-02-27T00:00:00\", \"2021-02-28T00:00:00\", \"2021-03-01T00:00:00\", \"2021-03-02T00:00:00\", \"2021-03-03T00:00:00\", \"2021-03-04T00:00:00\", \"2021-03-05T00:00:00\", \"2021-03-06T00:00:00\", \"2021-03-07T00:00:00\", \"2021-03-08T00:00:00\", \"2021-03-09T00:00:00\", \"2021-03-10T00:00:00\", \"2021-03-11T00:00:00\", \"2021-03-12T00:00:00\", \"2021-03-13T00:00:00\", \"2021-03-15T00:00:00\", \"2021-03-16T00:00:00\", \"2021-03-17T00:00:00\", \"2021-03-18T00:00:00\", \"2021-03-19T00:00:00\", \"2021-03-20T00:00:00\", \"2021-03-21T00:00:00\", \"2021-03-22T00:00:00\", \"2021-03-23T00:00:00\", \"2021-03-24T00:00:00\", \"2021-03-25T00:00:00\", \"2021-03-26T00:00:00\", \"2021-03-27T00:00:00\", \"2021-03-28T00:00:00\", \"2021-03-29T00:00:00\", \"2021-03-30T00:00:00\", \"2021-03-31T00:00:00\", \"2021-04-01T00:00:00\", \"2021-04-02T00:00:00\", \"2021-04-03T00:00:00\"], \"y\": [219, 186, 153, 196, 177, 172, 105, 53, 95, 47, 49, 57, 36, 33, 31, 40, 56, 34, 57, 43, 27, 40, 53, 48, 40, 98, 63, 35, 71, 41, 33, 34, 39, 46, 20, 20, 25, 22, 15, 15, 14, 14, 13, 10, 6, 14, 7, 4, 5, 6, 6, 4, 5, 4, 6, 4, 7, 4, 4, 4, 6, 7, 6, 2, 2, 3, 7, 17, 24, 31, 20, 18, 17, 16, 12, 5, 11, 9, 23, 9, 27, 15, 8, 13, 16, 47, 32, 21, 15, 34, 23, 20, 21, 27, 30, 12, 18, 22, 28, 31, 20, 16, 41, 18, 25, 25, 39, 25, 9, 66, 15, 24, 28, 38, 20, 25, 29, 31, 32, 38, 32, 25, 21, 35, 28, 36, 22, 32, 39, 16, 33, 47, 35, 23, 21, 19, 25, 39, 39, 23, 96, 49, 12, 22, 32, 13, 24, 23, 36, 23, 23, 34, 13, 23, 17, 14, 20, 34, 31, 51, 70, 102, 75, 90, 109, 133, 148, 145, 157, 118, 137, 145, 207, 175, 141, 154, 114, 114, 133, 87, 94, 82, 79, 66, 73, 76, 76, 77, 81, 63, 51, 48, 67, 74, 57, 45, 48, 36, 37, 59, 65, 54, 25, 42, 26, 27, 77, 43, 38, 47, 40, 47, 50, 53, 39, 28, 40, 34, 56, 64, 51, 21, 21, 26, 49, 34, 38, 47, 59, 73, 41, 26, 51, 41, 46, 68, 54, 63, 60, 48, 43, 60, 64, 74, 50, 76, 57, 56, 68, 77, 91, 105, 100, 118, 117, 184, 181, 191, 210, 173, 128, 190, 206, 297, 312, 246, 233, 156, 234, 262, 273, 288, 288, 339, 298, 260, 349, 343, 336, 436, 484, 330, 415, 556, 473, 484, 464, 633, 452, 421, 541, 483, 770, 565, 471, 386, 618, 532, 505, 557, 422, 296, 536, 356, 406, 458, 319, 322, 343, 240, 268, 276, 266, 260, 279, 255, 194, 196, 201, 184, 166, 207, 198, 234, 151, 279, 274, 215, 224, 183, 147, 187, 251, 212, 183, 199, 217, 152, 157, 248, 246, 200, 187, 160, 167, 247, 305, 588, 239, 204, 161, 192, 207, 199, 195, 210, 182, 184, 172, 259, 230, 212, 226, 218, 197, 229, 253, 233, 251, 234, 451, 186, 242, 245, 230, 241, 246, 205, 157, 226, 226, 237, 245, 253, 200, 238, 238, 282, 293, 274]}, {\"mode\": \"lines\", \"name\": \"female\", \"type\": \"scatter\", \"x\": [\"2020-03-03T00:00:00\", \"2020-03-04T00:00:00\", \"2020-03-05T00:00:00\", \"2020-03-06T00:00:00\", \"2020-03-07T00:00:00\", \"2020-03-08T00:00:00\", \"2020-03-09T00:00:00\", \"2020-03-10T00:00:00\", \"2020-03-11T00:00:00\", \"2020-03-12T00:00:00\", \"2020-03-13T00:00:00\", \"2020-03-14T00:00:00\", \"2020-03-15T00:00:00\", \"2020-03-16T00:00:00\", \"2020-03-17T00:00:00\", \"2020-03-18T00:00:00\", \"2020-03-19T00:00:00\", \"2020-03-20T00:00:00\", \"2020-03-21T00:00:00\", \"2020-03-22T00:00:00\", \"2020-03-23T00:00:00\", \"2020-03-24T00:00:00\", \"2020-03-25T00:00:00\", \"2020-03-26T00:00:00\", \"2020-03-27T00:00:00\", \"2020-03-28T00:00:00\", \"2020-03-29T00:00:00\", \"2020-03-30T00:00:00\", \"2020-03-31T00:00:00\", \"2020-04-01T00:00:00\", \"2020-04-02T00:00:00\", \"2020-04-03T00:00:00\", \"2020-04-04T00:00:00\", \"2020-04-05T00:00:00\", \"2020-04-06T00:00:00\", \"2020-04-07T00:00:00\", \"2020-04-08T00:00:00\", \"2020-04-09T00:00:00\", \"2020-04-10T00:00:00\", \"2020-04-11T00:00:00\", \"2020-04-12T00:00:00\", \"2020-04-13T00:00:00\", \"2020-04-14T00:00:00\", \"2020-04-15T00:00:00\", \"2020-04-16T00:00:00\", \"2020-04-17T00:00:00\", \"2020-04-18T00:00:00\", \"2020-04-19T00:00:00\", \"2020-04-20T00:00:00\", \"2020-04-21T00:00:00\", \"2020-04-22T00:00:00\", \"2020-04-23T00:00:00\", \"2020-04-24T00:00:00\", \"2020-04-25T00:00:00\", \"2020-04-26T00:00:00\", \"2020-04-27T00:00:00\", \"2020-04-28T00:00:00\", \"2020-04-29T00:00:00\", \"2020-04-30T00:00:00\", \"2020-05-01T00:00:00\", \"2020-05-02T00:00:00\", \"2020-05-03T00:00:00\", \"2020-05-04T00:00:00\", \"2020-05-05T00:00:00\", \"2020-05-06T00:00:00\", \"2020-05-07T00:00:00\", \"2020-05-08T00:00:00\", \"2020-05-09T00:00:00\", \"2020-05-10T00:00:00\", \"2020-05-11T00:00:00\", \"2020-05-12T00:00:00\", \"2020-05-13T00:00:00\", \"2020-05-14T00:00:00\", \"2020-05-15T00:00:00\", \"2020-05-16T00:00:00\", \"2020-05-17T00:00:00\", \"2020-05-18T00:00:00\", \"2020-05-19T00:00:00\", \"2020-05-20T00:00:00\", \"2020-05-21T00:00:00\", \"2020-05-23T00:00:00\", \"2020-05-24T00:00:00\", \"2020-05-25T00:00:00\", \"2020-05-26T00:00:00\", \"2020-05-27T00:00:00\", \"2020-05-28T00:00:00\", \"2020-05-29T00:00:00\", \"2020-05-30T00:00:00\", \"2020-05-31T00:00:00\", \"2020-06-02T00:00:00\", \"2020-06-03T00:00:00\", \"2020-06-04T00:00:00\", \"2020-06-05T00:00:00\", \"2020-06-06T00:00:00\", \"2020-06-07T00:00:00\", \"2020-06-08T00:00:00\", \"2020-06-09T00:00:00\", \"2020-06-10T00:00:00\", \"2020-06-11T00:00:00\", \"2020-06-12T00:00:00\", \"2020-06-13T00:00:00\", \"2020-06-14T00:00:00\", \"2020-06-16T00:00:00\", \"2020-06-17T00:00:00\", \"2020-06-18T00:00:00\", \"2020-06-19T00:00:00\", \"2020-06-20T00:00:00\", \"2020-06-21T00:00:00\", \"2020-06-22T00:00:00\", \"2020-06-24T00:00:00\", \"2020-06-25T00:00:00\", \"2020-06-26T00:00:00\", \"2020-06-27T00:00:00\", \"2020-06-28T00:00:00\", \"2020-06-29T00:00:00\", \"2020-06-30T00:00:00\", \"2020-07-01T00:00:00\", \"2020-07-02T00:00:00\", \"2020-07-03T00:00:00\", \"2020-07-04T00:00:00\", \"2020-07-05T00:00:00\", \"2020-07-06T00:00:00\", \"2020-07-07T00:00:00\", \"2020-07-08T00:00:00\", \"2020-07-09T00:00:00\", \"2020-07-10T00:00:00\", \"2020-07-11T00:00:00\", \"2020-07-12T00:00:00\", \"2020-07-13T00:00:00\", \"2020-07-14T00:00:00\", \"2020-07-15T00:00:00\", \"2020-07-16T00:00:00\", \"2020-07-17T00:00:00\", \"2020-07-18T00:00:00\", \"2020-07-19T00:00:00\", \"2020-07-20T00:00:00\", \"2020-07-21T00:00:00\", \"2020-07-22T00:00:00\", \"2020-07-23T00:00:00\", \"2020-07-24T00:00:00\", \"2020-07-25T00:00:00\", \"2020-07-26T00:00:00\", \"2020-07-27T00:00:00\", \"2020-07-28T00:00:00\", \"2020-07-29T00:00:00\", \"2020-07-30T00:00:00\", \"2020-07-31T00:00:00\", \"2020-08-01T00:00:00\", \"2020-08-03T00:00:00\", \"2020-08-04T00:00:00\", \"2020-08-05T00:00:00\", \"2020-08-06T00:00:00\", \"2020-08-07T00:00:00\", \"2020-08-08T00:00:00\", \"2020-08-09T00:00:00\", \"2020-08-10T00:00:00\", \"2020-08-11T00:00:00\", \"2020-08-12T00:00:00\", \"2020-08-13T00:00:00\", \"2020-08-14T00:00:00\", \"2020-08-15T00:00:00\", \"2020-08-16T00:00:00\", \"2020-08-17T00:00:00\", \"2020-08-18T00:00:00\", \"2020-08-19T00:00:00\", \"2020-08-20T00:00:00\", \"2020-08-21T00:00:00\", \"2020-08-22T00:00:00\", \"2020-08-23T00:00:00\", \"2020-08-24T00:00:00\", \"2020-08-25T00:00:00\", \"2020-08-26T00:00:00\", \"2020-08-27T00:00:00\", \"2020-08-28T00:00:00\", \"2020-08-29T00:00:00\", \"2020-08-30T00:00:00\", \"2020-08-31T00:00:00\", \"2020-09-01T00:00:00\", \"2020-09-02T00:00:00\", \"2020-09-03T00:00:00\", \"2020-09-04T00:00:00\", \"2020-09-05T00:00:00\", \"2020-09-06T00:00:00\", \"2020-09-07T00:00:00\", \"2020-09-08T00:00:00\", \"2020-09-09T00:00:00\", \"2020-09-10T00:00:00\", \"2020-09-11T00:00:00\", \"2020-09-12T00:00:00\", \"2020-09-13T00:00:00\", \"2020-09-14T00:00:00\", \"2020-09-15T00:00:00\", \"2020-09-16T00:00:00\", \"2020-09-17T00:00:00\", \"2020-09-18T00:00:00\", \"2020-09-19T00:00:00\", \"2020-09-20T00:00:00\", \"2020-09-21T00:00:00\", \"2020-09-22T00:00:00\", \"2020-09-23T00:00:00\", \"2020-09-24T00:00:00\", \"2020-09-25T00:00:00\", \"2020-09-26T00:00:00\", \"2020-09-27T00:00:00\", \"2020-09-28T00:00:00\", \"2020-09-29T00:00:00\", \"2020-09-30T00:00:00\", \"2020-10-01T00:00:00\", \"2020-10-02T00:00:00\", \"2020-10-03T00:00:00\", \"2020-10-04T00:00:00\", \"2020-10-05T00:00:00\", \"2020-10-06T00:00:00\", \"2020-10-07T00:00:00\", \"2020-10-08T00:00:00\", \"2020-10-09T00:00:00\", \"2020-10-10T00:00:00\", \"2020-10-11T00:00:00\", \"2020-10-12T00:00:00\", \"2020-10-13T00:00:00\", \"2020-10-14T00:00:00\", \"2020-10-15T00:00:00\", \"2020-10-16T00:00:00\", \"2020-10-17T00:00:00\", \"2020-10-18T00:00:00\", \"2020-10-19T00:00:00\", \"2020-10-20T00:00:00\", \"2020-10-21T00:00:00\", \"2020-10-22T00:00:00\", \"2020-10-23T00:00:00\", \"2020-10-24T00:00:00\", \"2020-10-25T00:00:00\", \"2020-10-26T00:00:00\", \"2020-10-27T00:00:00\", \"2020-10-28T00:00:00\", \"2020-10-29T00:00:00\", \"2020-10-30T00:00:00\", \"2020-10-31T00:00:00\", \"2020-11-01T00:00:00\", \"2020-11-02T00:00:00\", \"2020-11-03T00:00:00\", \"2020-11-04T00:00:00\", \"2020-11-05T00:00:00\", \"2020-11-06T00:00:00\", \"2020-11-07T00:00:00\", \"2020-11-08T00:00:00\", \"2020-11-09T00:00:00\", \"2020-11-10T00:00:00\", \"2020-11-11T00:00:00\", \"2020-11-12T00:00:00\", \"2020-11-13T00:00:00\", \"2020-11-14T00:00:00\", \"2020-11-15T00:00:00\", \"2020-11-16T00:00:00\", \"2020-11-17T00:00:00\", \"2020-11-18T00:00:00\", \"2020-11-19T00:00:00\", \"2020-11-20T00:00:00\", \"2020-11-21T00:00:00\", \"2020-11-22T00:00:00\", \"2020-11-23T00:00:00\", \"2020-11-24T00:00:00\", \"2020-11-25T00:00:00\", \"2020-11-26T00:00:00\", \"2020-11-27T00:00:00\", \"2020-11-28T00:00:00\", \"2020-11-29T00:00:00\", \"2020-11-30T00:00:00\", \"2020-12-01T00:00:00\", \"2020-12-02T00:00:00\", \"2020-12-03T00:00:00\", \"2020-12-04T00:00:00\", \"2020-12-05T00:00:00\", \"2020-12-06T00:00:00\", \"2020-12-07T00:00:00\", \"2020-12-08T00:00:00\", \"2020-12-09T00:00:00\", \"2020-12-10T00:00:00\", \"2020-12-11T00:00:00\", \"2020-12-12T00:00:00\", \"2020-12-13T00:00:00\", \"2020-12-14T00:00:00\", \"2020-12-15T00:00:00\", \"2020-12-16T00:00:00\", \"2020-12-17T00:00:00\", \"2020-12-18T00:00:00\", \"2020-12-19T00:00:00\", \"2020-12-20T00:00:00\", \"2020-12-21T00:00:00\", \"2020-12-22T00:00:00\", \"2020-12-23T00:00:00\", \"2020-12-24T00:00:00\", \"2020-12-25T00:00:00\", \"2020-12-26T00:00:00\", \"2020-12-27T00:00:00\", \"2020-12-28T00:00:00\", \"2020-12-29T00:00:00\", \"2020-12-30T00:00:00\", \"2020-12-31T00:00:00\", \"2021-01-01T00:00:00\", \"2021-01-02T00:00:00\", \"2021-01-03T00:00:00\", \"2021-01-04T00:00:00\", \"2021-01-05T00:00:00\", \"2021-01-06T00:00:00\", \"2021-01-07T00:00:00\", \"2021-01-08T00:00:00\", \"2021-01-09T00:00:00\", \"2021-01-10T00:00:00\", \"2021-01-11T00:00:00\", \"2021-01-12T00:00:00\", \"2021-01-13T00:00:00\", \"2021-01-14T00:00:00\", \"2021-01-15T00:00:00\", \"2021-01-16T00:00:00\", \"2021-01-17T00:00:00\", \"2021-01-18T00:00:00\", \"2021-01-19T00:00:00\", \"2021-01-20T00:00:00\", \"2021-01-21T00:00:00\", \"2021-01-22T00:00:00\", \"2021-01-23T00:00:00\", \"2021-01-24T00:00:00\", \"2021-01-25T00:00:00\", \"2021-01-26T00:00:00\", \"2021-01-27T00:00:00\", \"2021-01-28T00:00:00\", \"2021-01-29T00:00:00\", \"2021-01-30T00:00:00\", \"2021-01-31T00:00:00\", \"2021-02-01T00:00:00\", \"2021-02-02T00:00:00\", \"2021-02-03T00:00:00\", \"2021-02-04T00:00:00\", \"2021-02-05T00:00:00\", \"2021-02-06T00:00:00\", \"2021-02-07T00:00:00\", \"2021-02-08T00:00:00\", \"2021-02-09T00:00:00\", \"2021-02-10T00:00:00\", \"2021-02-11T00:00:00\", \"2021-02-12T00:00:00\", \"2021-02-13T00:00:00\", \"2021-02-14T00:00:00\", \"2021-02-15T00:00:00\", \"2021-02-16T00:00:00\", \"2021-02-17T00:00:00\", \"2021-02-19T00:00:00\", \"2021-02-20T00:00:00\", \"2021-02-21T00:00:00\", \"2021-02-22T00:00:00\", \"2021-02-23T00:00:00\", \"2021-02-24T00:00:00\", \"2021-02-25T00:00:00\", \"2021-02-26T00:00:00\", \"2021-02-27T00:00:00\", \"2021-02-28T00:00:00\", \"2021-03-01T00:00:00\", \"2021-03-02T00:00:00\", \"2021-03-03T00:00:00\", \"2021-03-04T00:00:00\", \"2021-03-05T00:00:00\", \"2021-03-06T00:00:00\", \"2021-03-07T00:00:00\", \"2021-03-08T00:00:00\", \"2021-03-09T00:00:00\", \"2021-03-10T00:00:00\", \"2021-03-11T00:00:00\", \"2021-03-12T00:00:00\", \"2021-03-13T00:00:00\", \"2021-03-15T00:00:00\", \"2021-03-16T00:00:00\", \"2021-03-17T00:00:00\", \"2021-03-18T00:00:00\", \"2021-03-19T00:00:00\", \"2021-03-20T00:00:00\", \"2021-03-21T00:00:00\", \"2021-03-22T00:00:00\", \"2021-03-23T00:00:00\", \"2021-03-24T00:00:00\", \"2021-03-25T00:00:00\", \"2021-03-26T00:00:00\", \"2021-03-27T00:00:00\", \"2021-03-28T00:00:00\", \"2021-03-29T00:00:00\", \"2021-03-30T00:00:00\", \"2021-03-31T00:00:00\", \"2021-04-01T00:00:00\", \"2021-04-02T00:00:00\", \"2021-04-03T00:00:00\"], \"y\": [381, 330, 285, 322, 306, 195, 143, 78, 147, 67, 61, 50, 40, 41, 53, 53, 96, 53, 90, 55, 37, 36, 47, 56, 51, 48, 42, 43, 54, 60, 56, 52, 55, 35, 27, 27, 28, 17, 12, 15, 18, 11, 14, 17, 16, 8, 11, 4, 8, 3, 5, 4, 1, 6, 4, 6, 7, 5, 0, 5, 0, 6, 2, 1, 0, 1, 5, 1, 10, 4, 7, 8, 12, 11, 7, 8, 4, 4, 9, 3, 16, 10, 8, 6, 24, 32, 26, 18, 12, 39, 26, 19, 18, 24, 27, 26, 20, 28, 17, 24, 29, 18, 29, 25, 34, 24, 28, 23, 8, 31, 13, 15, 23, 24, 22, 18, 21, 23, 31, 25, 29, 21, 23, 28, 21, 9, 13, 12, 23, 17, 6, 14, 25, 16, 13, 7, 20, 24, 20, 18, 17, 9, 13, 6, 16, 5, 12, 8, 17, 11, 10, 9, 7, 20, 19, 14, 14, 20, 25, 52, 96, 177, 122, 156, 188, 155, 176, 187, 240, 148, 143, 175, 234, 196, 182, 145, 134, 121, 134, 108, 104, 86, 88, 53, 63, 80, 79, 99, 55, 57, 59, 58, 46, 79, 69, 65, 33, 35, 24, 51, 60, 60, 36, 53, 24, 11, 36, 34, 25, 28, 24, 26, 25, 61, 30, 26, 32, 24, 41, 38, 33, 78, 26, 47, 42, 42, 20, 44, 60, 82, 36, 35, 68, 47, 57, 57, 60, 63, 64, 49, 32, 57, 62, 71, 39, 67, 69, 44, 78, 66, 100, 100, 108, 105, 112, 129, 162, 172, 176, 157, 143, 159, 176, 286, 257, 242, 216, 221, 217, 249, 267, 341, 295, 292, 317, 320, 342, 323, 352, 514, 546, 388, 465, 522, 538, 578, 581, 472, 464, 445, 562, 500, 467, 567, 499, 412, 426, 527, 462, 472, 402, 355, 484, 359, 433, 410, 353, 319, 322, 210, 269, 285, 250, 253, 300, 265, 195, 190, 202, 216, 178, 223, 194, 203, 195, 283, 223, 254, 229, 171, 158, 149, 216, 239, 187, 194, 154, 136, 147, 195, 258, 203, 175, 166, 177, 209, 316, 594, 209, 212, 171, 165, 232, 196, 192, 205, 173, 171, 172, 185, 194, 186, 192, 198, 149, 217, 217, 232, 237, 256, 390, 177, 227, 200, 233, 211, 210, 205, 189, 199, 204, 253, 260, 229, 188, 203, 268, 269, 261, 269]}],\n",
       "                        {\"template\": {\"data\": {\"bar\": [{\"error_x\": {\"color\": \"#2a3f5f\"}, \"error_y\": {\"color\": \"#2a3f5f\"}, \"marker\": {\"line\": {\"color\": \"#E5ECF6\", \"width\": 0.5}}, \"type\": \"bar\"}], \"barpolar\": [{\"marker\": {\"line\": {\"color\": \"#E5ECF6\", \"width\": 0.5}}, \"type\": \"barpolar\"}], \"carpet\": [{\"aaxis\": {\"endlinecolor\": \"#2a3f5f\", \"gridcolor\": \"white\", \"linecolor\": \"white\", \"minorgridcolor\": \"white\", \"startlinecolor\": \"#2a3f5f\"}, \"baxis\": {\"endlinecolor\": \"#2a3f5f\", \"gridcolor\": \"white\", \"linecolor\": \"white\", \"minorgridcolor\": \"white\", \"startlinecolor\": \"#2a3f5f\"}, \"type\": \"carpet\"}], \"choropleth\": [{\"colorbar\": {\"outlinewidth\": 0, \"ticks\": \"\"}, \"type\": \"choropleth\"}], \"contour\": [{\"colorbar\": {\"outlinewidth\": 0, \"ticks\": \"\"}, \"colorscale\": [[0.0, \"#0d0887\"], [0.1111111111111111, \"#46039f\"], [0.2222222222222222, \"#7201a8\"], [0.3333333333333333, \"#9c179e\"], [0.4444444444444444, \"#bd3786\"], [0.5555555555555556, \"#d8576b\"], [0.6666666666666666, \"#ed7953\"], [0.7777777777777778, \"#fb9f3a\"], [0.8888888888888888, \"#fdca26\"], [1.0, \"#f0f921\"]], \"type\": \"contour\"}], \"contourcarpet\": [{\"colorbar\": {\"outlinewidth\": 0, \"ticks\": \"\"}, \"type\": \"contourcarpet\"}], \"heatmap\": [{\"colorbar\": {\"outlinewidth\": 0, \"ticks\": \"\"}, \"colorscale\": [[0.0, \"#0d0887\"], [0.1111111111111111, \"#46039f\"], [0.2222222222222222, \"#7201a8\"], [0.3333333333333333, \"#9c179e\"], [0.4444444444444444, \"#bd3786\"], [0.5555555555555556, \"#d8576b\"], [0.6666666666666666, \"#ed7953\"], [0.7777777777777778, \"#fb9f3a\"], [0.8888888888888888, \"#fdca26\"], [1.0, \"#f0f921\"]], \"type\": \"heatmap\"}], \"heatmapgl\": [{\"colorbar\": {\"outlinewidth\": 0, \"ticks\": \"\"}, \"colorscale\": [[0.0, \"#0d0887\"], [0.1111111111111111, \"#46039f\"], [0.2222222222222222, \"#7201a8\"], [0.3333333333333333, \"#9c179e\"], [0.4444444444444444, \"#bd3786\"], [0.5555555555555556, \"#d8576b\"], [0.6666666666666666, \"#ed7953\"], [0.7777777777777778, \"#fb9f3a\"], [0.8888888888888888, \"#fdca26\"], [1.0, \"#f0f921\"]], \"type\": \"heatmapgl\"}], \"histogram\": [{\"marker\": {\"colorbar\": {\"outlinewidth\": 0, \"ticks\": \"\"}}, \"type\": \"histogram\"}], \"histogram2d\": [{\"colorbar\": {\"outlinewidth\": 0, \"ticks\": \"\"}, \"colorscale\": [[0.0, \"#0d0887\"], [0.1111111111111111, \"#46039f\"], [0.2222222222222222, \"#7201a8\"], [0.3333333333333333, \"#9c179e\"], [0.4444444444444444, \"#bd3786\"], [0.5555555555555556, \"#d8576b\"], [0.6666666666666666, \"#ed7953\"], [0.7777777777777778, \"#fb9f3a\"], [0.8888888888888888, \"#fdca26\"], [1.0, \"#f0f921\"]], \"type\": \"histogram2d\"}], \"histogram2dcontour\": [{\"colorbar\": {\"outlinewidth\": 0, \"ticks\": \"\"}, \"colorscale\": [[0.0, \"#0d0887\"], [0.1111111111111111, \"#46039f\"], [0.2222222222222222, \"#7201a8\"], [0.3333333333333333, \"#9c179e\"], [0.4444444444444444, \"#bd3786\"], [0.5555555555555556, \"#d8576b\"], [0.6666666666666666, \"#ed7953\"], [0.7777777777777778, \"#fb9f3a\"], [0.8888888888888888, \"#fdca26\"], [1.0, \"#f0f921\"]], \"type\": \"histogram2dcontour\"}], \"mesh3d\": [{\"colorbar\": {\"outlinewidth\": 0, \"ticks\": \"\"}, \"type\": \"mesh3d\"}], \"parcoords\": [{\"line\": {\"colorbar\": {\"outlinewidth\": 0, \"ticks\": \"\"}}, \"type\": \"parcoords\"}], \"pie\": [{\"automargin\": true, \"type\": \"pie\"}], \"scatter\": [{\"marker\": {\"colorbar\": {\"outlinewidth\": 0, \"ticks\": \"\"}}, \"type\": \"scatter\"}], \"scatter3d\": [{\"line\": {\"colorbar\": {\"outlinewidth\": 0, \"ticks\": \"\"}}, \"marker\": {\"colorbar\": {\"outlinewidth\": 0, \"ticks\": \"\"}}, \"type\": \"scatter3d\"}], \"scattercarpet\": [{\"marker\": {\"colorbar\": {\"outlinewidth\": 0, \"ticks\": \"\"}}, \"type\": \"scattercarpet\"}], \"scattergeo\": [{\"marker\": {\"colorbar\": {\"outlinewidth\": 0, \"ticks\": \"\"}}, \"type\": \"scattergeo\"}], \"scattergl\": [{\"marker\": {\"colorbar\": {\"outlinewidth\": 0, \"ticks\": \"\"}}, \"type\": \"scattergl\"}], \"scattermapbox\": [{\"marker\": {\"colorbar\": {\"outlinewidth\": 0, \"ticks\": \"\"}}, \"type\": \"scattermapbox\"}], \"scatterpolar\": [{\"marker\": {\"colorbar\": {\"outlinewidth\": 0, \"ticks\": \"\"}}, \"type\": \"scatterpolar\"}], \"scatterpolargl\": [{\"marker\": {\"colorbar\": {\"outlinewidth\": 0, \"ticks\": \"\"}}, \"type\": \"scatterpolargl\"}], \"scatterternary\": [{\"marker\": {\"colorbar\": {\"outlinewidth\": 0, \"ticks\": \"\"}}, \"type\": \"scatterternary\"}], \"surface\": [{\"colorbar\": {\"outlinewidth\": 0, \"ticks\": \"\"}, \"colorscale\": [[0.0, \"#0d0887\"], [0.1111111111111111, \"#46039f\"], [0.2222222222222222, \"#7201a8\"], [0.3333333333333333, \"#9c179e\"], [0.4444444444444444, \"#bd3786\"], [0.5555555555555556, \"#d8576b\"], [0.6666666666666666, \"#ed7953\"], [0.7777777777777778, \"#fb9f3a\"], [0.8888888888888888, \"#fdca26\"], [1.0, \"#f0f921\"]], \"type\": \"surface\"}], \"table\": [{\"cells\": {\"fill\": {\"color\": \"#EBF0F8\"}, \"line\": {\"color\": \"white\"}}, \"header\": {\"fill\": {\"color\": \"#C8D4E3\"}, \"line\": {\"color\": \"white\"}}, \"type\": \"table\"}]}, \"layout\": {\"annotationdefaults\": {\"arrowcolor\": \"#2a3f5f\", \"arrowhead\": 0, \"arrowwidth\": 1}, \"coloraxis\": {\"colorbar\": {\"outlinewidth\": 0, \"ticks\": \"\"}}, \"colorscale\": {\"diverging\": [[0, \"#8e0152\"], [0.1, \"#c51b7d\"], [0.2, \"#de77ae\"], [0.3, \"#f1b6da\"], [0.4, \"#fde0ef\"], [0.5, \"#f7f7f7\"], [0.6, \"#e6f5d0\"], [0.7, \"#b8e186\"], [0.8, \"#7fbc41\"], [0.9, \"#4d9221\"], [1, \"#276419\"]], \"sequential\": [[0.0, \"#0d0887\"], [0.1111111111111111, \"#46039f\"], [0.2222222222222222, \"#7201a8\"], [0.3333333333333333, \"#9c179e\"], [0.4444444444444444, \"#bd3786\"], [0.5555555555555556, \"#d8576b\"], [0.6666666666666666, \"#ed7953\"], [0.7777777777777778, \"#fb9f3a\"], [0.8888888888888888, \"#fdca26\"], [1.0, \"#f0f921\"]], \"sequentialminus\": [[0.0, \"#0d0887\"], [0.1111111111111111, \"#46039f\"], [0.2222222222222222, \"#7201a8\"], [0.3333333333333333, \"#9c179e\"], [0.4444444444444444, \"#bd3786\"], [0.5555555555555556, \"#d8576b\"], [0.6666666666666666, \"#ed7953\"], [0.7777777777777778, \"#fb9f3a\"], [0.8888888888888888, \"#fdca26\"], [1.0, \"#f0f921\"]]}, \"colorway\": [\"#636efa\", \"#EF553B\", \"#00cc96\", \"#ab63fa\", \"#FFA15A\", \"#19d3f3\", \"#FF6692\", \"#B6E880\", \"#FF97FF\", \"#FECB52\"], \"font\": {\"color\": \"#2a3f5f\"}, \"geo\": {\"bgcolor\": \"white\", \"lakecolor\": \"white\", \"landcolor\": \"#E5ECF6\", \"showlakes\": true, \"showland\": true, \"subunitcolor\": \"white\"}, \"hoverlabel\": {\"align\": \"left\"}, \"hovermode\": \"closest\", \"mapbox\": {\"style\": \"light\"}, \"paper_bgcolor\": \"white\", \"plot_bgcolor\": \"#E5ECF6\", \"polar\": {\"angularaxis\": {\"gridcolor\": \"white\", \"linecolor\": \"white\", \"ticks\": \"\"}, \"bgcolor\": \"#E5ECF6\", \"radialaxis\": {\"gridcolor\": \"white\", \"linecolor\": \"white\", \"ticks\": \"\"}}, \"scene\": {\"xaxis\": {\"backgroundcolor\": \"#E5ECF6\", \"gridcolor\": \"white\", \"gridwidth\": 2, \"linecolor\": \"white\", \"showbackground\": true, \"ticks\": \"\", \"zerolinecolor\": \"white\"}, \"yaxis\": {\"backgroundcolor\": \"#E5ECF6\", \"gridcolor\": \"white\", \"gridwidth\": 2, \"linecolor\": \"white\", \"showbackground\": true, \"ticks\": \"\", \"zerolinecolor\": \"white\"}, \"zaxis\": {\"backgroundcolor\": \"#E5ECF6\", \"gridcolor\": \"white\", \"gridwidth\": 2, \"linecolor\": \"white\", \"showbackground\": true, \"ticks\": \"\", \"zerolinecolor\": \"white\"}}, \"shapedefaults\": {\"line\": {\"color\": \"#2a3f5f\"}}, \"ternary\": {\"aaxis\": {\"gridcolor\": \"white\", \"linecolor\": \"white\", \"ticks\": \"\"}, \"baxis\": {\"gridcolor\": \"white\", \"linecolor\": \"white\", \"ticks\": \"\"}, \"bgcolor\": \"#E5ECF6\", \"caxis\": {\"gridcolor\": \"white\", \"linecolor\": \"white\", \"ticks\": \"\"}}, \"title\": {\"x\": 0.05}, \"xaxis\": {\"automargin\": true, \"gridcolor\": \"white\", \"linecolor\": \"white\", \"ticks\": \"\", \"title\": {\"standoff\": 15}, \"zerolinecolor\": \"white\", \"zerolinewidth\": 2}, \"yaxis\": {\"automargin\": true, \"gridcolor\": \"white\", \"linecolor\": \"white\", \"ticks\": \"\", \"title\": {\"standoff\": 15}, \"zerolinecolor\": \"white\", \"zerolinewidth\": 2}}}, \"title\": {\"font\": {\"color\": \"#31326f\", \"size\": 25}, \"text\": \"\\uc131\\ubcc4  \\uc77c\\ubcc4 \\ud655\\uc9c4\\uc790 \\uc218 \\uadf8\\ub798\\ud504\"}},\n",
       "                        {\"responsive\": true}\n",
       "                    ).then(function(){\n",
       "                            \n",
       "var gd = document.getElementById('b73351e4-21a3-4268-802d-9f70ead8902a');\n",
       "var x = new MutationObserver(function (mutations, observer) {{\n",
       "        var display = window.getComputedStyle(gd).display;\n",
       "        if (!display || display === 'none') {{\n",
       "            console.log([gd, 'removed!']);\n",
       "            Plotly.purge(gd);\n",
       "            observer.disconnect();\n",
       "        }}\n",
       "}});\n",
       "\n",
       "// Listen for the removal of the full notebook cells\n",
       "var notebookContainer = gd.closest('#notebook-container');\n",
       "if (notebookContainer) {{\n",
       "    x.observe(notebookContainer, {childList: true});\n",
       "}}\n",
       "\n",
       "// Listen for the clearing of the current output cell\n",
       "var outputEl = gd.closest('.output');\n",
       "if (outputEl) {{\n",
       "    x.observe(outputEl, {childList: true});\n",
       "}}\n",
       "\n",
       "                        })\n",
       "                };\n",
       "                \n",
       "            </script>\n",
       "        </div>\n",
       "</body>\n",
       "</html>"
      ]
     },
     "metadata": {
      "tags": []
     },
     "output_type": "display_data"
    }
   ],
   "source": [
    "import plotly.offline as pyo\n",
    "import plotly.graph_objs as go\n",
    "\n",
    "male = go.Scatter(x = male['date'], y = male['confirm_cnt'], mode = 'lines', name = 'male')\n",
    "female = go.Scatter(x = female['date'], y = female['confirm_cnt'], mode = 'lines', name = 'female')\n",
    "\n",
    "confirm_data = [male, female]\n",
    "\n",
    "layout = go.Layout(title='성별  일별 확진자 수 그래프', titlefont=dict(size=25, color='#31326f'))\n",
    "\n",
    "fig = go.Figure(data=confirm_data, layout=layout)\n",
    "\n",
    "pyo.iplot(fig)\n"
   ]
  },
  {
   "cell_type": "code",
   "execution_count": null,
   "id": "painful-armstrong",
   "metadata": {
    "id": "painful-armstrong"
   },
   "outputs": [],
   "source": []
  },
  {
   "cell_type": "markdown",
   "id": "macro-oklahoma",
   "metadata": {
    "id": "macro-oklahoma"
   },
   "source": [
    "##### 일별 사망자 시각화"
   ]
  },
  {
   "cell_type": "code",
   "execution_count": 28,
   "id": "assumed-party",
   "metadata": {
    "ExecuteTime": {
     "end_time": "2021-04-06T10:34:20.932048Z",
     "start_time": "2021-04-06T10:34:20.923754Z"
    },
    "executionInfo": {
     "elapsed": 973,
     "status": "ok",
     "timestamp": 1617869474113,
     "user": {
      "displayName": "최유리",
      "photoUrl": "",
      "userId": "16723349519808453958"
     },
     "user_tz": -540
    },
    "id": "assumed-party"
   },
   "outputs": [],
   "source": [
    "deceased_data = gender[['date', 'sex', 'deceased_cnt']][2:]\n",
    "male = deceased_data[deceased_data['sex'] == 'male']\n",
    "male.reset_index(drop=True, inplace=True)\n",
    "\n",
    "female = deceased_data[deceased_data['sex'] == 'female']\n",
    "female.reset_index(drop=True, inplace=True)\n"
   ]
  },
  {
   "cell_type": "code",
   "execution_count": 29,
   "id": "cutting-hours",
   "metadata": {
    "ExecuteTime": {
     "end_time": "2021-04-06T10:34:21.810394Z",
     "start_time": "2021-04-06T10:34:21.740489Z"
    },
    "colab": {
     "base_uri": "https://localhost:8080/",
     "height": 542
    },
    "executionInfo": {
     "elapsed": 1125,
     "status": "ok",
     "timestamp": 1617869475351,
     "user": {
      "displayName": "최유리",
      "photoUrl": "",
      "userId": "16723349519808453958"
     },
     "user_tz": -540
    },
    "id": "cutting-hours",
    "outputId": "74eeca99-2e70-44df-e193-39eb8e4fb120"
   },
   "outputs": [
    {
     "data": {
      "text/html": [
       "<html>\n",
       "<head><meta charset=\"utf-8\" /></head>\n",
       "<body>\n",
       "    <div>\n",
       "            <script src=\"https://cdnjs.cloudflare.com/ajax/libs/mathjax/2.7.5/MathJax.js?config=TeX-AMS-MML_SVG\"></script><script type=\"text/javascript\">if (window.MathJax) {MathJax.Hub.Config({SVG: {font: \"STIX-Web\"}});}</script>\n",
       "                <script type=\"text/javascript\">window.PlotlyConfig = {MathJaxConfig: 'local'};</script>\n",
       "        <script src=\"https://cdn.plot.ly/plotly-latest.min.js\"></script>    \n",
       "            <div id=\"e60c2f8a-fc10-47d0-8996-acc59f9b66b6\" class=\"plotly-graph-div\" style=\"height:525px; width:100%;\"></div>\n",
       "            <script type=\"text/javascript\">\n",
       "                \n",
       "                    window.PLOTLYENV=window.PLOTLYENV || {};\n",
       "                    \n",
       "                if (document.getElementById(\"e60c2f8a-fc10-47d0-8996-acc59f9b66b6\")) {\n",
       "                    Plotly.newPlot(\n",
       "                        'e60c2f8a-fc10-47d0-8996-acc59f9b66b6',\n",
       "                        [{\"mode\": \"lines\", \"name\": \"male\", \"type\": \"scatter\", \"x\": [\"2020-03-03T00:00:00\", \"2020-03-04T00:00:00\", \"2020-03-05T00:00:00\", \"2020-03-06T00:00:00\", \"2020-03-07T00:00:00\", \"2020-03-08T00:00:00\", \"2020-03-09T00:00:00\", \"2020-03-10T00:00:00\", \"2020-03-11T00:00:00\", \"2020-03-12T00:00:00\", \"2020-03-13T00:00:00\", \"2020-03-14T00:00:00\", \"2020-03-15T00:00:00\", \"2020-03-16T00:00:00\", \"2020-03-17T00:00:00\", \"2020-03-18T00:00:00\", \"2020-03-19T00:00:00\", \"2020-03-20T00:00:00\", \"2020-03-21T00:00:00\", \"2020-03-22T00:00:00\", \"2020-03-23T00:00:00\", \"2020-03-24T00:00:00\", \"2020-03-25T00:00:00\", \"2020-03-26T00:00:00\", \"2020-03-27T00:00:00\", \"2020-03-28T00:00:00\", \"2020-03-29T00:00:00\", \"2020-03-30T00:00:00\", \"2020-03-31T00:00:00\", \"2020-04-01T00:00:00\", \"2020-04-02T00:00:00\", \"2020-04-03T00:00:00\", \"2020-04-04T00:00:00\", \"2020-04-05T00:00:00\", \"2020-04-06T00:00:00\", \"2020-04-07T00:00:00\", \"2020-04-08T00:00:00\", \"2020-04-09T00:00:00\", \"2020-04-10T00:00:00\", \"2020-04-11T00:00:00\", \"2020-04-12T00:00:00\", \"2020-04-13T00:00:00\", \"2020-04-14T00:00:00\", \"2020-04-15T00:00:00\", \"2020-04-16T00:00:00\", \"2020-04-17T00:00:00\", \"2020-04-18T00:00:00\", \"2020-04-19T00:00:00\", \"2020-04-20T00:00:00\", \"2020-04-21T00:00:00\", \"2020-04-22T00:00:00\", \"2020-04-23T00:00:00\", \"2020-04-24T00:00:00\", \"2020-04-25T00:00:00\", \"2020-04-26T00:00:00\", \"2020-04-27T00:00:00\", \"2020-04-28T00:00:00\", \"2020-04-29T00:00:00\", \"2020-04-30T00:00:00\", \"2020-05-01T00:00:00\", \"2020-05-02T00:00:00\", \"2020-05-03T00:00:00\", \"2020-05-04T00:00:00\", \"2020-05-05T00:00:00\", \"2020-05-06T00:00:00\", \"2020-05-07T00:00:00\", \"2020-05-08T00:00:00\", \"2020-05-09T00:00:00\", \"2020-05-10T00:00:00\", \"2020-05-11T00:00:00\", \"2020-05-12T00:00:00\", \"2020-05-13T00:00:00\", \"2020-05-14T00:00:00\", \"2020-05-15T00:00:00\", \"2020-05-16T00:00:00\", \"2020-05-17T00:00:00\", \"2020-05-18T00:00:00\", \"2020-05-19T00:00:00\", \"2020-05-20T00:00:00\", \"2020-05-21T00:00:00\", \"2020-05-23T00:00:00\", \"2020-05-24T00:00:00\", \"2020-05-25T00:00:00\", \"2020-05-26T00:00:00\", \"2020-05-27T00:00:00\", \"2020-05-28T00:00:00\", \"2020-05-29T00:00:00\", \"2020-05-30T00:00:00\", \"2020-05-31T00:00:00\", \"2020-06-02T00:00:00\", \"2020-06-03T00:00:00\", \"2020-06-04T00:00:00\", \"2020-06-05T00:00:00\", \"2020-06-06T00:00:00\", \"2020-06-07T00:00:00\", \"2020-06-08T00:00:00\", \"2020-06-09T00:00:00\", \"2020-06-10T00:00:00\", \"2020-06-11T00:00:00\", \"2020-06-12T00:00:00\", \"2020-06-13T00:00:00\", \"2020-06-14T00:00:00\", \"2020-06-16T00:00:00\", \"2020-06-17T00:00:00\", \"2020-06-18T00:00:00\", \"2020-06-19T00:00:00\", \"2020-06-20T00:00:00\", \"2020-06-21T00:00:00\", \"2020-06-22T00:00:00\", \"2020-06-24T00:00:00\", \"2020-06-25T00:00:00\", \"2020-06-26T00:00:00\", \"2020-06-27T00:00:00\", \"2020-06-28T00:00:00\", \"2020-06-29T00:00:00\", \"2020-06-30T00:00:00\", \"2020-07-01T00:00:00\", \"2020-07-02T00:00:00\", \"2020-07-03T00:00:00\", \"2020-07-04T00:00:00\", \"2020-07-05T00:00:00\", \"2020-07-06T00:00:00\", \"2020-07-07T00:00:00\", \"2020-07-08T00:00:00\", \"2020-07-09T00:00:00\", \"2020-07-10T00:00:00\", \"2020-07-11T00:00:00\", \"2020-07-12T00:00:00\", \"2020-07-13T00:00:00\", \"2020-07-14T00:00:00\", \"2020-07-15T00:00:00\", \"2020-07-16T00:00:00\", \"2020-07-17T00:00:00\", \"2020-07-18T00:00:00\", \"2020-07-19T00:00:00\", \"2020-07-20T00:00:00\", \"2020-07-21T00:00:00\", \"2020-07-22T00:00:00\", \"2020-07-23T00:00:00\", \"2020-07-24T00:00:00\", \"2020-07-25T00:00:00\", \"2020-07-26T00:00:00\", \"2020-07-27T00:00:00\", \"2020-07-28T00:00:00\", \"2020-07-29T00:00:00\", \"2020-07-30T00:00:00\", \"2020-07-31T00:00:00\", \"2020-08-01T00:00:00\", \"2020-08-03T00:00:00\", \"2020-08-04T00:00:00\", \"2020-08-05T00:00:00\", \"2020-08-06T00:00:00\", \"2020-08-07T00:00:00\", \"2020-08-08T00:00:00\", \"2020-08-09T00:00:00\", \"2020-08-10T00:00:00\", \"2020-08-11T00:00:00\", \"2020-08-12T00:00:00\", \"2020-08-13T00:00:00\", \"2020-08-14T00:00:00\", \"2020-08-15T00:00:00\", \"2020-08-16T00:00:00\", \"2020-08-17T00:00:00\", \"2020-08-18T00:00:00\", \"2020-08-19T00:00:00\", \"2020-08-20T00:00:00\", \"2020-08-21T00:00:00\", \"2020-08-22T00:00:00\", \"2020-08-23T00:00:00\", \"2020-08-24T00:00:00\", \"2020-08-25T00:00:00\", \"2020-08-26T00:00:00\", \"2020-08-27T00:00:00\", \"2020-08-28T00:00:00\", \"2020-08-29T00:00:00\", \"2020-08-30T00:00:00\", \"2020-08-31T00:00:00\", \"2020-09-01T00:00:00\", \"2020-09-02T00:00:00\", \"2020-09-03T00:00:00\", \"2020-09-04T00:00:00\", \"2020-09-05T00:00:00\", \"2020-09-06T00:00:00\", \"2020-09-07T00:00:00\", \"2020-09-08T00:00:00\", \"2020-09-09T00:00:00\", \"2020-09-10T00:00:00\", \"2020-09-11T00:00:00\", \"2020-09-12T00:00:00\", \"2020-09-13T00:00:00\", \"2020-09-14T00:00:00\", \"2020-09-15T00:00:00\", \"2020-09-16T00:00:00\", \"2020-09-17T00:00:00\", \"2020-09-18T00:00:00\", \"2020-09-19T00:00:00\", \"2020-09-20T00:00:00\", \"2020-09-21T00:00:00\", \"2020-09-22T00:00:00\", \"2020-09-23T00:00:00\", \"2020-09-24T00:00:00\", \"2020-09-25T00:00:00\", \"2020-09-26T00:00:00\", \"2020-09-27T00:00:00\", \"2020-09-28T00:00:00\", \"2020-09-29T00:00:00\", \"2020-09-30T00:00:00\", \"2020-10-01T00:00:00\", \"2020-10-02T00:00:00\", \"2020-10-03T00:00:00\", \"2020-10-04T00:00:00\", \"2020-10-05T00:00:00\", \"2020-10-06T00:00:00\", \"2020-10-07T00:00:00\", \"2020-10-08T00:00:00\", \"2020-10-09T00:00:00\", \"2020-10-10T00:00:00\", \"2020-10-11T00:00:00\", \"2020-10-12T00:00:00\", \"2020-10-13T00:00:00\", \"2020-10-14T00:00:00\", \"2020-10-15T00:00:00\", \"2020-10-16T00:00:00\", \"2020-10-17T00:00:00\", \"2020-10-18T00:00:00\", \"2020-10-19T00:00:00\", \"2020-10-20T00:00:00\", \"2020-10-21T00:00:00\", \"2020-10-22T00:00:00\", \"2020-10-23T00:00:00\", \"2020-10-24T00:00:00\", \"2020-10-25T00:00:00\", \"2020-10-26T00:00:00\", \"2020-10-27T00:00:00\", \"2020-10-28T00:00:00\", \"2020-10-29T00:00:00\", \"2020-10-30T00:00:00\", \"2020-10-31T00:00:00\", \"2020-11-01T00:00:00\", \"2020-11-02T00:00:00\", \"2020-11-03T00:00:00\", \"2020-11-04T00:00:00\", \"2020-11-05T00:00:00\", \"2020-11-06T00:00:00\", \"2020-11-07T00:00:00\", \"2020-11-08T00:00:00\", \"2020-11-09T00:00:00\", \"2020-11-10T00:00:00\", \"2020-11-11T00:00:00\", \"2020-11-12T00:00:00\", \"2020-11-13T00:00:00\", \"2020-11-14T00:00:00\", \"2020-11-15T00:00:00\", \"2020-11-16T00:00:00\", \"2020-11-17T00:00:00\", \"2020-11-18T00:00:00\", \"2020-11-19T00:00:00\", \"2020-11-20T00:00:00\", \"2020-11-21T00:00:00\", \"2020-11-22T00:00:00\", \"2020-11-23T00:00:00\", \"2020-11-24T00:00:00\", \"2020-11-25T00:00:00\", \"2020-11-26T00:00:00\", \"2020-11-27T00:00:00\", \"2020-11-28T00:00:00\", \"2020-11-29T00:00:00\", \"2020-11-30T00:00:00\", \"2020-12-01T00:00:00\", \"2020-12-02T00:00:00\", \"2020-12-03T00:00:00\", \"2020-12-04T00:00:00\", \"2020-12-05T00:00:00\", \"2020-12-06T00:00:00\", \"2020-12-07T00:00:00\", \"2020-12-08T00:00:00\", \"2020-12-09T00:00:00\", \"2020-12-10T00:00:00\", \"2020-12-11T00:00:00\", \"2020-12-12T00:00:00\", \"2020-12-13T00:00:00\", \"2020-12-14T00:00:00\", \"2020-12-15T00:00:00\", \"2020-12-16T00:00:00\", \"2020-12-17T00:00:00\", \"2020-12-18T00:00:00\", \"2020-12-19T00:00:00\", \"2020-12-20T00:00:00\", \"2020-12-21T00:00:00\", \"2020-12-22T00:00:00\", \"2020-12-23T00:00:00\", \"2020-12-24T00:00:00\", \"2020-12-25T00:00:00\", \"2020-12-26T00:00:00\", \"2020-12-27T00:00:00\", \"2020-12-28T00:00:00\", \"2020-12-29T00:00:00\", \"2020-12-30T00:00:00\", \"2020-12-31T00:00:00\", \"2021-01-01T00:00:00\", \"2021-01-02T00:00:00\", \"2021-01-03T00:00:00\", \"2021-01-04T00:00:00\", \"2021-01-05T00:00:00\", \"2021-01-06T00:00:00\", \"2021-01-07T00:00:00\", \"2021-01-08T00:00:00\", \"2021-01-09T00:00:00\", \"2021-01-10T00:00:00\", \"2021-01-11T00:00:00\", \"2021-01-12T00:00:00\", \"2021-01-13T00:00:00\", \"2021-01-14T00:00:00\", \"2021-01-15T00:00:00\", \"2021-01-16T00:00:00\", \"2021-01-17T00:00:00\", \"2021-01-18T00:00:00\", \"2021-01-19T00:00:00\", \"2021-01-20T00:00:00\", \"2021-01-21T00:00:00\", \"2021-01-22T00:00:00\", \"2021-01-23T00:00:00\", \"2021-01-24T00:00:00\", \"2021-01-25T00:00:00\", \"2021-01-26T00:00:00\", \"2021-01-27T00:00:00\", \"2021-01-28T00:00:00\", \"2021-01-29T00:00:00\", \"2021-01-30T00:00:00\", \"2021-01-31T00:00:00\", \"2021-02-01T00:00:00\", \"2021-02-02T00:00:00\", \"2021-02-03T00:00:00\", \"2021-02-04T00:00:00\", \"2021-02-05T00:00:00\", \"2021-02-06T00:00:00\", \"2021-02-07T00:00:00\", \"2021-02-08T00:00:00\", \"2021-02-09T00:00:00\", \"2021-02-10T00:00:00\", \"2021-02-11T00:00:00\", \"2021-02-12T00:00:00\", \"2021-02-13T00:00:00\", \"2021-02-14T00:00:00\", \"2021-02-15T00:00:00\", \"2021-02-16T00:00:00\", \"2021-02-17T00:00:00\", \"2021-02-19T00:00:00\", \"2021-02-20T00:00:00\", \"2021-02-21T00:00:00\", \"2021-02-22T00:00:00\", \"2021-02-23T00:00:00\", \"2021-02-24T00:00:00\", \"2021-02-25T00:00:00\", \"2021-02-26T00:00:00\", \"2021-02-27T00:00:00\", \"2021-02-28T00:00:00\", \"2021-03-01T00:00:00\", \"2021-03-02T00:00:00\", \"2021-03-03T00:00:00\", \"2021-03-04T00:00:00\", \"2021-03-05T00:00:00\", \"2021-03-06T00:00:00\", \"2021-03-07T00:00:00\", \"2021-03-08T00:00:00\", \"2021-03-09T00:00:00\", \"2021-03-10T00:00:00\", \"2021-03-11T00:00:00\", \"2021-03-12T00:00:00\", \"2021-03-13T00:00:00\", \"2021-03-15T00:00:00\", \"2021-03-16T00:00:00\", \"2021-03-17T00:00:00\", \"2021-03-18T00:00:00\", \"2021-03-19T00:00:00\", \"2021-03-20T00:00:00\", \"2021-03-21T00:00:00\", \"2021-03-22T00:00:00\", \"2021-03-23T00:00:00\", \"2021-03-24T00:00:00\", \"2021-03-25T00:00:00\", \"2021-03-26T00:00:00\", \"2021-03-27T00:00:00\", \"2021-03-28T00:00:00\", \"2021-03-29T00:00:00\", \"2021-03-30T00:00:00\", \"2021-03-31T00:00:00\", \"2021-04-01T00:00:00\", \"2021-04-02T00:00:00\", \"2021-04-03T00:00:00\"], \"y\": [3, 4, 1, 4, 1, 3, 2, 2, 2, 3, 1, 2, 0, 0, 3, 1, 4, 2, 3, 1, 3, 2, 4, 4, 7, 2, 1, 2, 2, 2, 3, 5, 2, 3, 1, 3, 5, 1, 2, 2, 2, 2, 1, 2, 4, 0, 2, 0, 1, 0, 1, 1, 0, 0, 0, 0, 1, 1, 1, 0, 0, 0, 1, 0, 1, 1, 0, 0, 0, 0, 0, 1, 1, 0, 1, 0, 1, 0, 0, 1, 2, 0, 1, 1, 0, 0, 0, 0, 1, 1, 1, 0, 0, 0, 0, 0, 1, 1, 0, 0, 0, 0, 1, 1, 1, 0, 0, 0, 0, 0, 1, 0, 0, 0, 0, 0, 0, 0, 0, 0, 0, 0, 1, 0, 1, 0, 0, 0, 0, 0, 0, 1, 0, 1, 0, 1, 0, 1, 0, 1, 0, 0, 0, 1, 0, 0, 1, 0, 0, 0, 0, 0, 0, 1, 1, 0, 0, 0, 0, 0, 0, 0, 0, 1, 0, 0, 0, 0, 0, 0, 1, 1, 0, 2, 3, 2, 0, 0, 1, 1, 1, 1, 0, 2, 3, 1, 1, 2, 1, 0, 4, 2, 0, 3, 3, 1, 0, 3, 1, 0, 4, 1, 3, 2, 3, 0, 1, 2, 1, 4, 1, 1, 0, 1, 2, 0, 1, 1, 0, 1, 1, 0, 1, 1, 0, 0, 2, 3, 1, 1, 2, 0, 0, 2, 1, 0, 1, 0, 1, 0, 0, 0, 1, 1, 0, 1, 0, 3, 2, 0, 0, 3, 0, 0, 0, 1, 1, 1, 1, 1, 2, 1, 1, 2, 0, 2, 1, 1, 0, 0, 1, 3, 1, 2, 2, 1, 2, 2, 3, 3, 2, 5, 6, 9, 14, 5, 3, 6, 13, 7, 9, 6, 10, 14, 7, 5, 13, 9, 10, 11, 10, 14, 8, 16, 7, 11, 15, 7, 11, 4, 10, 10, 5, 10, 9, 9, 9, 9, 7, 10, 9, 5, 5, 4, 8, 2, 3, 7, 7, 3, 3, 3, 4, 4, 5, 2, 6, 2, 4, 3, 6, 4, 3, 4, 2, 4, 2, 8, 1, 2, 2, 5, 2, 2, 1, 7, 6, 0, 0, 4, 4, 3, 1, 1, 4, 1, 3, 2, 3, 3, 3, 2, 4, 0, 2, 1, 2, 0, 3, 2, 2, 2, 5, 1, 1, 2, 1, 2, 1, 3]}, {\"mode\": \"lines\", \"name\": \"female\", \"type\": \"scatter\", \"x\": [\"2020-03-03T00:00:00\", \"2020-03-04T00:00:00\", \"2020-03-05T00:00:00\", \"2020-03-06T00:00:00\", \"2020-03-07T00:00:00\", \"2020-03-08T00:00:00\", \"2020-03-09T00:00:00\", \"2020-03-10T00:00:00\", \"2020-03-11T00:00:00\", \"2020-03-12T00:00:00\", \"2020-03-13T00:00:00\", \"2020-03-14T00:00:00\", \"2020-03-15T00:00:00\", \"2020-03-16T00:00:00\", \"2020-03-17T00:00:00\", \"2020-03-18T00:00:00\", \"2020-03-19T00:00:00\", \"2020-03-20T00:00:00\", \"2020-03-21T00:00:00\", \"2020-03-22T00:00:00\", \"2020-03-23T00:00:00\", \"2020-03-24T00:00:00\", \"2020-03-25T00:00:00\", \"2020-03-26T00:00:00\", \"2020-03-27T00:00:00\", \"2020-03-28T00:00:00\", \"2020-03-29T00:00:00\", \"2020-03-30T00:00:00\", \"2020-03-31T00:00:00\", \"2020-04-01T00:00:00\", \"2020-04-02T00:00:00\", \"2020-04-03T00:00:00\", \"2020-04-04T00:00:00\", \"2020-04-05T00:00:00\", \"2020-04-06T00:00:00\", \"2020-04-07T00:00:00\", \"2020-04-08T00:00:00\", \"2020-04-09T00:00:00\", \"2020-04-10T00:00:00\", \"2020-04-11T00:00:00\", \"2020-04-12T00:00:00\", \"2020-04-13T00:00:00\", \"2020-04-14T00:00:00\", \"2020-04-15T00:00:00\", \"2020-04-16T00:00:00\", \"2020-04-17T00:00:00\", \"2020-04-18T00:00:00\", \"2020-04-19T00:00:00\", \"2020-04-20T00:00:00\", \"2020-04-21T00:00:00\", \"2020-04-22T00:00:00\", \"2020-04-23T00:00:00\", \"2020-04-24T00:00:00\", \"2020-04-25T00:00:00\", \"2020-04-26T00:00:00\", \"2020-04-27T00:00:00\", \"2020-04-28T00:00:00\", \"2020-04-29T00:00:00\", \"2020-04-30T00:00:00\", \"2020-05-01T00:00:00\", \"2020-05-02T00:00:00\", \"2020-05-03T00:00:00\", \"2020-05-04T00:00:00\", \"2020-05-05T00:00:00\", \"2020-05-06T00:00:00\", \"2020-05-07T00:00:00\", \"2020-05-08T00:00:00\", \"2020-05-09T00:00:00\", \"2020-05-10T00:00:00\", \"2020-05-11T00:00:00\", \"2020-05-12T00:00:00\", \"2020-05-13T00:00:00\", \"2020-05-14T00:00:00\", \"2020-05-15T00:00:00\", \"2020-05-16T00:00:00\", \"2020-05-17T00:00:00\", \"2020-05-18T00:00:00\", \"2020-05-19T00:00:00\", \"2020-05-20T00:00:00\", \"2020-05-21T00:00:00\", \"2020-05-23T00:00:00\", \"2020-05-24T00:00:00\", \"2020-05-25T00:00:00\", \"2020-05-26T00:00:00\", \"2020-05-27T00:00:00\", \"2020-05-28T00:00:00\", \"2020-05-29T00:00:00\", \"2020-05-30T00:00:00\", \"2020-05-31T00:00:00\", \"2020-06-02T00:00:00\", \"2020-06-03T00:00:00\", \"2020-06-04T00:00:00\", \"2020-06-05T00:00:00\", \"2020-06-06T00:00:00\", \"2020-06-07T00:00:00\", \"2020-06-08T00:00:00\", \"2020-06-09T00:00:00\", \"2020-06-10T00:00:00\", \"2020-06-11T00:00:00\", \"2020-06-12T00:00:00\", \"2020-06-13T00:00:00\", \"2020-06-14T00:00:00\", \"2020-06-16T00:00:00\", \"2020-06-17T00:00:00\", \"2020-06-18T00:00:00\", \"2020-06-19T00:00:00\", \"2020-06-20T00:00:00\", \"2020-06-21T00:00:00\", \"2020-06-22T00:00:00\", \"2020-06-24T00:00:00\", \"2020-06-25T00:00:00\", \"2020-06-26T00:00:00\", \"2020-06-27T00:00:00\", \"2020-06-28T00:00:00\", \"2020-06-29T00:00:00\", \"2020-06-30T00:00:00\", \"2020-07-01T00:00:00\", \"2020-07-02T00:00:00\", \"2020-07-03T00:00:00\", \"2020-07-04T00:00:00\", \"2020-07-05T00:00:00\", \"2020-07-06T00:00:00\", \"2020-07-07T00:00:00\", \"2020-07-08T00:00:00\", \"2020-07-09T00:00:00\", \"2020-07-10T00:00:00\", \"2020-07-11T00:00:00\", \"2020-07-12T00:00:00\", \"2020-07-13T00:00:00\", \"2020-07-14T00:00:00\", \"2020-07-15T00:00:00\", \"2020-07-16T00:00:00\", \"2020-07-17T00:00:00\", \"2020-07-18T00:00:00\", \"2020-07-19T00:00:00\", \"2020-07-20T00:00:00\", \"2020-07-21T00:00:00\", \"2020-07-22T00:00:00\", \"2020-07-23T00:00:00\", \"2020-07-24T00:00:00\", \"2020-07-25T00:00:00\", \"2020-07-26T00:00:00\", \"2020-07-27T00:00:00\", \"2020-07-28T00:00:00\", \"2020-07-29T00:00:00\", \"2020-07-30T00:00:00\", \"2020-07-31T00:00:00\", \"2020-08-01T00:00:00\", \"2020-08-03T00:00:00\", \"2020-08-04T00:00:00\", \"2020-08-05T00:00:00\", \"2020-08-06T00:00:00\", \"2020-08-07T00:00:00\", \"2020-08-08T00:00:00\", \"2020-08-09T00:00:00\", \"2020-08-10T00:00:00\", \"2020-08-11T00:00:00\", \"2020-08-12T00:00:00\", \"2020-08-13T00:00:00\", \"2020-08-14T00:00:00\", \"2020-08-15T00:00:00\", \"2020-08-16T00:00:00\", \"2020-08-17T00:00:00\", \"2020-08-18T00:00:00\", \"2020-08-19T00:00:00\", \"2020-08-20T00:00:00\", \"2020-08-21T00:00:00\", \"2020-08-22T00:00:00\", \"2020-08-23T00:00:00\", \"2020-08-24T00:00:00\", \"2020-08-25T00:00:00\", \"2020-08-26T00:00:00\", \"2020-08-27T00:00:00\", \"2020-08-28T00:00:00\", \"2020-08-29T00:00:00\", \"2020-08-30T00:00:00\", \"2020-08-31T00:00:00\", \"2020-09-01T00:00:00\", \"2020-09-02T00:00:00\", \"2020-09-03T00:00:00\", \"2020-09-04T00:00:00\", \"2020-09-05T00:00:00\", \"2020-09-06T00:00:00\", \"2020-09-07T00:00:00\", \"2020-09-08T00:00:00\", \"2020-09-09T00:00:00\", \"2020-09-10T00:00:00\", \"2020-09-11T00:00:00\", \"2020-09-12T00:00:00\", \"2020-09-13T00:00:00\", \"2020-09-14T00:00:00\", \"2020-09-15T00:00:00\", \"2020-09-16T00:00:00\", \"2020-09-17T00:00:00\", \"2020-09-18T00:00:00\", \"2020-09-19T00:00:00\", \"2020-09-20T00:00:00\", \"2020-09-21T00:00:00\", \"2020-09-22T00:00:00\", \"2020-09-23T00:00:00\", \"2020-09-24T00:00:00\", \"2020-09-25T00:00:00\", \"2020-09-26T00:00:00\", \"2020-09-27T00:00:00\", \"2020-09-28T00:00:00\", \"2020-09-29T00:00:00\", \"2020-09-30T00:00:00\", \"2020-10-01T00:00:00\", \"2020-10-02T00:00:00\", \"2020-10-03T00:00:00\", \"2020-10-04T00:00:00\", \"2020-10-05T00:00:00\", \"2020-10-06T00:00:00\", \"2020-10-07T00:00:00\", \"2020-10-08T00:00:00\", \"2020-10-09T00:00:00\", \"2020-10-10T00:00:00\", \"2020-10-11T00:00:00\", \"2020-10-12T00:00:00\", \"2020-10-13T00:00:00\", \"2020-10-14T00:00:00\", \"2020-10-15T00:00:00\", \"2020-10-16T00:00:00\", \"2020-10-17T00:00:00\", \"2020-10-18T00:00:00\", \"2020-10-19T00:00:00\", \"2020-10-20T00:00:00\", \"2020-10-21T00:00:00\", \"2020-10-22T00:00:00\", \"2020-10-23T00:00:00\", \"2020-10-24T00:00:00\", \"2020-10-25T00:00:00\", \"2020-10-26T00:00:00\", \"2020-10-27T00:00:00\", \"2020-10-28T00:00:00\", \"2020-10-29T00:00:00\", \"2020-10-30T00:00:00\", \"2020-10-31T00:00:00\", \"2020-11-01T00:00:00\", \"2020-11-02T00:00:00\", \"2020-11-03T00:00:00\", \"2020-11-04T00:00:00\", \"2020-11-05T00:00:00\", \"2020-11-06T00:00:00\", \"2020-11-07T00:00:00\", \"2020-11-08T00:00:00\", \"2020-11-09T00:00:00\", \"2020-11-10T00:00:00\", \"2020-11-11T00:00:00\", \"2020-11-12T00:00:00\", \"2020-11-13T00:00:00\", \"2020-11-14T00:00:00\", \"2020-11-15T00:00:00\", \"2020-11-16T00:00:00\", \"2020-11-17T00:00:00\", \"2020-11-18T00:00:00\", \"2020-11-19T00:00:00\", \"2020-11-20T00:00:00\", \"2020-11-21T00:00:00\", \"2020-11-22T00:00:00\", \"2020-11-23T00:00:00\", \"2020-11-24T00:00:00\", \"2020-11-25T00:00:00\", \"2020-11-26T00:00:00\", \"2020-11-27T00:00:00\", \"2020-11-28T00:00:00\", \"2020-11-29T00:00:00\", \"2020-11-30T00:00:00\", \"2020-12-01T00:00:00\", \"2020-12-02T00:00:00\", \"2020-12-03T00:00:00\", \"2020-12-04T00:00:00\", \"2020-12-05T00:00:00\", \"2020-12-06T00:00:00\", \"2020-12-07T00:00:00\", \"2020-12-08T00:00:00\", \"2020-12-09T00:00:00\", \"2020-12-10T00:00:00\", \"2020-12-11T00:00:00\", \"2020-12-12T00:00:00\", \"2020-12-13T00:00:00\", \"2020-12-14T00:00:00\", \"2020-12-15T00:00:00\", \"2020-12-16T00:00:00\", \"2020-12-17T00:00:00\", \"2020-12-18T00:00:00\", \"2020-12-19T00:00:00\", \"2020-12-20T00:00:00\", \"2020-12-21T00:00:00\", \"2020-12-22T00:00:00\", \"2020-12-23T00:00:00\", \"2020-12-24T00:00:00\", \"2020-12-25T00:00:00\", \"2020-12-26T00:00:00\", \"2020-12-27T00:00:00\", \"2020-12-28T00:00:00\", \"2020-12-29T00:00:00\", \"2020-12-30T00:00:00\", \"2020-12-31T00:00:00\", \"2021-01-01T00:00:00\", \"2021-01-02T00:00:00\", \"2021-01-03T00:00:00\", \"2021-01-04T00:00:00\", \"2021-01-05T00:00:00\", \"2021-01-06T00:00:00\", \"2021-01-07T00:00:00\", \"2021-01-08T00:00:00\", \"2021-01-09T00:00:00\", \"2021-01-10T00:00:00\", \"2021-01-11T00:00:00\", \"2021-01-12T00:00:00\", \"2021-01-13T00:00:00\", \"2021-01-14T00:00:00\", \"2021-01-15T00:00:00\", \"2021-01-16T00:00:00\", \"2021-01-17T00:00:00\", \"2021-01-18T00:00:00\", \"2021-01-19T00:00:00\", \"2021-01-20T00:00:00\", \"2021-01-21T00:00:00\", \"2021-01-22T00:00:00\", \"2021-01-23T00:00:00\", \"2021-01-24T00:00:00\", \"2021-01-25T00:00:00\", \"2021-01-26T00:00:00\", \"2021-01-27T00:00:00\", \"2021-01-28T00:00:00\", \"2021-01-29T00:00:00\", \"2021-01-30T00:00:00\", \"2021-01-31T00:00:00\", \"2021-02-01T00:00:00\", \"2021-02-02T00:00:00\", \"2021-02-03T00:00:00\", \"2021-02-04T00:00:00\", \"2021-02-05T00:00:00\", \"2021-02-06T00:00:00\", \"2021-02-07T00:00:00\", \"2021-02-08T00:00:00\", \"2021-02-09T00:00:00\", \"2021-02-10T00:00:00\", \"2021-02-11T00:00:00\", \"2021-02-12T00:00:00\", \"2021-02-13T00:00:00\", \"2021-02-14T00:00:00\", \"2021-02-15T00:00:00\", \"2021-02-16T00:00:00\", \"2021-02-17T00:00:00\", \"2021-02-19T00:00:00\", \"2021-02-20T00:00:00\", \"2021-02-21T00:00:00\", \"2021-02-22T00:00:00\", \"2021-02-23T00:00:00\", \"2021-02-24T00:00:00\", \"2021-02-25T00:00:00\", \"2021-02-26T00:00:00\", \"2021-02-27T00:00:00\", \"2021-02-28T00:00:00\", \"2021-03-01T00:00:00\", \"2021-03-02T00:00:00\", \"2021-03-03T00:00:00\", \"2021-03-04T00:00:00\", \"2021-03-05T00:00:00\", \"2021-03-06T00:00:00\", \"2021-03-07T00:00:00\", \"2021-03-08T00:00:00\", \"2021-03-09T00:00:00\", \"2021-03-10T00:00:00\", \"2021-03-11T00:00:00\", \"2021-03-12T00:00:00\", \"2021-03-13T00:00:00\", \"2021-03-15T00:00:00\", \"2021-03-16T00:00:00\", \"2021-03-17T00:00:00\", \"2021-03-18T00:00:00\", \"2021-03-19T00:00:00\", \"2021-03-20T00:00:00\", \"2021-03-21T00:00:00\", \"2021-03-22T00:00:00\", \"2021-03-23T00:00:00\", \"2021-03-24T00:00:00\", \"2021-03-25T00:00:00\", \"2021-03-26T00:00:00\", \"2021-03-27T00:00:00\", \"2021-03-28T00:00:00\", \"2021-03-29T00:00:00\", \"2021-03-30T00:00:00\", \"2021-03-31T00:00:00\", \"2021-04-01T00:00:00\", \"2021-04-02T00:00:00\", \"2021-04-03T00:00:00\"], \"y\": [3, 0, 2, 3, 1, 2, 0, 1, 4, 3, 0, 3, 3, 0, 3, 2, 3, 1, 5, 1, 4, 7, 2, 1, 1, 3, 7, 4, 2, 1, 1, 0, 1, 3, 2, 3, 3, 3, 2, 1, 1, 1, 4, 1, 0, 1, 0, 2, 1, 1, 0, 1, 0, 0, 2, 1, 0, 1, 0, 1, 2, 0, 1, 2, 0, 0, 0, 0, 0, 0, 2, 0, 0, 0, 1, 0, 0, 0, 0, 0, 0, 0, 0, 1, 0, 0, 0, 0, 0, 1, 0, 0, 0, 0, 0, 0, 0, 1, 0, 0, 1, 0, 0, 0, 0, 0, 0, 0, 0, 1, 0, 0, 0, 0, 0, 0, 0, 0, 0, 1, 0, 1, 0, 0, 1, 1, 0, 1, 0, 0, 0, 1, 2, 0, 1, 0, 0, 0, 0, 0, 0, 0, 1, 0, 0, 0, 0, 0, 0, 0, 1, 0, 1, 0, 0, 0, 0, 0, 0, 0, 0, 0, 0, 0, 0, 1, 2, 0, 0, 0, 0, 1, 1, 1, 2, 0, 1, 0, 1, 2, 1, 1, 1, 0, 2, 2, 1, 2, 4, 0, 4, 2, 0, 2, 2, 0, 0, 4, 2, 0, 1, 1, 1, 0, 2, 1, 5, 0, 0, 0, 0, 0, 0, 2, 0, 1, 1, 1, 1, 0, 3, 1, 1, 1, 1, 0, 1, 0, 2, 1, 0, 0, 0, 1, 0, 1, 0, 1, 1, 2, 4, 2, 0, 0, 1, 0, 2, 2, 0, 0, 1, 1, 1, 1, 0, 1, 1, 2, 1, 1, 2, 0, 2, 0, 1, 4, 0, 2, 0, 0, 2, 4, 3, 3, 2, 2, 2, 6, 5, 3, 0, 2, 7, 3, 8, 6, 11, 9, 11, 17, 8, 11, 7, 6, 8, 6, 27, 11, 11, 6, 15, 6, 11, 10, 13, 8, 20, 12, 14, 11, 15, 10, 5, 12, 10, 4, 6, 10, 10, 6, 3, 4, 7, 7, 3, 5, 5, 6, 8, 3, 2, 7, 2, 3, 6, 3, 1, 1, 4, 1, 4, 7, 4, 4, 3, 3, 2, 4, 2, 2, 3, 6, 1, 3, 3, 3, 2, 2, 1, 2, 3, 5, 4, 1, 4, 2, 0, 2, 7, 2, 5, 1, 4, 2, 0, 2, 1, 1, 4, 1, 0, 5, 0, 0, 3, 1, 1, 2, 1, 0]}],\n",
       "                        {\"template\": {\"data\": {\"bar\": [{\"error_x\": {\"color\": \"#2a3f5f\"}, \"error_y\": {\"color\": \"#2a3f5f\"}, \"marker\": {\"line\": {\"color\": \"#E5ECF6\", \"width\": 0.5}}, \"type\": \"bar\"}], \"barpolar\": [{\"marker\": {\"line\": {\"color\": \"#E5ECF6\", \"width\": 0.5}}, \"type\": \"barpolar\"}], \"carpet\": [{\"aaxis\": {\"endlinecolor\": \"#2a3f5f\", \"gridcolor\": \"white\", \"linecolor\": \"white\", \"minorgridcolor\": \"white\", \"startlinecolor\": \"#2a3f5f\"}, \"baxis\": {\"endlinecolor\": \"#2a3f5f\", \"gridcolor\": \"white\", \"linecolor\": \"white\", \"minorgridcolor\": \"white\", \"startlinecolor\": \"#2a3f5f\"}, \"type\": \"carpet\"}], \"choropleth\": [{\"colorbar\": {\"outlinewidth\": 0, \"ticks\": \"\"}, \"type\": \"choropleth\"}], \"contour\": [{\"colorbar\": {\"outlinewidth\": 0, \"ticks\": \"\"}, \"colorscale\": [[0.0, \"#0d0887\"], [0.1111111111111111, \"#46039f\"], [0.2222222222222222, \"#7201a8\"], [0.3333333333333333, \"#9c179e\"], [0.4444444444444444, \"#bd3786\"], [0.5555555555555556, \"#d8576b\"], [0.6666666666666666, \"#ed7953\"], [0.7777777777777778, \"#fb9f3a\"], [0.8888888888888888, \"#fdca26\"], [1.0, \"#f0f921\"]], \"type\": \"contour\"}], \"contourcarpet\": [{\"colorbar\": {\"outlinewidth\": 0, \"ticks\": \"\"}, \"type\": \"contourcarpet\"}], \"heatmap\": [{\"colorbar\": {\"outlinewidth\": 0, \"ticks\": \"\"}, \"colorscale\": [[0.0, \"#0d0887\"], [0.1111111111111111, \"#46039f\"], [0.2222222222222222, \"#7201a8\"], [0.3333333333333333, \"#9c179e\"], [0.4444444444444444, \"#bd3786\"], [0.5555555555555556, \"#d8576b\"], [0.6666666666666666, \"#ed7953\"], [0.7777777777777778, \"#fb9f3a\"], [0.8888888888888888, \"#fdca26\"], [1.0, \"#f0f921\"]], \"type\": \"heatmap\"}], \"heatmapgl\": [{\"colorbar\": {\"outlinewidth\": 0, \"ticks\": \"\"}, \"colorscale\": [[0.0, \"#0d0887\"], [0.1111111111111111, \"#46039f\"], [0.2222222222222222, \"#7201a8\"], [0.3333333333333333, \"#9c179e\"], [0.4444444444444444, \"#bd3786\"], [0.5555555555555556, \"#d8576b\"], [0.6666666666666666, \"#ed7953\"], [0.7777777777777778, \"#fb9f3a\"], [0.8888888888888888, \"#fdca26\"], [1.0, \"#f0f921\"]], \"type\": \"heatmapgl\"}], \"histogram\": [{\"marker\": {\"colorbar\": {\"outlinewidth\": 0, \"ticks\": \"\"}}, \"type\": \"histogram\"}], \"histogram2d\": [{\"colorbar\": {\"outlinewidth\": 0, \"ticks\": \"\"}, \"colorscale\": [[0.0, \"#0d0887\"], [0.1111111111111111, \"#46039f\"], [0.2222222222222222, \"#7201a8\"], [0.3333333333333333, \"#9c179e\"], [0.4444444444444444, \"#bd3786\"], [0.5555555555555556, \"#d8576b\"], [0.6666666666666666, \"#ed7953\"], [0.7777777777777778, \"#fb9f3a\"], [0.8888888888888888, \"#fdca26\"], [1.0, \"#f0f921\"]], \"type\": \"histogram2d\"}], \"histogram2dcontour\": [{\"colorbar\": {\"outlinewidth\": 0, \"ticks\": \"\"}, \"colorscale\": [[0.0, \"#0d0887\"], [0.1111111111111111, \"#46039f\"], [0.2222222222222222, \"#7201a8\"], [0.3333333333333333, \"#9c179e\"], [0.4444444444444444, \"#bd3786\"], [0.5555555555555556, \"#d8576b\"], [0.6666666666666666, \"#ed7953\"], [0.7777777777777778, \"#fb9f3a\"], [0.8888888888888888, \"#fdca26\"], [1.0, \"#f0f921\"]], \"type\": \"histogram2dcontour\"}], \"mesh3d\": [{\"colorbar\": {\"outlinewidth\": 0, \"ticks\": \"\"}, \"type\": \"mesh3d\"}], \"parcoords\": [{\"line\": {\"colorbar\": {\"outlinewidth\": 0, \"ticks\": \"\"}}, \"type\": \"parcoords\"}], \"pie\": [{\"automargin\": true, \"type\": \"pie\"}], \"scatter\": [{\"marker\": {\"colorbar\": {\"outlinewidth\": 0, \"ticks\": \"\"}}, \"type\": \"scatter\"}], \"scatter3d\": [{\"line\": {\"colorbar\": {\"outlinewidth\": 0, \"ticks\": \"\"}}, \"marker\": {\"colorbar\": {\"outlinewidth\": 0, \"ticks\": \"\"}}, \"type\": \"scatter3d\"}], \"scattercarpet\": [{\"marker\": {\"colorbar\": {\"outlinewidth\": 0, \"ticks\": \"\"}}, \"type\": \"scattercarpet\"}], \"scattergeo\": [{\"marker\": {\"colorbar\": {\"outlinewidth\": 0, \"ticks\": \"\"}}, \"type\": \"scattergeo\"}], \"scattergl\": [{\"marker\": {\"colorbar\": {\"outlinewidth\": 0, \"ticks\": \"\"}}, \"type\": \"scattergl\"}], \"scattermapbox\": [{\"marker\": {\"colorbar\": {\"outlinewidth\": 0, \"ticks\": \"\"}}, \"type\": \"scattermapbox\"}], \"scatterpolar\": [{\"marker\": {\"colorbar\": {\"outlinewidth\": 0, \"ticks\": \"\"}}, \"type\": \"scatterpolar\"}], \"scatterpolargl\": [{\"marker\": {\"colorbar\": {\"outlinewidth\": 0, \"ticks\": \"\"}}, \"type\": \"scatterpolargl\"}], \"scatterternary\": [{\"marker\": {\"colorbar\": {\"outlinewidth\": 0, \"ticks\": \"\"}}, \"type\": \"scatterternary\"}], \"surface\": [{\"colorbar\": {\"outlinewidth\": 0, \"ticks\": \"\"}, \"colorscale\": [[0.0, \"#0d0887\"], [0.1111111111111111, \"#46039f\"], [0.2222222222222222, \"#7201a8\"], [0.3333333333333333, \"#9c179e\"], [0.4444444444444444, \"#bd3786\"], [0.5555555555555556, \"#d8576b\"], [0.6666666666666666, \"#ed7953\"], [0.7777777777777778, \"#fb9f3a\"], [0.8888888888888888, \"#fdca26\"], [1.0, \"#f0f921\"]], \"type\": \"surface\"}], \"table\": [{\"cells\": {\"fill\": {\"color\": \"#EBF0F8\"}, \"line\": {\"color\": \"white\"}}, \"header\": {\"fill\": {\"color\": \"#C8D4E3\"}, \"line\": {\"color\": \"white\"}}, \"type\": \"table\"}]}, \"layout\": {\"annotationdefaults\": {\"arrowcolor\": \"#2a3f5f\", \"arrowhead\": 0, \"arrowwidth\": 1}, \"coloraxis\": {\"colorbar\": {\"outlinewidth\": 0, \"ticks\": \"\"}}, \"colorscale\": {\"diverging\": [[0, \"#8e0152\"], [0.1, \"#c51b7d\"], [0.2, \"#de77ae\"], [0.3, \"#f1b6da\"], [0.4, \"#fde0ef\"], [0.5, \"#f7f7f7\"], [0.6, \"#e6f5d0\"], [0.7, \"#b8e186\"], [0.8, \"#7fbc41\"], [0.9, \"#4d9221\"], [1, \"#276419\"]], \"sequential\": [[0.0, \"#0d0887\"], [0.1111111111111111, \"#46039f\"], [0.2222222222222222, \"#7201a8\"], [0.3333333333333333, \"#9c179e\"], [0.4444444444444444, \"#bd3786\"], [0.5555555555555556, \"#d8576b\"], [0.6666666666666666, \"#ed7953\"], [0.7777777777777778, \"#fb9f3a\"], [0.8888888888888888, \"#fdca26\"], [1.0, \"#f0f921\"]], \"sequentialminus\": [[0.0, \"#0d0887\"], [0.1111111111111111, \"#46039f\"], [0.2222222222222222, \"#7201a8\"], [0.3333333333333333, \"#9c179e\"], [0.4444444444444444, \"#bd3786\"], [0.5555555555555556, \"#d8576b\"], [0.6666666666666666, \"#ed7953\"], [0.7777777777777778, \"#fb9f3a\"], [0.8888888888888888, \"#fdca26\"], [1.0, \"#f0f921\"]]}, \"colorway\": [\"#636efa\", \"#EF553B\", \"#00cc96\", \"#ab63fa\", \"#FFA15A\", \"#19d3f3\", \"#FF6692\", \"#B6E880\", \"#FF97FF\", \"#FECB52\"], \"font\": {\"color\": \"#2a3f5f\"}, \"geo\": {\"bgcolor\": \"white\", \"lakecolor\": \"white\", \"landcolor\": \"#E5ECF6\", \"showlakes\": true, \"showland\": true, \"subunitcolor\": \"white\"}, \"hoverlabel\": {\"align\": \"left\"}, \"hovermode\": \"closest\", \"mapbox\": {\"style\": \"light\"}, \"paper_bgcolor\": \"white\", \"plot_bgcolor\": \"#E5ECF6\", \"polar\": {\"angularaxis\": {\"gridcolor\": \"white\", \"linecolor\": \"white\", \"ticks\": \"\"}, \"bgcolor\": \"#E5ECF6\", \"radialaxis\": {\"gridcolor\": \"white\", \"linecolor\": \"white\", \"ticks\": \"\"}}, \"scene\": {\"xaxis\": {\"backgroundcolor\": \"#E5ECF6\", \"gridcolor\": \"white\", \"gridwidth\": 2, \"linecolor\": \"white\", \"showbackground\": true, \"ticks\": \"\", \"zerolinecolor\": \"white\"}, \"yaxis\": {\"backgroundcolor\": \"#E5ECF6\", \"gridcolor\": \"white\", \"gridwidth\": 2, \"linecolor\": \"white\", \"showbackground\": true, \"ticks\": \"\", \"zerolinecolor\": \"white\"}, \"zaxis\": {\"backgroundcolor\": \"#E5ECF6\", \"gridcolor\": \"white\", \"gridwidth\": 2, \"linecolor\": \"white\", \"showbackground\": true, \"ticks\": \"\", \"zerolinecolor\": \"white\"}}, \"shapedefaults\": {\"line\": {\"color\": \"#2a3f5f\"}}, \"ternary\": {\"aaxis\": {\"gridcolor\": \"white\", \"linecolor\": \"white\", \"ticks\": \"\"}, \"baxis\": {\"gridcolor\": \"white\", \"linecolor\": \"white\", \"ticks\": \"\"}, \"bgcolor\": \"#E5ECF6\", \"caxis\": {\"gridcolor\": \"white\", \"linecolor\": \"white\", \"ticks\": \"\"}}, \"title\": {\"x\": 0.05}, \"xaxis\": {\"automargin\": true, \"gridcolor\": \"white\", \"linecolor\": \"white\", \"ticks\": \"\", \"title\": {\"standoff\": 15}, \"zerolinecolor\": \"white\", \"zerolinewidth\": 2}, \"yaxis\": {\"automargin\": true, \"gridcolor\": \"white\", \"linecolor\": \"white\", \"ticks\": \"\", \"title\": {\"standoff\": 15}, \"zerolinecolor\": \"white\", \"zerolinewidth\": 2}}}, \"title\": {\"font\": {\"color\": \"#31326f\", \"size\": 25}, \"text\": \"\\uc131\\ubcc4 \\uc77c\\ubcc4 \\uc0ac\\ub9dd\\uc790 \\uc218 \\uadf8\\ub798\\ud504\"}},\n",
       "                        {\"responsive\": true}\n",
       "                    ).then(function(){\n",
       "                            \n",
       "var gd = document.getElementById('e60c2f8a-fc10-47d0-8996-acc59f9b66b6');\n",
       "var x = new MutationObserver(function (mutations, observer) {{\n",
       "        var display = window.getComputedStyle(gd).display;\n",
       "        if (!display || display === 'none') {{\n",
       "            console.log([gd, 'removed!']);\n",
       "            Plotly.purge(gd);\n",
       "            observer.disconnect();\n",
       "        }}\n",
       "}});\n",
       "\n",
       "// Listen for the removal of the full notebook cells\n",
       "var notebookContainer = gd.closest('#notebook-container');\n",
       "if (notebookContainer) {{\n",
       "    x.observe(notebookContainer, {childList: true});\n",
       "}}\n",
       "\n",
       "// Listen for the clearing of the current output cell\n",
       "var outputEl = gd.closest('.output');\n",
       "if (outputEl) {{\n",
       "    x.observe(outputEl, {childList: true});\n",
       "}}\n",
       "\n",
       "                        })\n",
       "                };\n",
       "                \n",
       "            </script>\n",
       "        </div>\n",
       "</body>\n",
       "</html>"
      ]
     },
     "metadata": {
      "tags": []
     },
     "output_type": "display_data"
    }
   ],
   "source": [
    "male = go.Scatter(x = male['date'], y = male['deceased_cnt'], mode = 'lines', name = 'male')\n",
    "female = go.Scatter(x = female['date'], y = female['deceased_cnt'], mode = 'lines', name = 'female')\n",
    "\n",
    "confirm_data = [male, female]\n",
    "\n",
    "layout = go.Layout(title='성별 일별 사망자 수 그래프', titlefont=dict(size=25, color='#31326f'))\n",
    "\n",
    "fig = go.Figure(data=confirm_data, layout=layout)\n",
    "\n",
    "pyo.iplot(fig)\n"
   ]
  },
  {
   "cell_type": "code",
   "execution_count": null,
   "id": "pediatric-premiere",
   "metadata": {
    "id": "pediatric-premiere"
   },
   "outputs": [],
   "source": []
  },
  {
   "cell_type": "markdown",
   "id": "organized-college",
   "metadata": {},
   "source": [
    "##### 성별에 따른 코로나 회복 기간 분석"
   ]
  },
  {
   "cell_type": "code",
   "execution_count": null,
   "id": "finnish-composition",
   "metadata": {},
   "outputs": [],
   "source": [
    "covid_confirmed_released = PatientInfo[['sex','confirmed_date', 'released_date']]  # 성별과 확진일, 퇴원일만 추출\n",
    "covid_confirmed_released = covid_confirmed_released.dropna()  # 순수히 회복 기간을 추출하기 위해 결측치는 제거"
   ]
  },
  {
   "cell_type": "code",
   "execution_count": null,
   "id": "offensive-roads",
   "metadata": {},
   "outputs": [],
   "source": [
    "# (퇴원일 - 확진일) 계산하여 회복 기간 산출.\n",
    "\n",
    "confirmed = pd.to_datetime(covid_confirmed_released['confirmed_date']) \n",
    "released = pd.to_datetime(covid_confirmed_released['released_date'])\n",
    "recovered = (released - confirmed).dt.days"
   ]
  },
  {
   "cell_type": "code",
   "execution_count": null,
   "id": "saved-links",
   "metadata": {},
   "outputs": [],
   "source": [
    "covid_confirmed_released['recovered_date'] = recovered # 회복 기간 추가\n",
    "sex_recovered = covid_confirmed_released[['sex', 'recovered_date']] # 성별 회복 기간\n",
    "mean = sex_recovered.groupby(sex_recovered['sex']).mean() # 성별 평균 회복 기간"
   ]
  },
  {
   "cell_type": "code",
   "execution_count": null,
   "id": "integrated-backup",
   "metadata": {
    "colab": {
     "base_uri": "https://localhost:8080/",
     "height": 285
    },
    "executionInfo": {
     "elapsed": 939,
     "status": "ok",
     "timestamp": 1617694869238,
     "user": {
      "displayName": "김채윤",
      "photoUrl": "",
      "userId": "18165551071468960066"
     },
     "user_tz": -540
    },
    "id": "UaTAnjRzGcib",
    "outputId": "97756cf0-be41-4c88-d79e-55e28222075f"
   },
   "outputs": [
    {
     "data": {
      "image/png": "[encoded data removed]",
      "text/plain": [
       "<Figure size 432x288 with 1 Axes>"
      ]
     },
     "metadata": {
      "needs_background": "light",
      "tags": []
     },
     "output_type": "display_data"
    }
   ],
   "source": [
    "x = ['Female', 'Male']\n",
    "y = mean['recovered_date']\n",
    "plt.bar(x, y, color = ['yellow', 'green'], align = 'center', width = 0.6)\n",
    "plt.title(\"Recovery time according to gender\", size = 20)\n",
    "for i, v in enumerate(x):\n",
    "    plt.text(v, y[i], y[i],                 # 좌표 (x축 = v, y축 = y[0]..y[1], 표시 = y[0]..y[1])\n",
    "             fontsize = 10, \n",
    "             color='black',\n",
    "             horizontalalignment='center',  # horizontalalignment (left, center, right)\n",
    "             verticalalignment='bottom')    # verticalalignment (top, center, bottom)\n",
    "\n",
    "plt.show()"
   ]
  },
  {
   "cell_type": "code",
   "execution_count": null,
   "id": "activated-badge",
   "metadata": {},
   "outputs": [],
   "source": []
  }
 ],
 "metadata": {
  "colab": {
   "collapsed_sections": [],
   "name": "성별 분석_최유리.ipynb",
   "provenance": []
  },
  "kernelspec": {
   "display_name": "Python 3",
   "language": "python",
   "name": "python3"
  },
  "language_info": {
   "codemirror_mode": {
    "name": "ipython",
    "version": 3
   },
   "file_extension": ".py",
   "mimetype": "text/x-python",
   "name": "python",
   "nbconvert_exporter": "python",
   "pygments_lexer": "ipython3",
   "version": "3.7.1"
  },
  "toc": {
   "base_numbering": 1,
   "nav_menu": {},
   "number_sections": true,
   "sideBar": true,
   "skip_h1_title": false,
   "title_cell": "Table of Contents",
   "title_sidebar": "Contents",
   "toc_cell": false,
   "toc_position": {},
   "toc_section_display": true,
   "toc_window_display": true
  },
  "varInspector": {
   "cols": {
    "lenName": 16,
    "lenType": 16,
    "lenVar": 40
   },
   "kernels_config": {
    "python": {
     "delete_cmd_postfix": "",
     "delete_cmd_prefix": "del ",
     "library": "var_list.py",
     "varRefreshCmd": "print(var_dic_list())"
    },
    "r": {
     "delete_cmd_postfix": ") ",
     "delete_cmd_prefix": "rm(",
     "library": "var_list.r",
     "varRefreshCmd": "cat(var_dic_list()) "
    }
   },
   "types_to_exclude": [
    "module",
    "function",
    "builtin_function_or_method",
    "instance",
    "_Feature"
   ],
   "window_display": false
  }
 },
 "nbformat": 4,
 "nbformat_minor": 5
}
